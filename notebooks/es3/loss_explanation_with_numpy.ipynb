{
  "nbformat": 4,
  "nbformat_minor": 0,
  "metadata": {
    "colab": {
      "provenance": [],
      "authorship_tag": "ABX9TyMtMoewO7b9oRHIFouRk9an",
      "include_colab_link": true
    },
    "kernelspec": {
      "name": "python3",
      "display_name": "Python 3"
    },
    "language_info": {
      "name": "python"
    }
  },
  "cells": [
    {
      "cell_type": "markdown",
      "metadata": {
        "id": "view-in-github",
        "colab_type": "text"
      },
      "source": [
        "<a href=\"https://colab.research.google.com/github/stefanogiagu/corso_AML_2023/blob/main/notebooks/es3/loss_explanation_with_numpy.ipynb\" target=\"_parent\"><img src=\"https://colab.research.google.com/assets/colab-badge.svg\" alt=\"Open In Colab\"/></a>"
      ]
    },
    {
      "cell_type": "code",
      "execution_count": 151,
      "metadata": {
        "id": "9QiBROKVPz5o"
      },
      "outputs": [],
      "source": [
        "import numpy as np\n",
        "import matplotlib.pyplot as plt\n",
        "\n",
        "import torch\n",
        "import torch.nn as nn"
      ]
    },
    {
      "cell_type": "code",
      "source": [
        "batch_size = 10\n",
        "features =100\n",
        "data = 10*np.random.randint(-10,10,size=(batch_size,features))# generate dummy data\n",
        "data = data/np.expand_dims(np.sqrt((data**2).sum(axis=1)),axis=1)"
      ],
      "metadata": {
        "id": "Gf9r8EerQRPw"
      },
      "execution_count": 219,
      "outputs": []
    },
    {
      "cell_type": "code",
      "source": [
        "np.sqrt((data**2).sum(axis=1))"
      ],
      "metadata": {
        "colab": {
          "base_uri": "https://localhost:8080/"
        },
        "id": "vtC-pCN4Ucpo",
        "outputId": "8612fadb-a822-41e5-9380-d57dce6ad36b"
      },
      "execution_count": 220,
      "outputs": [
        {
          "output_type": "execute_result",
          "data": {
            "text/plain": [
              "array([1., 1., 1., 1., 1., 1., 1., 1., 1., 1.])"
            ]
          },
          "metadata": {},
          "execution_count": 220
        }
      ]
    },
    {
      "cell_type": "code",
      "source": [
        "data_paired = data + 0*np.random.randn(batch_size,features)# generate fake paired data: zero noise for a \"trained\" network. High noise for random features"
      ],
      "metadata": {
        "id": "gOz3lcO-Q0pw"
      },
      "execution_count": 221,
      "outputs": []
    },
    {
      "cell_type": "code",
      "source": [],
      "metadata": {
        "id": "1A4pigsBREFA"
      },
      "execution_count": 221,
      "outputs": []
    },
    {
      "cell_type": "code",
      "source": [
        "N = 2 * batch_size\n",
        "mask = np.ones((N, N), dtype=bool)# all ones"
      ],
      "metadata": {
        "id": "e1ru78ULQHiD"
      },
      "execution_count": 222,
      "outputs": []
    },
    {
      "cell_type": "code",
      "source": [
        "np.fill_diagonal(mask,0)# principal diagona, same element(i,i). They are the same.\n",
        "\n",
        "plt.figure()\n",
        "plt.imshow(mask)\n",
        "for i in range(batch_size):\n",
        "    mask[i, batch_size + i] = 0# element at batch size distance (paired)\n",
        "    mask[batch_size + i, i] = 0# element at batch size distance (paired)\n",
        "plt.figure()\n",
        "plt.imshow(mask)"
      ],
      "metadata": {
        "colab": {
          "base_uri": "https://localhost:8080/",
          "height": 530
        },
        "id": "YNciZFLhRbK3",
        "outputId": "a3b2bbe3-b1c8-429c-aef7-6f7218851854"
      },
      "execution_count": 223,
      "outputs": [
        {
          "output_type": "execute_result",
          "data": {
            "text/plain": [
              "<matplotlib.image.AxesImage at 0x7f4f5dd45130>"
            ]
          },
          "metadata": {},
          "execution_count": 223
        },
        {
          "output_type": "display_data",
          "data": {
            "text/plain": [
              "<Figure size 432x288 with 1 Axes>"
            ],
            "image/png": "[encoded data removed]"
          },
          "metadata": {
            "needs_background": "light"
          }
        },
        {
          "output_type": "display_data",
          "data": {
            "text/plain": [
              "<Figure size 432x288 with 1 Axes>"
            ],
            "image/png": "[encoded data removed]"
          },
          "metadata": {
            "needs_background": "light"
          }
        }
      ]
    },
    {
      "cell_type": "code",
      "source": [
        "N = 2 * batch_size"
      ],
      "metadata": {
        "id": "roO91BJ2Rwah"
      },
      "execution_count": 224,
      "outputs": []
    },
    {
      "cell_type": "code",
      "source": [
        "z = np.concatenate((data, data_paired), axis=0)\n",
        "print(z.shape)# concatenetad array over batch size"
      ],
      "metadata": {
        "colab": {
          "base_uri": "https://localhost:8080/"
        },
        "id": "N7fpcq-RSSMl",
        "outputId": "fb6b943b-cc76-4bc2-d299-4e9a7f32040f"
      },
      "execution_count": 225,
      "outputs": [
        {
          "output_type": "stream",
          "name": "stdout",
          "text": [
            "(20, 100)\n"
          ]
        }
      ]
    },
    {
      "cell_type": "code",
      "source": [
        "similarity_f = nn.CosineSimilarity(dim=2)"
      ],
      "metadata": {
        "id": "8SYOBrWASkLr"
      },
      "execution_count": 226,
      "outputs": []
    },
    {
      "cell_type": "code",
      "source": [
        "ztmp = torch.from_numpy(z) # hust to use torch batched version of cosine similarity\n",
        "print(ztmp.unsqueeze(1).shape)\n",
        "print(ztmp.unsqueeze(0).shape)"
      ],
      "metadata": {
        "colab": {
          "base_uri": "https://localhost:8080/"
        },
        "id": "ryS3DR-lTl4g",
        "outputId": "698d97e9-6a7c-4d2d-93a7-d9642f6915c9"
      },
      "execution_count": 227,
      "outputs": [
        {
          "output_type": "stream",
          "name": "stdout",
          "text": [
            "torch.Size([20, 1, 100])\n",
            "torch.Size([1, 20, 100])\n"
          ]
        }
      ]
    },
    {
      "cell_type": "code",
      "source": [
        "sim = similarity_f(ztmp.unsqueeze(1), ztmp.unsqueeze(0)).numpy()"
      ],
      "metadata": {
        "id": "CZqA8lK6TXMI"
      },
      "execution_count": 228,
      "outputs": []
    },
    {
      "cell_type": "code",
      "source": [
        "print(sim.shape)"
      ],
      "metadata": {
        "colab": {
          "base_uri": "https://localhost:8080/"
        },
        "id": "JyHPXcMMT7ti",
        "outputId": "5b9a8e98-ac83-4ec0-d73c-71bc2456ec6d"
      },
      "execution_count": 229,
      "outputs": [
        {
          "output_type": "stream",
          "name": "stdout",
          "text": [
            "(20, 20)\n"
          ]
        }
      ]
    },
    {
      "cell_type": "code",
      "source": [
        "plt.figure()\n",
        "plt.imshow(sim,cmap=\"seismic\",vmax=1,vmin=-1)\n",
        "plt.colorbar()\n",
        "plt.title(\"cosine distance between elemnts\")"
      ],
      "metadata": {
        "colab": {
          "base_uri": "https://localhost:8080/",
          "height": 298
        },
        "id": "4rujCbayT_Gm",
        "outputId": "79cee260-024c-488c-f716-e371da209f5f"
      },
      "execution_count": 230,
      "outputs": [
        {
          "output_type": "execute_result",
          "data": {
            "text/plain": [
              "Text(0.5, 1.0, 'cosine distance between elemnts')"
            ]
          },
          "metadata": {},
          "execution_count": 230
        },
        {
          "output_type": "display_data",
          "data": {
            "text/plain": [
              "<Figure size 432x288 with 2 Axes>"
            ],
            "image/png": "[encoded data removed]"
          },
          "metadata": {
            "needs_background": "light"
          }
        }
      ]
    },
    {
      "cell_type": "code",
      "source": [
        "sim_i_j = np.diag(sim,batch_size)\n",
        "sim_j_i = np.diag(sim, -batch_size)"
      ],
      "metadata": {
        "id": "gf5nAsj2UCY2"
      },
      "execution_count": 209,
      "outputs": []
    },
    {
      "cell_type": "code",
      "source": [
        "#the are the paired ones!!!!\n",
        "print(sim_i_j) # upper diagonal (the dark one)\n",
        "print(sim_j_i) # lower diagonal (the dark one)"
      ],
      "metadata": {
        "colab": {
          "base_uri": "https://localhost:8080/"
        },
        "id": "WQfMiLz3e9aS",
        "outputId": "d89f40dc-c5b2-4b38-c769-4f676c9fd26b"
      },
      "execution_count": 210,
      "outputs": [
        {
          "output_type": "stream",
          "name": "stdout",
          "text": [
            "[ 0.01762815 -0.09457468 -0.24811125  0.03097416  0.08673849 -0.03295691\n",
            " -0.04621197 -0.01792241  0.04543841 -0.06406434]\n",
            "[ 0.01762815 -0.09457468 -0.24811125  0.03097416  0.08673849 -0.03295691\n",
            " -0.04621197 -0.01792241  0.04543841 -0.06406434]\n"
          ]
        }
      ]
    },
    {
      "cell_type": "code",
      "source": [
        "# paired images\n",
        "positive_samples = np.concatenate((sim_i_j, sim_j_i), axis=0).reshape(N, 1)\n",
        "print(positive_samples.shape)"
      ],
      "metadata": {
        "colab": {
          "base_uri": "https://localhost:8080/"
        },
        "id": "sVTXQ8Cye_Cx",
        "outputId": "2bff49b5-8814-4656-ea1d-51a024296f19"
      },
      "execution_count": 211,
      "outputs": [
        {
          "output_type": "stream",
          "name": "stdout",
          "text": [
            "(20, 1)\n"
          ]
        }
      ]
    },
    {
      "cell_type": "code",
      "source": [
        "#all others. Using the mask we defined before\n",
        "negative_samples = sim[mask].reshape(N, -1)\n",
        "print(negative_samples.shape)"
      ],
      "metadata": {
        "colab": {
          "base_uri": "https://localhost:8080/"
        },
        "id": "sxAmUshjfikC",
        "outputId": "d16ebbb0-82c2-439b-a185-6228e107b338"
      },
      "execution_count": 212,
      "outputs": [
        {
          "output_type": "stream",
          "name": "stdout",
          "text": [
            "(20, 18)\n"
          ]
        }
      ]
    },
    {
      "cell_type": "code",
      "source": [
        "labels = torch.from_numpy(np.array([0]*N)).reshape(-1).numpy()\n",
        "labels.shape"
      ],
      "metadata": {
        "colab": {
          "base_uri": "https://localhost:8080/"
        },
        "id": "vs3JE0q6fwk-",
        "outputId": "3ed7833b-2b8c-440f-dbf4-efd532646219"
      },
      "execution_count": 213,
      "outputs": [
        {
          "output_type": "execute_result",
          "data": {
            "text/plain": [
              "(20,)"
            ]
          },
          "metadata": {},
          "execution_count": 213
        }
      ]
    },
    {
      "cell_type": "code",
      "source": [
        "logits = np.concatenate((positive_samples, negative_samples), axis=1)"
      ],
      "metadata": {
        "id": "2FFkrRzYgAT9"
      },
      "execution_count": 214,
      "outputs": []
    },
    {
      "cell_type": "code",
      "source": [
        "logits.shape"
      ],
      "metadata": {
        "colab": {
          "base_uri": "https://localhost:8080/"
        },
        "id": "RsfCI-nVgVQt",
        "outputId": "c10c3a33-335e-405f-96fb-60bd6b26ac5a"
      },
      "execution_count": 215,
      "outputs": [
        {
          "output_type": "execute_result",
          "data": {
            "text/plain": [
              "(20, 19)"
            ]
          },
          "metadata": {},
          "execution_count": 215
        }
      ]
    },
    {
      "cell_type": "code",
      "source": [
        "criterion = nn.CrossEntropyLoss(reduction=\"sum\")"
      ],
      "metadata": {
        "id": "FNzqRXbngWk0"
      },
      "execution_count": 216,
      "outputs": []
    },
    {
      "cell_type": "code",
      "source": [
        "criterion(torch.from_numpy(logits), torch.from_numpy(labels)).numpy()/N # loss is low for low noise and high for high noise. Exactly what we wanted!!!!!!\n"
      ],
      "metadata": {
        "colab": {
          "base_uri": "https://localhost:8080/"
        },
        "id": "Uu5DMRy6gjYK",
        "outputId": "29794221-88ee-4ab1-a3db-ae7cbcdef235"
      },
      "execution_count": 217,
      "outputs": [
        {
          "output_type": "execute_result",
          "data": {
            "text/plain": [
              "2.982199119917638"
            ]
          },
          "metadata": {},
          "execution_count": 217
        }
      ]
    },
    {
      "cell_type": "code",
      "source": [],
      "metadata": {
        "id": "V_wUYTEGgouc"
      },
      "execution_count": null,
      "outputs": []
    }
  ]
}