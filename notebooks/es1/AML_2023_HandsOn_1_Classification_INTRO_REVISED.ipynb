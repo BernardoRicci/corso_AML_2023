{
  "nbformat": 4,
  "nbformat_minor": 0,
  "metadata": {
    "colab": {
      "provenance": [],
      "authorship_tag": "ABX9TyN+yukePSwLYFEuLvONHuIz",
      "include_colab_link": true
    },
    "kernelspec": {
      "name": "python3",
      "display_name": "Python 3"
    },
    "language_info": {
      "name": "python"
    }
  },
  "cells": [
    {
      "cell_type": "markdown",
      "metadata": {
        "id": "view-in-github",
        "colab_type": "text"
      },
      "source": [
        "<a href=\"https://colab.research.google.com/github/stefanogiagu/corso_AML_2023/blob/main/notebooks/es1/AML_2023_HandsOn_1_Classification_INTRO_REVISED.ipynb\" target=\"_parent\"><img src=\"https://colab.research.google.com/assets/colab-badge.svg\" alt=\"Open In Colab\"/></a>"
      ]
    },
    {
      "cell_type": "markdown",
      "source": [
        "# First HandsOn !\n",
        "In this HandsOn we will recap the basics of pyTorch with a simple classification task\n",
        "\n",
        "Slide for the day with the Task Description ([SLIDE](https://docs.google.com/presentation/d/1DCZn-I8bXQ_awkmR6I6u9be4MCHB0ljWTxBL9koOsXo/edit?usp=sharing))\n",
        "\n",
        "Jamboard for the day ([BOARD](https://jamboard.google.com/d/1n694UZc-sQK2AZnI4RX88d-hoPytOPo_-5wnt3Bwlbc/edit?usp=sharing))\n",
        "\n",
        "At the end of the lesson, I will put them as a pdf on the github"
      ],
      "metadata": {
        "id": "Vc27WTxo1IH0"
      }
    },
    {
      "cell_type": "markdown",
      "source": [
        "# Connect your drive!"
      ],
      "metadata": {
        "id": "D3MrmZxh1z9M"
      }
    },
    {
      "cell_type": "code",
      "execution_count": 1,
      "metadata": {
        "id": "G3_Mxb_zqvTp",
        "colab": {
          "base_uri": "https://localhost:8080/"
        },
        "outputId": "543ba540-b2c4-43ea-c0a7-7aab9591f2e9"
      },
      "outputs": [
        {
          "output_type": "stream",
          "name": "stdout",
          "text": [
            "Mounted at /content/gdrive/\n"
          ]
        }
      ],
      "source": [
        "from google.colab import drive\n",
        "\n",
        "drive.mount('/content/gdrive/', force_remount=True)"
      ]
    },
    {
      "cell_type": "markdown",
      "source": [
        "# Go to the RiNNgs folder!\n",
        "use the command \"cd\" to  change directory\n",
        "\n",
        "\n",
        "```\n",
        "cd \"directory\"\n",
        "```\n",
        "\n",
        "\n",
        "then use \"ls\" (list) to show the files in the folder\n",
        "\n",
        "## Are you in the correct directory?\n"
      ],
      "metadata": {
        "id": "1KHTVfZW174G"
      }
    },
    {
      "cell_type": "code",
      "source": [
        "cd /content/gdrive/MyDrive/RiNNgs # this one may be different from mine"
      ],
      "metadata": {
        "id": "oBIaQZ0fsIEe",
        "colab": {
          "base_uri": "https://localhost:8080/"
        },
        "outputId": "4350867d-9676-447f-9c19-1231a6c8c160"
      },
      "execution_count": 2,
      "outputs": [
        {
          "output_type": "stream",
          "name": "stdout",
          "text": [
            "[Errno 2] No such file or directory: '/content/gdrive/MyDrive/RiNNgs # this one may be different from mine'\n",
            "/content\n"
          ]
        }
      ]
    },
    {
      "cell_type": "markdown",
      "source": [
        "# What's in the directory you are in?\n",
        "\n"
      ],
      "metadata": {
        "id": "upQmA7_62NnN"
      }
    },
    {
      "cell_type": "code",
      "source": [
        "ls"
      ],
      "metadata": {
        "id": "EazN_73MsYQ4",
        "colab": {
          "base_uri": "https://localhost:8080/"
        },
        "outputId": "9a014da1-11f4-4225-cccf-064315e0acea"
      },
      "execution_count": 3,
      "outputs": [
        {
          "output_type": "stream",
          "name": "stdout",
          "text": [
            "\u001b[0m\u001b[01;34mgdrive\u001b[0m/  \u001b[01;34msample_data\u001b[0m/\n"
          ]
        }
      ]
    },
    {
      "cell_type": "code",
      "source": [
        "# we need to get some files from github\n",
        "import os\n",
        "success = os.path.exists(\"./data_preprocess.py\")\n",
        "if not success:\n",
        " \n",
        "  ! wget https://raw.githubusercontent.com/stefanogiagu/corso_AML_2023/main/notebooks/es1/data_preprocess.py"
      ],
      "metadata": {
        "colab": {
          "base_uri": "https://localhost:8080/"
        },
        "id": "B0-1m5mIejsu",
        "outputId": "c2253d31-e94f-49dd-e316-101259149192"
      },
      "execution_count": 4,
      "outputs": [
        {
          "output_type": "stream",
          "name": "stdout",
          "text": [
            "--2023-03-13 09:20:24--  https://raw.githubusercontent.com/stefanogiagu/corso_AML_2023/main/notebooks/es1/data_preprocess.py\n",
            "Resolving raw.githubusercontent.com (raw.githubusercontent.com)... 185.199.108.133, 185.199.109.133, 185.199.110.133, ...\n",
            "Connecting to raw.githubusercontent.com (raw.githubusercontent.com)|185.199.108.133|:443... connected.\n",
            "HTTP request sent, awaiting response... 200 OK\n",
            "Length: 14603 (14K) [text/plain]\n",
            "Saving to: ‘data_preprocess.py’\n",
            "\n",
            "data_preprocess.py  100%[===================>]  14.26K  --.-KB/s    in 0s      \n",
            "\n",
            "2023-03-13 09:20:25 (40.5 MB/s) - ‘data_preprocess.py’ saved [14603/14603]\n",
            "\n"
          ]
        }
      ]
    },
    {
      "cell_type": "code",
      "source": [
        "ls"
      ],
      "metadata": {
        "colab": {
          "base_uri": "https://localhost:8080/"
        },
        "id": "0SC53DivhiGA",
        "outputId": "efb3ac6a-e13e-4424-9265-a5a2eacb4f73"
      },
      "execution_count": 5,
      "outputs": [
        {
          "output_type": "stream",
          "name": "stdout",
          "text": [
            "data_preprocess.py  \u001b[0m\u001b[01;34mgdrive\u001b[0m/  \u001b[01;34msample_data\u001b[0m/\n"
          ]
        }
      ]
    },
    {
      "cell_type": "markdown",
      "source": [
        "# Lets create all the folders needed"
      ],
      "metadata": {
        "id": "3Z6ZhhX-2jBh"
      }
    },
    {
      "cell_type": "code",
      "source": [
        "import os\n",
        "def CreateDir(path):\n",
        "\t# Create a directory if it does not exist\n",
        "\tsuccess = os.path.exists(path)\n",
        "\tif not success:\n",
        "\t\tos.makedirs(path)\n",
        "CreateDir(\"results\")#\n",
        "CreateDir(\"results/display\")\n",
        "CreateDir(\"results/preprocess\")\n",
        "CreateDir(\"data\")"
      ],
      "metadata": {
        "id": "DJdxcqAC2hkl"
      },
      "execution_count": 6,
      "outputs": []
    },
    {
      "cell_type": "code",
      "source": [
        "success = os.path.exists(\"data/event_08011.file\")\n",
        "if not success:\n",
        "  ! wget  https://raw.githubusercontent.com/stefanogiagu/corso_AML_2023/main/notebooks/es1/data/event_08011.file -P data/\n",
        "  ! wget -P data/ https://raw.githubusercontent.com/stefanogiagu/corso_AML_2023/main/notebooks/es1/data/RICH_map_corr_2017.data\n",
        "  ! wget -P data/ https://raw.githubusercontent.com/stefanogiagu/corso_AML_2023/main/notebooks/es1/data/data_08011.json"
      ],
      "metadata": {
        "colab": {
          "base_uri": "https://localhost:8080/"
        },
        "id": "58eY82emgMt6",
        "outputId": "7f32aba8-94d0-47cf-d570-48de510becc7"
      },
      "execution_count": 7,
      "outputs": [
        {
          "output_type": "stream",
          "name": "stdout",
          "text": [
            "--2023-03-13 09:20:25--  https://raw.githubusercontent.com/stefanogiagu/corso_AML_2023/main/notebooks/es1/data/event_08011.file\n",
            "Resolving raw.githubusercontent.com (raw.githubusercontent.com)... 185.199.111.133, 185.199.108.133, 185.199.110.133, ...\n",
            "Connecting to raw.githubusercontent.com (raw.githubusercontent.com)|185.199.111.133|:443... connected.\n",
            "HTTP request sent, awaiting response... 200 OK\n",
            "Length: 375770 (367K) [application/octet-stream]\n",
            "Saving to: ‘data/event_08011.file’\n",
            "\n",
            "\revent_08011.file      0%[                    ]       0  --.-KB/s               \revent_08011.file    100%[===================>] 366.96K  --.-KB/s    in 0.03s   \n",
            "\n",
            "2023-03-13 09:20:25 (10.7 MB/s) - ‘data/event_08011.file’ saved [375770/375770]\n",
            "\n",
            "--2023-03-13 09:20:25--  https://raw.githubusercontent.com/stefanogiagu/corso_AML_2023/main/notebooks/es1/data/RICH_map_corr_2017.data\n",
            "Resolving raw.githubusercontent.com (raw.githubusercontent.com)... 185.199.108.133, 185.199.109.133, 185.199.110.133, ...\n",
            "Connecting to raw.githubusercontent.com (raw.githubusercontent.com)|185.199.108.133|:443... connected.\n",
            "HTTP request sent, awaiting response... 200 OK\n",
            "Length: 38897 (38K) [text/plain]\n",
            "Saving to: ‘data/RICH_map_corr_2017.data’\n",
            "\n",
            "RICH_map_corr_2017. 100%[===================>]  37.99K  --.-KB/s    in 0.003s  \n",
            "\n",
            "2023-03-13 09:20:25 (13.5 MB/s) - ‘data/RICH_map_corr_2017.data’ saved [38897/38897]\n",
            "\n",
            "--2023-03-13 09:20:25--  https://raw.githubusercontent.com/stefanogiagu/corso_AML_2023/main/notebooks/es1/data/data_08011.json\n",
            "Resolving raw.githubusercontent.com (raw.githubusercontent.com)... 185.199.108.133, 185.199.109.133, 185.199.110.133, ...\n",
            "Connecting to raw.githubusercontent.com (raw.githubusercontent.com)|185.199.108.133|:443... connected.\n",
            "HTTP request sent, awaiting response... 200 OK\n",
            "Length: 2992001 (2.9M) [text/plain]\n",
            "Saving to: ‘data/data_08011.json’\n",
            "\n",
            "data_08011.json     100%[===================>]   2.85M  --.-KB/s    in 0.07s   \n",
            "\n",
            "2023-03-13 09:20:25 (40.7 MB/s) - ‘data/data_08011.json’ saved [2992001/2992001]\n",
            "\n"
          ]
        }
      ]
    },
    {
      "cell_type": "markdown",
      "source": [
        "# We need to build the dataset.\n",
        "How can we call a python code from a notebook script?\n",
        "\n",
        "Use the command\n",
        "\n",
        "\n",
        "```\n",
        "! python script.py ARG1,ARG2,...,ARGN\n",
        "```\n",
        "\n",
        "to call the \"data_preprocess.py\" that will find the run 0811 and form 16x16 images from it.\n",
        "\n",
        "arguments are \"08011 Conv 16 np_reco 0\"\n",
        "\n",
        "**Ignore all the warnings and the tensorflow calls. This function is doing a lot more than what we need**"
      ],
      "metadata": {
        "id": "giJtVnUQAOBJ"
      }
    },
    {
      "cell_type": "code",
      "source": [
        "! python data_preprocess.py 08011 Conv 16 np_reco 0"
      ],
      "metadata": {
        "id": "MCSz5yNYsrcP",
        "colab": {
          "base_uri": "https://localhost:8080/"
        },
        "outputId": "777c8d2f-439a-47d0-b6c6-e0a5cb4b4f8b"
      },
      "execution_count": 8,
      "outputs": [
        {
          "output_type": "stream",
          "name": "stdout",
          "text": [
            "2023-03-13 09:20:27.454368: I tensorflow/core/platform/cpu_feature_guard.cc:193] This TensorFlow binary is optimized with oneAPI Deep Neural Network Library (oneDNN) to use the following CPU instructions in performance-critical operations:  AVX2 FMA\n",
            "To enable them in other operations, rebuild TensorFlow with the appropriate compiler flags.\n",
            "2023-03-13 09:20:29.700773: W tensorflow/compiler/xla/stream_executor/platform/default/dso_loader.cc:64] Could not load dynamic library 'libnvinfer.so.7'; dlerror: libnvinfer.so.7: cannot open shared object file: No such file or directory; LD_LIBRARY_PATH: /usr/local/nvidia/lib:/usr/local/nvidia/lib64\n",
            "2023-03-13 09:20:29.700971: W tensorflow/compiler/xla/stream_executor/platform/default/dso_loader.cc:64] Could not load dynamic library 'libnvinfer_plugin.so.7'; dlerror: libnvinfer_plugin.so.7: cannot open shared object file: No such file or directory; LD_LIBRARY_PATH: /usr/local/nvidia/lib:/usr/local/nvidia/lib64\n",
            "2023-03-13 09:20:29.700997: W tensorflow/compiler/tf2tensorrt/utils/py_utils.cc:38] TF-TRT Warning: Cannot dlopen some TensorRT libraries. If you would like to use Nvidia GPU with TensorRT, please make sure the missing libraries mentioned above are installed properly.\n",
            "*************************\n",
            "*  Data Pre-Processing  *\n",
            "*************************\n",
            "Dataset = 08011\n",
            "Model   = Conv\n",
            "Size    = 16\n",
            "Label   = np_reco\n",
            "Shuffle = 0\n",
            "Getting data for label np_reco\n",
            "Loading data/data_08011.json\n",
            " 20000 items in list hitlist\n",
            " 20000 items in list np_track\n",
            " 20000 items in list np_reco\n",
            " 20000 items in list np_gpu\n",
            " 20000 items in list ne_eop\n",
            " 20000 items in list ne_track\n",
            " 20000 items in list ne_reco\n",
            " 20000 items in list ne_gpu\n",
            "Processing selected label (np_reco)\n",
            "Example data\n",
            "*************\n",
            "Event      0\n",
            "*************\n",
            "   hitlist: ['1499', '1308', '1384', '1026', '1956', '1990', '1685', '1710', '310', '305', '177', '136', '244', '37', '79', '776', '718', '667', '670', '711', '713', '716', '747', '753', '748', '754', '751', '568', '569', '574', '636', '571', '594', '599', '631', '1458']\n",
            "  np_track: 1\n",
            "   np_reco: 2\n",
            "    np_gpu: -1\n",
            "    ne_eop: 0\n",
            "  ne_track: 2\n",
            "   ne_reco: 1\n",
            "    ne_gpu: -1\n",
            "Array\n",
            "[1499. 1308. 1384. 1026. 1956. 1990. 1685. 1710.  310.  305.  177.  136.\n",
            "  244.   37.   79.  776.  718.  667.  670.  711.  713.  716.  747.  753.\n",
            "  748.  754.  751.  568.  569.  574.  636.  571.  594.  599.  631. 1458.\n",
            "    0.    0.    0.    0.    0.    0.    0.    0.    0.    0.    0.    0.\n",
            "    0.    0.    0.    0.    0.    0.    0.    0.    0.    0.    0.    0.\n",
            "    0.    0.    0.    0.]\n",
            "Feature preprocessed\n",
            "[1499. 1308. 1384. 1026. 1956. 1990. 1685. 1710.  310.  305.  177.  136.\n",
            "  244.   37.   79.  776.  718.  667.  670.  711.  713.  716.  747.  753.\n",
            "  748.  754.  751.  568.  569.  574.  636.  571.  594.  599.  631. 1458.\n",
            "    0.    0.    0.    0.    0.    0.    0.    0.    0.    0.    0.    0.\n",
            "    0.    0.    0.    0.    0.    0.    0.    0.    0.    0.    0.    0.\n",
            "    0.    0.    0.    0.]\n",
            "<class 'numpy.ndarray'>\n",
            "(20000, 64)\n",
            "<class 'numpy.ndarray'>\n",
            "(20000, 4)\n",
            "X_SHAPE\n",
            "(20000, 64)\n",
            "X_SHAPE[0]\n",
            "20000\n",
            "Y_SHAPE\n",
            "(20000, 4)\n",
            "Preprocessing data from dataset 08011 for model Convof size  16\n",
            "Image 16 x 16  = 256 pixels\n",
            "X  max 150.050  min -493.980  range 644.030 bin 40.252 \n",
            "Y  max 286.740  min -316.140  range 602.880 bin 37.680 \n",
            "FILE MAP: data/RICH_map_corr_2017.data\n",
            "[ 114.05  105.05  114.05 ... -484.98 -493.98  -79.98]\n",
            "[ 135.92  120.34  104.75 ...  -87.38 -102.97 -102.97]\n",
            "[   0    1    2 ... 2022 2023 2031]\n",
            "[0.94410198 0.93012748 0.94410198 ... 0.0139745  0.         0.6428272 ]\n",
            "[0.74983413 0.72399151 0.6981323  ... 0.37944533 0.35358612 0.35358612]\n",
            "[14 14 14 ... -1 -1 -1]\n",
            "[11 11 10 ... -1 -1 -1]\n",
            "Imager map ready at results/display/imagerMap_human.txt (human format)\n",
            "Imager map ready at results/display/imagerMap.txt (computer format)\n",
            "processing image      0\n",
            "Images shape:\n",
            "(16, 16)\n",
            "Number of images:\n",
            "20000\n",
            "File results/preprocess/prova16.pdf ready\n",
            "Imager statistics ready at results/display/imagerCounts.txt\n",
            "Validation: X=(20000, 16, 16), y=(20000, 4)\n",
            "Data saved in results/preprocess/\n"
          ]
        }
      ]
    },
    {
      "cell_type": "markdown",
      "source": [
        "# Where are our files?\n",
        "\n",
        "The script will write two files in the results/preprocess folder that we created before.\n",
        "\n",
        "Check if you can find the files and that  *x_all_** is the rigth size (around 40 MB)\n",
        "\n",
        "Use the command\n",
        "\n",
        "\n",
        "```\n",
        "ls -lh \"path\"\n",
        "```\n",
        "\n"
      ],
      "metadata": {
        "id": "9f16XiFJB9bP"
      }
    },
    {
      "cell_type": "code",
      "source": [
        "! ls -lh  results/preprocess/"
      ],
      "metadata": {
        "id": "zmVx_yz3vnsJ",
        "colab": {
          "base_uri": "https://localhost:8080/"
        },
        "outputId": "f30247a3-d07e-43d3-ec5f-6d58b03350c1"
      },
      "execution_count": 9,
      "outputs": [
        {
          "output_type": "stream",
          "name": "stdout",
          "text": [
            "total 40M\n",
            "-rw-r--r-- 1 root root  82K Mar 13 09:20 prova16.pdf\n",
            "-rw-r--r-- 1 root root  40M Mar 13 09:20 x_all_08011.npy\n",
            "-rw-r--r-- 1 root root 313K Mar 13 09:20 y_all_08011.npy\n"
          ]
        }
      ]
    },
    {
      "cell_type": "markdown",
      "source": [
        "# Read the data, check the data format, print an element.\n",
        "\n",
        "\n",
        "*   Load the data with np.load\n",
        "*   Print the data shape\n",
        "*   Check the variable type\n",
        "*   Use plt.matshow() to print an element\n",
        "\n"
      ],
      "metadata": {
        "id": "lhRi7IqxExEp"
      }
    },
    {
      "cell_type": "code",
      "source": [
        "import numpy as np\n",
        "dataset = \"08011\"\n",
        "x_all =  np.load( 'results/preprocess/' + 'x_all_{}.npy'.format(dataset))\n",
        "y_all = np.load('results/preprocess/' + 'y_all_{}.npy'.format(dataset))\n"
      ],
      "metadata": {
        "id": "4U6zPqehCrSs"
      },
      "execution_count": 10,
      "outputs": []
    },
    {
      "cell_type": "code",
      "source": [
        "#PRINT INFO ABOUT THE DATASET\n",
        "#REPLACEME\n",
        "print(x_all.shape)\n",
        "type(x_all[0,0,0])"
      ],
      "metadata": {
        "id": "iMu6kRcoFm6C",
        "colab": {
          "base_uri": "https://localhost:8080/"
        },
        "outputId": "674e89c4-a82c-48d5-f36a-7369f41608d4"
      },
      "execution_count": 11,
      "outputs": [
        {
          "output_type": "stream",
          "name": "stdout",
          "text": [
            "(20000, 16, 16)\n"
          ]
        },
        {
          "output_type": "execute_result",
          "data": {
            "text/plain": [
              "numpy.float64"
            ]
          },
          "metadata": {},
          "execution_count": 11
        }
      ]
    },
    {
      "cell_type": "code",
      "source": [
        "import matplotlib.pyplot as plt\n",
        "to_plot = 10\n",
        "def plot_example(image,lab):\n",
        "  f,ax = plt.subplots(1,1,figsize=(5,5))\n",
        "  ax.matshow(image)\n",
        "  ax.set_title(\"An example of class {}\".format(np.argmax(lab)),fontsize=30)\n",
        "  print(np.unique(image))\n",
        "plot_example(x_all[to_plot,:,:],y_all[to_plot])"
      ],
      "metadata": {
        "id": "iULWnY-eGL9k",
        "colab": {
          "base_uri": "https://localhost:8080/",
          "height": 369
        },
        "outputId": "47554387-0ea1-448f-af86-bd8aee519eb6"
      },
      "execution_count": 12,
      "outputs": [
        {
          "output_type": "stream",
          "name": "stdout",
          "text": [
            "[0. 1. 2.]\n"
          ]
        },
        {
          "output_type": "display_data",
          "data": {
            "text/plain": [
              "<Figure size 360x360 with 1 Axes>"
            ],
            "image/png": "[encoded data removed]"
          },
          "metadata": {
            "needs_background": "light"
          }
        }
      ]
    },
    {
      "cell_type": "markdown",
      "source": [
        "# Plot an histogram of the average intensity per class\n",
        "# A  trick:\n",
        "When you do this kind of data visualization, you are creating a lot of variables. If you wrap your code in a function you will keep the workspace clean."
      ],
      "metadata": {
        "id": "DKFBFZuDIx6s"
      }
    },
    {
      "cell_type": "code",
      "source": [
        "def plot_histo(x_all, y_all):\n",
        "\n",
        "  classes = np.argmax(y_all,axis=1)\n",
        "\n",
        "  intensities = x_all.reshape(x_all.shape[0],-1).mean(axis=1) #[Nelement, 16*16] taking the average over the 2nd dim (axis=1)\n",
        "  print(\"this shoud be [N,1] : \",intensities.shape)\n",
        "\n",
        "\n",
        "  f,ax = plt.subplots(1,1,figsize=(8,8))\n",
        "  for c in [0,1,2,3]:\n",
        "    ax.hist(intensities[classes==c],20,alpha=0.3,label=\"class {}\".format(c),density=True)\n",
        "\n",
        "  ax.set_xlabel(\"intensity\")\n",
        "  ax.legend()\n",
        "\n",
        "plot_histo(x_all, y_all)"
      ],
      "metadata": {
        "id": "WpOI3ML1HG_A",
        "colab": {
          "base_uri": "https://localhost:8080/",
          "height": 514
        },
        "outputId": "26cbae31-f27e-4936-d77f-a315120fb421"
      },
      "execution_count": 13,
      "outputs": [
        {
          "output_type": "stream",
          "name": "stdout",
          "text": [
            "this shoud be [N,1] :  (20000,)\n"
          ]
        },
        {
          "output_type": "display_data",
          "data": {
            "text/plain": [
              "<Figure size 576x576 with 1 Axes>"
            ],
            "image/png": "[encoded data removed]"
          },
          "metadata": {
            "needs_background": "light"
          }
        }
      ]
    },
    {
      "cell_type": "code",
      "source": [
        "# remove the empty images\n",
        "def remove_empty(x_all, y_all):\n",
        "  intensities = x_all.reshape(x_all.shape[0],-1).sum(axis=1)\n",
        "  y_all = y_all[intensities>0]\n",
        "  x_all = x_all[intensities>0]\n",
        "  return x_all, y_all\n",
        "\n",
        "x_all, y_all = remove_empty(x_all, y_all)\n",
        "plot_histo(x_all, y_all)"
      ],
      "metadata": {
        "id": "I4YYz5J3NFR3",
        "colab": {
          "base_uri": "https://localhost:8080/",
          "height": 514
        },
        "outputId": "4932a16a-4a3d-4293-fa0b-6036665880cf"
      },
      "execution_count": 14,
      "outputs": [
        {
          "output_type": "stream",
          "name": "stdout",
          "text": [
            "this shoud be [N,1] :  (18402,)\n"
          ]
        },
        {
          "output_type": "display_data",
          "data": {
            "text/plain": [
              "<Figure size 576x576 with 1 Axes>"
            ],
            "image/png": "[encoded data removed]"
          },
          "metadata": {
            "needs_background": "light"
          }
        }
      ]
    },
    {
      "cell_type": "code",
      "source": [
        "\n",
        "def piechartclasses(y_all):\n",
        "  classes = np.argmax(y_all, axis=1)\n",
        "  c = np.unique(classes)\n",
        "  arr_c = [np.mean(classes==i) for i in c]\n",
        "\n",
        "\n",
        " \n",
        "  # Creating plot\n",
        "  fig = plt.figure(figsize =(10, 7))\n",
        "  plt.pie(arr_c, labels = [\"0 rings\", \"1 ring\", \"2 rings\", \"3+ rings\"])\n",
        " \n",
        "  # show plot\n",
        "  plt.title(\"Class distribution\",fontsize=20)\n",
        "  plt.show()\n",
        "piechartclasses(y_all) "
      ],
      "metadata": {
        "id": "k6FXheUUIwIn",
        "colab": {
          "base_uri": "https://localhost:8080/",
          "height": 432
        },
        "outputId": "98006b0d-c4a1-4f27-e9ef-73d722cb3e6c"
      },
      "execution_count": 15,
      "outputs": [
        {
          "output_type": "display_data",
          "data": {
            "text/plain": [
              "<Figure size 720x504 with 1 Axes>"
            ],
            "image/png": "[encoded data removed]"
          },
          "metadata": {}
        }
      ]
    },
    {
      "cell_type": "code",
      "source": [
        "class Parent():# this is a Class\n",
        "  def __init__(self):\n",
        "    self.name = None\n",
        "    self.introduction= \"Hi,son . \"\n",
        "  def give_name(self,name):# this is a method of Parent class\n",
        "    self.name =name\n",
        "  def speak(self):\n",
        "    if self.name is not None:\n",
        "      print(self.introduction+\"I am {}\".format(self.name))\n",
        "    else:\n",
        "      print(\"give name first\")\n",
        "  \n",
        "class Child(Parent):# this is a child class. It has the same methods of Parent\n",
        "  def __init__(self):# Init is replaced. Everthing else is the same\n",
        "    self.name = None\n",
        "    self.introduction= \"Hi,Mama . \""
      ],
      "metadata": {
        "id": "h-vHTtza_Cv0"
      },
      "execution_count": 16,
      "outputs": []
    },
    {
      "cell_type": "code",
      "source": [
        "mama=Parent()# create a instance of class Parent\n",
        "mama.give_name(\"Marta\")# use a method (give name is a \"function\" inside the class)\n",
        "son=Child()# create a instance of class Child\n",
        "son.give_name(\"Andrea\")# we can use methods from the parent class\n",
        "\n",
        "mama.speak()# He can speak!\n",
        "son.speak()# He also can speak!"
      ],
      "metadata": {
        "colab": {
          "base_uri": "https://localhost:8080/"
        },
        "id": "mqWCcLFT_6_d",
        "outputId": "88da0772-59ce-4074-d5b1-d4065ecf7277"
      },
      "execution_count": 17,
      "outputs": [
        {
          "output_type": "stream",
          "name": "stdout",
          "text": [
            "Hi,son . I am Marta\n",
            "Hi,Mama . I am Andrea\n"
          ]
        }
      ]
    },
    {
      "cell_type": "markdown",
      "source": [
        "# Load images and prepare batches"
      ],
      "metadata": {
        "id": "Kc2yguLUHlMY"
      }
    },
    {
      "cell_type": "code",
      "source": [
        "from torch.utils.data import Dataset, DataLoader\n",
        "import torch\n",
        "import torch.utils.data as data\n",
        "\n",
        "#data augmentation\n",
        "def remove_a_hit(image):\n",
        "  if image.sum()<3:\n",
        "    return image\n",
        "  a,b = np.nonzero(image)\n",
        "  i = np.random.randint(0,len(a))\n",
        "  image[a[i],b[i]] -=1\n",
        "  return image\n",
        "\n",
        "def add_a_hit(image):\n",
        "  image[np.random.randint(0,16),np.random.randint(0,16)] +=1 \n",
        "  return image\n",
        "\n",
        "def flip_hit(image):\n",
        "  if np.random.rand()>0.5:\n",
        "    image= np. fliplr(image)\n",
        "  else:\n",
        "    image= np. flipud(image)\n",
        "  return image\n",
        "\n",
        "def sum_images(image,lab,image2,lab2):\n",
        "  lab=np.argmax(lab)\n",
        "  lab2=np.argmax(lab2)\n",
        "  image = image + image2\n",
        "  lab = lab + lab2\n",
        "  if lab>3:\n",
        "    lab=3\n",
        "  lab_tmp = np.zeros(4)\n",
        "  lab_tmp[lab]=1\n",
        "  \n",
        "  return image,lab_tmp\n",
        "\n",
        "\n",
        "class HitImageGenerator(Dataset):\n",
        "  \n",
        "\n",
        "    def __init__(self, X,y,AUGMENT=False):\n",
        "        self.X = X\n",
        "        self.y = y\n",
        "        self.AUGMENT = AUGMENT\n",
        "\n",
        "    def __len__(self):\n",
        "        return len(self.X)\n",
        "\n",
        "    def __getitem__(self, idx):\n",
        "        image = self.X[idx]\n",
        "        label = self.y[idx]\n",
        "        iclass = np.argmax(label)\n",
        "        #image = (image-image.reshape(-1).mean())/image.reshape(-1).std()\n",
        "\n",
        "        if self.AUGMENT:# a simple data augmentation (only for training)\n",
        "          if iclass >1:\n",
        "            if np.random.rand()>1:# validation shows it may be not helpful so turned off\n",
        "              image = remove_a_hit(image)\n",
        "          if np.random.rand()>1:# validation shows it may be not helpful so turned off\n",
        "            image = add_a_hit(image)\n",
        "          if np.random.rand()>0.5:# this semms helpful\n",
        "            image = flip_hit(image)\n",
        "          if np.random.rand()>0.85:\n",
        "            id2=np.random.randint(len(self.X))\n",
        "            image2 = self.X[id2]\n",
        "            lab2 = self.y[id2]\n",
        "            image, label = sum_images(image,label,image2,lab2)\n",
        "\n",
        "        \n",
        "        image=image/image.sum()# normalization\n",
        "        tensor_image = torch.from_numpy(image).unsqueeze(0).float()\n",
        "        tensor_label = torch.from_numpy(label).float()\n",
        "        return tensor_image, tensor_label\n",
        "\n",
        "class BalancedDataLoader(data.DataLoader):\n",
        "    def __init__(self, dataset, batch_size=1, shuffle=True):\n",
        "        self.dataset = dataset\n",
        "        self.batch_size = batch_size\n",
        "        self.shuffle = shuffle\n",
        "\n",
        "        # If sampler is not provided, create a new one\n",
        "    \n",
        "        # Count the number of samples in each class\n",
        "        class_counts = torch.bincount(torch.tensor(np.argmax(dataset.y,axis=1)))\n",
        "\n",
        "        # Compute the weight of each sample\n",
        "        weights = 1.0 / class_counts[np.argmax(dataset.y,axis=1)]# has the same length on the data array\n",
        "\n",
        "        # Create a sampler that samples each class with equal probability\n",
        "        sampler = torch.utils.data.sampler.WeightedRandomSampler(weights, len(weights))\n",
        "\n",
        "        super().__init__(dataset, batch_size=batch_size, sampler=sampler)\n",
        "\n"
      ],
      "metadata": {
        "id": "wDxssXykpY9K"
      },
      "execution_count": 18,
      "outputs": []
    },
    {
      "cell_type": "code",
      "source": [
        "if 1: #print the augmentation effect\n",
        "  image = x_all[10,:,:]\n",
        "  lab = y_all[10]\n",
        "  plot_example(image,lab)\n",
        "  plot_example(remove_a_hit(image),lab)\n",
        "  plot_example(add_a_hit(image),lab)\n",
        "  plot_example(flip_hit(image),lab)"
      ],
      "metadata": {
        "colab": {
          "base_uri": "https://localhost:8080/",
          "height": 1000
        },
        "id": "JBoH0iAI43hB",
        "outputId": "56fbe896-ad98-487c-b14a-c85d21c20834"
      },
      "execution_count": 19,
      "outputs": [
        {
          "output_type": "stream",
          "name": "stdout",
          "text": [
            "[0. 1. 2.]\n",
            "[0. 1. 2.]\n",
            "[0. 1. 2.]\n",
            "[0. 1. 2.]\n"
          ]
        },
        {
          "output_type": "display_data",
          "data": {
            "text/plain": [
              "<Figure size 360x360 with 1 Axes>"
            ],
            "image/png": "[encoded data removed]"
          },
          "metadata": {
            "needs_background": "light"
          }
        },
        {
          "output_type": "display_data",
          "data": {
            "text/plain": [
              "<Figure size 360x360 with 1 Axes>"
            ],
            "image/png": "[encoded data removed]"
          },
          "metadata": {
            "needs_background": "light"
          }
        },
        {
          "output_type": "display_data",
          "data": {
            "text/plain": [
              "<Figure size 360x360 with 1 Axes>"
            ],
            "image/png": "[encoded data removed]"
          },
          "metadata": {
            "needs_background": "light"
          }
        },
        {
          "output_type": "display_data",
          "data": {
            "text/plain": [
              "<Figure size 360x360 with 1 Axes>"
            ],
            "image/png": "[encoded data removed]"
          },
          "metadata": {
            "needs_background": "light"
          }
        }
      ]
    },
    {
      "cell_type": "code",
      "source": [
        "from sklearn.model_selection import train_test_split\n",
        "# Split data into training and testing sets\n",
        "X_train, X_test, y_train, y_test = train_test_split(x_all, y_all, test_size=0.2, random_state=42)\n",
        "\n",
        "# Split training data into training and validation sets\n",
        "X_train, X_val, y_train, y_val = train_test_split(X_train, y_train, test_size=0.2, random_state=42)\n",
        "\n",
        "# Now you have X_train, y_train, X_val, y_val, X_test, and y_test as your splits\n",
        "\n",
        "\n",
        "# Lets split the dataset\n",
        "\n",
        "train_dataset = HitImageGenerator(X_train,y_train,AUGMENT=True)\n",
        "train_loader = BalancedDataLoader(train_dataset, batch_size=128, shuffle=True)\n",
        "\n",
        "val_dataset = HitImageGenerator(X_val,y_val)\n",
        "val_loader = BalancedDataLoader(val_dataset, batch_size=128, shuffle=False)\n",
        "\n",
        "test_dataset = HitImageGenerator(X_test,y_test)\n",
        "test_loader = DataLoader(test_dataset, batch_size=64, shuffle=False)# no balanced generator for the test"
      ],
      "metadata": {
        "id": "s5VPoy4kHlZr"
      },
      "execution_count": 20,
      "outputs": []
    },
    {
      "cell_type": "code",
      "source": [
        "if 1:#debug to show the dataloader effect\n",
        "  balanced  =[]\n",
        "  notbalanced=[]\n",
        "  tmp_loader = DataLoader(train_dataset, batch_size=64, shuffle=True)\n",
        "  for _,lab in train_loader:\n",
        "    balanced.extend(lab.numpy())\n",
        "  for _,lab in tmp_loader:\n",
        "    notbalanced.extend(lab.numpy())\n",
        "  \n",
        "  piechartclasses(balanced) #with balanced dataloader\n",
        "  piechartclasses(notbalanced) #without balanced dataloader"
      ],
      "metadata": {
        "id": "uFY4bpnQNQ15",
        "colab": {
          "base_uri": "https://localhost:8080/",
          "height": 847
        },
        "outputId": "2dc7dd1b-3de5-40a2-af97-d90fa2e60860"
      },
      "execution_count": 21,
      "outputs": [
        {
          "output_type": "display_data",
          "data": {
            "text/plain": [
              "<Figure size 720x504 with 1 Axes>"
            ],
            "image/png": "[encoded data removed]"
          },
          "metadata": {}
        },
        {
          "output_type": "display_data",
          "data": {
            "text/plain": [
              "<Figure size 720x504 with 1 Axes>"
            ],
            "image/png": "[encoded data removed]"
          },
          "metadata": {}
        }
      ]
    },
    {
      "cell_type": "markdown",
      "source": [],
      "metadata": {
        "id": "EpfcM-tPMmwZ"
      }
    },
    {
      "cell_type": "code",
      "source": [
        "import torch.nn as nn\n",
        "import torch.nn.functional as F\n",
        "\n",
        "\n",
        "class Net(nn.Module):\n",
        "    def __init__(self):\n",
        "        super().__init__()\n",
        "        self.conv1 = nn.Conv2d(1,16, 2)# 4*4 * 32 + 32 N parameter of the first conv layer\n",
        "        self.conv1_1 = nn.Conv2d(16,16, 2)\n",
        "        self.conv1_2 = nn.Conv2d(16,32, 2)\n",
        "        self.pool = nn.MaxPool2d(2, 2)\n",
        "        self.conv2 = nn.Conv2d(32, 32, 2)\n",
        "        self.conv2_1 = nn.Conv2d(32, 64, 2)\n",
        "        self.conv2_2 = nn.Conv2d(64, 64, 2)\n",
        "        self.fc1 = nn.Linear(64 , 64) # 64*64  64\n",
        "        self.fc2 = nn.Linear(64, 64)\n",
        "        self.dpo1 = nn.Dropout(p=0.3)\n",
        "        self.fc3 = nn.Linear(64,4)\n",
        "\n",
        "    def forward(self, x):\n",
        "       \n",
        "       x = self.conv1(x)\n",
        "       x = F.relu(x)\n",
        "       x = self.conv1_1(x)\n",
        "       x = F.relu(x)\n",
        "       x = self.conv1_2(x)\n",
        "       x = F.relu(x)\n",
        "       x = self.pool(x)\n",
        "       x =F.relu(self.conv2(x))\n",
        "       x =F.relu(self.conv2_1(x))\n",
        "       x = self.pool(F.relu(self.conv2_2(x)))\n",
        "       x = torch.flatten(x, 1) # flatten all dimensions except batch\n",
        "       \n",
        "       x = F.relu(self.fc1(x))\n",
        "       x = self.dpo1(x)\n",
        "       x = F.relu(self.fc2(x))\n",
        "       x = self.dpo1(x)\n",
        "       x = self.fc3(x)# the crossentropy loss in pytorch to the softmax for you\n",
        "      \n",
        "\n",
        "       return x\n",
        "\n",
        "\n",
        "model = Net()"
      ],
      "metadata": {
        "id": "rf91t_SQMlnK"
      },
      "execution_count": 22,
      "outputs": []
    },
    {
      "cell_type": "code",
      "source": [
        "import torch.optim as optim\n",
        "\n",
        "criterion = nn.CrossEntropyLoss()# I want to minimize it\n",
        "optimizer = optim.Adam(model.parameters(), lr=0.003)\n",
        "scheduler = optim.lr_scheduler.ExponentialLR(optimizer, gamma=0.95)"
      ],
      "metadata": {
        "id": "VKw2q7uCMr2g"
      },
      "execution_count": 23,
      "outputs": []
    },
    {
      "cell_type": "code",
      "source": [
        "def accuracy(y_pred, y_true):\n",
        "    \"\"\"\n",
        "    Calculates the accuracy of the predicted labels.\n",
        "\n",
        "    Args:\n",
        "        y_pred (torch.Tensor): predicted labels\n",
        "        y_true (torch.Tensor): true labels\n",
        "\n",
        "    Returns:\n",
        "        float: accuracy score\n",
        "    \"\"\"\n",
        "    # Get the predicted class by finding the index of the maximum value along axis 1\n",
        "    y_pred = torch.argmax(y_pred, axis=1)\n",
        "    y_true = torch.argmax(y_true, axis=1)\n",
        "\n",
        "    # Calculate the number of correctly classified examples\n",
        "    correct = (y_pred == y_true).sum().item()\n",
        "\n",
        "    # Calculate the total number of examples\n",
        "    total = len(y_true)\n",
        "\n",
        "    # Calculate the accuracy\n",
        "    acc = correct / total\n",
        "\n",
        "    return acc"
      ],
      "metadata": {
        "id": "NM-vc79EjaAT"
      },
      "execution_count": 24,
      "outputs": []
    },
    {
      "cell_type": "code",
      "source": [
        "# Define the number of epochs and the patience for early stopping\n",
        "num_epochs = 120\n",
        "patience = 20\n",
        "\n",
        "# Initialize the variables for tracking the best validation accuracy and the number of epochs since the best accuracy\n",
        "best_val_acc = 0.0\n",
        "epochs_since_best_val_acc = 0\n",
        "\n",
        "train_curve=[]\n",
        "val_curve=[]\n",
        "lr_curve=[]\n",
        "\n",
        "# Train loop\n",
        "for epoch in range(num_epochs):# the network train on all the elements\n",
        "    # Training\n",
        "    model.train()\n",
        "    tmp_loss = 0\n",
        "    for batch_idx, (data, target) in enumerate(train_loader): # divide the problem in batches\n",
        "        # Forward pass\n",
        "        \n",
        "        \n",
        "        output = model(data)# output will be something [batch,4]\n",
        "        loss = criterion(output, target)\n",
        "\n",
        "        # Backward pass and optimization\n",
        "        optimizer.zero_grad()# clear the previous gradients\n",
        "        loss.backward()# compute gradient of loss\n",
        "        optimizer.step()# update the weigths\n",
        "\n",
        "        tmp_loss += loss.detach().numpy()\n",
        "        \n",
        "    if epoch > 20:\n",
        "     scheduler.step()    \n",
        "\n",
        "    lr_curve.append(optimizer.param_groups[0]['lr'])    \n",
        "    train_curve.append(tmp_loss/len(train_loader))  \n",
        "    # Validation\n",
        "    model.eval() # the validation step do NOT change the parameters\n",
        "    with torch.no_grad():\n",
        "        val_acc = 0.0\n",
        "        val_total = 0\n",
        "        val_loss = 0\n",
        "        for data, target in val_loader:\n",
        "            output = model(data)\n",
        "            val_loss += criterion(output, target).item()\n",
        "            \n",
        "            \n",
        "            val_acc += accuracy(output, target)\n",
        "\n",
        "        val_acc /=  len(val_loader)\n",
        "        val_loss /= len(val_loader)\n",
        "        val_curve.append(val_loss)\n",
        "\n",
        "        print(f\"Epoch {epoch+1}, Validation Loss: {val_loss:.4f}, Validation Accuracy: {val_acc:.4f}, lr: {optimizer.param_groups[0]['lr']:.3e}\")\n",
        "\n",
        "        # Check if the validation accuracy has improved\n",
        "        if val_acc > best_val_acc:\n",
        "            best_val_acc = val_acc\n",
        "            epochs_since_best_val_acc = 0\n",
        "            best_weights = model.state_dict()\n",
        "            torch.save(best_weights, 'results/best_weights.pth')\n",
        "            print(\"Best!\")\n",
        "            best_epoch = epoch\n",
        "        else:\n",
        "            epochs_since_best_val_acc += 1\n",
        "\n",
        "        # Check if early stopping is necessary\n",
        "        if epochs_since_best_val_acc >= patience:\n",
        "            print(\"Early stopping!\")\n",
        "            break\n",
        "\n"
      ],
      "metadata": {
        "id": "CDdYeYaPeYWW",
        "colab": {
          "base_uri": "https://localhost:8080/",
          "height": 1000
        },
        "outputId": "11c99d3c-55ff-46c4-da5a-da22198ca20d"
      },
      "execution_count": 25,
      "outputs": [
        {
          "output_type": "stream",
          "name": "stdout",
          "text": [
            "Epoch 1, Validation Loss: 1.3999, Validation Accuracy: 0.2477, lr: 3.000e-03\n",
            "Best!\n",
            "Epoch 2, Validation Loss: 1.4008, Validation Accuracy: 0.2370, lr: 3.000e-03\n",
            "Epoch 3, Validation Loss: 0.9879, Validation Accuracy: 0.5146, lr: 3.000e-03\n",
            "Best!\n",
            "Epoch 4, Validation Loss: 0.7555, Validation Accuracy: 0.6989, lr: 3.000e-03\n",
            "Best!\n",
            "Epoch 5, Validation Loss: 0.6082, Validation Accuracy: 0.7520, lr: 3.000e-03\n",
            "Best!\n",
            "Epoch 6, Validation Loss: 0.6251, Validation Accuracy: 0.7354, lr: 3.000e-03\n",
            "Epoch 7, Validation Loss: 0.7414, Validation Accuracy: 0.6650, lr: 3.000e-03\n",
            "Epoch 8, Validation Loss: 0.5477, Validation Accuracy: 0.7777, lr: 3.000e-03\n",
            "Best!\n",
            "Epoch 9, Validation Loss: 0.6006, Validation Accuracy: 0.7513, lr: 3.000e-03\n",
            "Epoch 10, Validation Loss: 0.5500, Validation Accuracy: 0.7702, lr: 3.000e-03\n",
            "Epoch 11, Validation Loss: 0.5561, Validation Accuracy: 0.7786, lr: 3.000e-03\n",
            "Best!\n",
            "Epoch 12, Validation Loss: 0.5589, Validation Accuracy: 0.7432, lr: 3.000e-03\n",
            "Epoch 13, Validation Loss: 0.5348, Validation Accuracy: 0.7591, lr: 3.000e-03\n",
            "Epoch 14, Validation Loss: 0.5209, Validation Accuracy: 0.7734, lr: 3.000e-03\n",
            "Epoch 15, Validation Loss: 0.5556, Validation Accuracy: 0.7731, lr: 3.000e-03\n",
            "Epoch 16, Validation Loss: 0.5270, Validation Accuracy: 0.7835, lr: 3.000e-03\n",
            "Best!\n",
            "Epoch 17, Validation Loss: 0.5088, Validation Accuracy: 0.7760, lr: 3.000e-03\n",
            "Epoch 18, Validation Loss: 0.5176, Validation Accuracy: 0.7855, lr: 3.000e-03\n",
            "Best!\n",
            "Epoch 19, Validation Loss: 0.4975, Validation Accuracy: 0.7852, lr: 3.000e-03\n",
            "Epoch 20, Validation Loss: 0.4593, Validation Accuracy: 0.8044, lr: 3.000e-03\n",
            "Best!\n",
            "Epoch 21, Validation Loss: 0.5314, Validation Accuracy: 0.7799, lr: 3.000e-03\n",
            "Epoch 22, Validation Loss: 0.4871, Validation Accuracy: 0.8118, lr: 2.850e-03\n",
            "Best!\n",
            "Epoch 23, Validation Loss: 0.5510, Validation Accuracy: 0.7539, lr: 2.707e-03\n",
            "Epoch 24, Validation Loss: 0.5542, Validation Accuracy: 0.7487, lr: 2.572e-03\n",
            "Epoch 25, Validation Loss: 0.4858, Validation Accuracy: 0.7949, lr: 2.444e-03\n",
            "Epoch 26, Validation Loss: 0.4774, Validation Accuracy: 0.8011, lr: 2.321e-03\n",
            "Epoch 27, Validation Loss: 0.4869, Validation Accuracy: 0.8138, lr: 2.205e-03\n",
            "Best!\n",
            "Epoch 28, Validation Loss: 0.5212, Validation Accuracy: 0.7894, lr: 2.095e-03\n",
            "Epoch 29, Validation Loss: 0.5116, Validation Accuracy: 0.7917, lr: 1.990e-03\n",
            "Epoch 30, Validation Loss: 0.4962, Validation Accuracy: 0.8024, lr: 1.891e-03\n",
            "Epoch 31, Validation Loss: 0.5028, Validation Accuracy: 0.7995, lr: 1.796e-03\n",
            "Epoch 32, Validation Loss: 0.5006, Validation Accuracy: 0.7979, lr: 1.706e-03\n",
            "Epoch 33, Validation Loss: 0.4710, Validation Accuracy: 0.8070, lr: 1.621e-03\n",
            "Epoch 34, Validation Loss: 0.4838, Validation Accuracy: 0.8109, lr: 1.540e-03\n",
            "Epoch 35, Validation Loss: 0.4800, Validation Accuracy: 0.8076, lr: 1.463e-03\n",
            "Epoch 36, Validation Loss: 0.5040, Validation Accuracy: 0.7780, lr: 1.390e-03\n",
            "Epoch 37, Validation Loss: 0.5076, Validation Accuracy: 0.7972, lr: 1.320e-03\n",
            "Epoch 38, Validation Loss: 0.4982, Validation Accuracy: 0.7985, lr: 1.254e-03\n",
            "Epoch 39, Validation Loss: 0.5426, Validation Accuracy: 0.7523, lr: 1.192e-03\n",
            "Epoch 40, Validation Loss: 0.5311, Validation Accuracy: 0.7702, lr: 1.132e-03\n",
            "Epoch 41, Validation Loss: 0.4982, Validation Accuracy: 0.7861, lr: 1.075e-03\n",
            "Epoch 42, Validation Loss: 0.4929, Validation Accuracy: 0.7920, lr: 1.022e-03\n",
            "Epoch 43, Validation Loss: 0.4860, Validation Accuracy: 0.7956, lr: 9.706e-04\n",
            "Epoch 44, Validation Loss: 0.4819, Validation Accuracy: 0.7988, lr: 9.221e-04\n",
            "Epoch 45, Validation Loss: 0.4754, Validation Accuracy: 0.8070, lr: 8.760e-04\n",
            "Epoch 46, Validation Loss: 0.4917, Validation Accuracy: 0.8066, lr: 8.322e-04\n",
            "Epoch 47, Validation Loss: 0.6024, Validation Accuracy: 0.7441, lr: 7.906e-04\n",
            "Early stopping!\n"
          ]
        },
        {
          "output_type": "display_data",
          "data": {
            "text/plain": [
              "<Figure size 432x288 with 2 Axes>"
            ],
            "image/png": "[encoded data removed]"
          },
          "metadata": {
            "needs_background": "light"
          }
        }
      ]
    },
    {
      "cell_type": "code",
      "source": [
        "f,ax = plt.subplots(1,1)\n",
        "ax2 = ax.twinx()\n",
        "ax.plot(train_curve,label=\"train\",color=\"blue\")\n",
        "ax.plot(val_curve,label=\"validation\",color=\"orange\")\n",
        "ax2.axvline(best_epoch,color=\"r\",linestyle=\"--\",label=\"best epoch\")\n",
        "ax.legend(loc=1)\n",
        "ax.set_ylabel(\"Loss\")\n",
        "\n",
        "\n",
        "ax2.plot(lr_curve,\"k--\",label=\"LR\",)\n",
        "ax2.legend(loc=2)\n",
        "plt.xlabel(\"Epochs\")\n",
        "ax2.set_ylabel(\"LR\")\n",
        "ax.set_yscale(\"log\")"
      ],
      "metadata": {
        "colab": {
          "base_uri": "https://localhost:8080/",
          "height": 265
        },
        "id": "7Y6cCPzSUmxy",
        "outputId": "31a9c156-7000-452b-fdd0-1b8e2ce90642"
      },
      "execution_count": 31,
      "outputs": [
        {
          "output_type": "display_data",
          "data": {
            "text/plain": [
              "<Figure size 432x288 with 2 Axes>"
            ],
            "image/png": "[encoded data removed]"
          },
          "metadata": {
            "needs_background": "light"
          }
        }
      ]
    },
    {
      "cell_type": "code",
      "source": [
        "model=Net()\n",
        "model.load_state_dict(torch.load('results/best_weights.pth'))\n",
        "model.eval()"
      ],
      "metadata": {
        "id": "f2gJYemOlIYO",
        "colab": {
          "base_uri": "https://localhost:8080/"
        },
        "outputId": "baaef5c7-90c9-4165-d410-d9b855d9809b"
      },
      "execution_count": 26,
      "outputs": [
        {
          "output_type": "execute_result",
          "data": {
            "text/plain": [
              "Net(\n",
              "  (conv1): Conv2d(1, 16, kernel_size=(2, 2), stride=(1, 1))\n",
              "  (conv1_1): Conv2d(16, 16, kernel_size=(2, 2), stride=(1, 1))\n",
              "  (conv1_2): Conv2d(16, 32, kernel_size=(2, 2), stride=(1, 1))\n",
              "  (pool): MaxPool2d(kernel_size=2, stride=2, padding=0, dilation=1, ceil_mode=False)\n",
              "  (conv2): Conv2d(32, 32, kernel_size=(2, 2), stride=(1, 1))\n",
              "  (conv2_1): Conv2d(32, 64, kernel_size=(2, 2), stride=(1, 1))\n",
              "  (conv2_2): Conv2d(64, 64, kernel_size=(2, 2), stride=(1, 1))\n",
              "  (fc1): Linear(in_features=64, out_features=64, bias=True)\n",
              "  (fc2): Linear(in_features=64, out_features=64, bias=True)\n",
              "  (dpo1): Dropout(p=0.3, inplace=False)\n",
              "  (fc3): Linear(in_features=64, out_features=4, bias=True)\n",
              ")"
            ]
          },
          "metadata": {},
          "execution_count": 26
        }
      ]
    },
    {
      "cell_type": "code",
      "source": [
        "from sklearn.metrics import confusion_matrix,ConfusionMatrixDisplay\n",
        "\n",
        "def test_model(model, test_loader):\n",
        "    model.eval()\n",
        "\n",
        "    y_true = []\n",
        "    y_pred = []\n",
        "\n",
        "    with torch.no_grad():\n",
        "        for inputs, targets in test_loader:\n",
        "            \n",
        "            outputs = model(inputs)\n",
        "            targets = targets.numpy()\n",
        "            outputs = outputs.numpy()\n",
        "\n",
        "            predicted = np.argmax(outputs, 1)\n",
        "            targets = np.argmax(targets , 1)\n",
        "\n",
        "            y_true.extend(targets)\n",
        "            y_pred.extend(predicted)\n",
        "\n",
        "    cm = confusion_matrix(y_true, y_pred,normalize=\"true\")\n",
        "\n",
        "    return np.array(y_true), np.array(y_pred), cm"
      ],
      "metadata": {
        "id": "3o2hWEa2of-e"
      },
      "execution_count": 27,
      "outputs": []
    },
    {
      "cell_type": "code",
      "source": [
        "_,_,cm=test_model(model, test_loader)"
      ],
      "metadata": {
        "id": "DvTuz_ujsT4n"
      },
      "execution_count": 28,
      "outputs": []
    },
    {
      "cell_type": "code",
      "source": [
        "disp = ConfusionMatrixDisplay(confusion_matrix=cm,\n",
        "                              display_labels=[\"0 rings\", \"1 ring\", \"2 rings\", \"3+ rings\"])\n",
        "disp.plot()\n",
        "\n",
        "plt.show()"
      ],
      "metadata": {
        "id": "wwmKpzbesqRd",
        "colab": {
          "base_uri": "https://localhost:8080/",
          "height": 279
        },
        "outputId": "5c749405-03d5-478f-abae-8319ad9ee387"
      },
      "execution_count": 29,
      "outputs": [
        {
          "output_type": "display_data",
          "data": {
            "text/plain": [
              "<Figure size 432x288 with 2 Axes>"
            ],
            "image/png": "[encoded data removed]"
          },
          "metadata": {
            "needs_background": "light"
          }
        }
      ]
    },
    {
      "cell_type": "code",
      "source": [],
      "metadata": {
        "id": "aXgl6Q0KuUtY"
      },
      "execution_count": 29,
      "outputs": []
    }
  ]
}