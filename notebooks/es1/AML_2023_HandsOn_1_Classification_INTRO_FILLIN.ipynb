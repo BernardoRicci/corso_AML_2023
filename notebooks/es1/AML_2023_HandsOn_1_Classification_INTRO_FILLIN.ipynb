{
  "nbformat": 4,
  "nbformat_minor": 0,
  "metadata": {
    "colab": {
      "provenance": [],
      "authorship_tag": "ABX9TyO0yN8sJ5KU+4f9y7FqfJD2",
      "include_colab_link": true
    },
    "kernelspec": {
      "name": "python3",
      "display_name": "Python 3"
    },
    "language_info": {
      "name": "python"
    }
  },
  "cells": [
    {
      "cell_type": "markdown",
      "metadata": {
        "id": "view-in-github",
        "colab_type": "text"
      },
      "source": [
        "<a href=\"https://colab.research.google.com/github/stefanogiagu/corso_AML_2023/blob/main/notebooks/es1/AML_2023_HandsOn_1_Classification_INTRO_FILLIN.ipynb\" target=\"_parent\"><img src=\"https://colab.research.google.com/assets/colab-badge.svg\" alt=\"Open In Colab\"/></a>"
      ]
    },
    {
      "cell_type": "markdown",
      "source": [
        "# First HandsOn !\n",
        "In this HandsOn we will recap the basics of pyTorch with a simple classification task\n",
        "\n",
        "Slide for the day with the Task Description ([SLIDE](https://docs.google.com/presentation/d/1DCZn-I8bXQ_awkmR6I6u9be4MCHB0ljWTxBL9koOsXo/edit?usp=sharing))\n",
        "\n",
        "Jamboard for the day ([BOARD](https://jamboard.google.com/d/1n694UZc-sQK2AZnI4RX88d-hoPytOPo_-5wnt3Bwlbc/edit?usp=sharing))\n",
        "\n",
        "At the end of the lesson, I will put them as a pdf on the github"
      ],
      "metadata": {
        "id": "Vc27WTxo1IH0"
      }
    },
    {
      "cell_type": "markdown",
      "source": [
        "# Connect your drive!"
      ],
      "metadata": {
        "id": "D3MrmZxh1z9M"
      }
    },
    {
      "cell_type": "code",
      "execution_count": null,
      "metadata": {
        "id": "G3_Mxb_zqvTp",
        "colab": {
          "base_uri": "https://localhost:8080/"
        },
        "outputId": "3fac19b8-1d10-45a3-e975-d1a80b79dc7b"
      },
      "outputs": [
        {
          "output_type": "stream",
          "name": "stdout",
          "text": [
            "Mounted at /content/gdrive/\n"
          ]
        }
      ],
      "source": [
        "from google.colab import drive\n",
        "\n",
        "drive.mount('/content/gdrive/', force_remount=True)"
      ]
    },
    {
      "cell_type": "markdown",
      "source": [
        "# Go to the RiNNgs folder!\n",
        "use the command \"cd\" to  change directory\n",
        "\n",
        "\n",
        "```\n",
        "cd \"directory\"\n",
        "```\n",
        "\n",
        "\n",
        "then use \"ls\" (list) to show the files in the folder\n",
        "\n",
        "## Are you in the correct directory?\n"
      ],
      "metadata": {
        "id": "1KHTVfZW174G"
      }
    },
    {
      "cell_type": "code",
      "source": [
        "cd /content/gdrive/MyDrive/RiNNgs # this one may be different from mine"
      ],
      "metadata": {
        "id": "oBIaQZ0fsIEe",
        "colab": {
          "base_uri": "https://localhost:8080/"
        },
        "outputId": "b739d483-e2fc-4a4c-e05b-ed7d23038d36"
      },
      "execution_count": null,
      "outputs": [
        {
          "output_type": "stream",
          "name": "stdout",
          "text": [
            "[Errno 2] No such file or directory: '/content/gdrive/MyDrive/RiNNgs # this one may be different from mine'\n",
            "/content\n"
          ]
        }
      ]
    },
    {
      "cell_type": "markdown",
      "source": [
        "# What's in the directory you are in?\n",
        "\n"
      ],
      "metadata": {
        "id": "upQmA7_62NnN"
      }
    },
    {
      "cell_type": "code",
      "source": [
        "ls"
      ],
      "metadata": {
        "id": "EazN_73MsYQ4",
        "colab": {
          "base_uri": "https://localhost:8080/"
        },
        "outputId": "6194bc35-0267-4b70-f7e3-7850cf12be46"
      },
      "execution_count": null,
      "outputs": [
        {
          "output_type": "stream",
          "name": "stdout",
          "text": [
            "\u001b[0m\u001b[01;34mgdrive\u001b[0m/  \u001b[01;34msample_data\u001b[0m/\n"
          ]
        }
      ]
    },
    {
      "cell_type": "code",
      "source": [
        "# we need to get some files from github\n",
        "import os\n",
        "success = os.path.exists(\"./data_preprocess.py\")\n",
        "if not success:\n",
        " \n",
        "  ! wget https://raw.githubusercontent.com/stefanogiagu/corso_AML_2023/main/notebooks/es1/data_preprocess.py"
      ],
      "metadata": {
        "colab": {
          "base_uri": "https://localhost:8080/"
        },
        "id": "B0-1m5mIejsu",
        "outputId": "e2313bb2-611e-4362-a2ca-3c2eb2dd4358"
      },
      "execution_count": null,
      "outputs": [
        {
          "output_type": "stream",
          "name": "stdout",
          "text": [
            "--2023-03-08 15:51:57--  https://raw.githubusercontent.com/stefanogiagu/corso_AML_2023/main/notebooks/es1/ape62.py\n",
            "Resolving raw.githubusercontent.com (raw.githubusercontent.com)... 185.199.111.133, 185.199.108.133, 185.199.109.133, ...\n",
            "Connecting to raw.githubusercontent.com (raw.githubusercontent.com)|185.199.111.133|:443... connected.\n",
            "HTTP request sent, awaiting response... 200 OK\n",
            "Length: 17101 (17K) [text/plain]\n",
            "Saving to: ‘ape62.py’\n",
            "\n",
            "ape62.py            100%[===================>]  16.70K  --.-KB/s    in 0s      \n",
            "\n",
            "2023-03-08 15:51:57 (44.2 MB/s) - ‘ape62.py’ saved [17101/17101]\n",
            "\n",
            "--2023-03-08 15:51:57--  https://raw.githubusercontent.com/stefanogiagu/corso_AML_2023/main/notebooks/es1/apeml.py\n",
            "Resolving raw.githubusercontent.com (raw.githubusercontent.com)... 185.199.108.133, 185.199.109.133, 185.199.110.133, ...\n",
            "Connecting to raw.githubusercontent.com (raw.githubusercontent.com)|185.199.108.133|:443... connected.\n",
            "HTTP request sent, awaiting response... 200 OK\n",
            "Length: 39099 (38K) [text/plain]\n",
            "Saving to: ‘apeml.py’\n",
            "\n",
            "apeml.py            100%[===================>]  38.18K  --.-KB/s    in 0.004s  \n",
            "\n",
            "2023-03-08 15:51:57 (8.79 MB/s) - ‘apeml.py’ saved [39099/39099]\n",
            "\n",
            "--2023-03-08 15:51:57--  https://raw.githubusercontent.com/stefanogiagu/corso_AML_2023/main/notebooks/es1/apesettings.py\n",
            "Resolving raw.githubusercontent.com (raw.githubusercontent.com)... 185.199.108.133, 185.199.109.133, 185.199.110.133, ...\n",
            "Connecting to raw.githubusercontent.com (raw.githubusercontent.com)|185.199.108.133|:443... connected.\n",
            "HTTP request sent, awaiting response... 200 OK\n",
            "Length: 714 [text/plain]\n",
            "Saving to: ‘apesettings.py’\n",
            "\n",
            "apesettings.py      100%[===================>]     714  --.-KB/s    in 0s      \n",
            "\n",
            "2023-03-08 15:51:57 (15.8 MB/s) - ‘apesettings.py’ saved [714/714]\n",
            "\n",
            "--2023-03-08 15:51:58--  https://raw.githubusercontent.com/stefanogiagu/corso_AML_2023/main/notebooks/es1/data_preprocess.py\n",
            "Resolving raw.githubusercontent.com (raw.githubusercontent.com)... 185.199.110.133, 185.199.109.133, 185.199.108.133, ...\n",
            "Connecting to raw.githubusercontent.com (raw.githubusercontent.com)|185.199.110.133|:443... connected.\n",
            "HTTP request sent, awaiting response... 200 OK\n",
            "Length: 3548 (3.5K) [text/plain]\n",
            "Saving to: ‘data_preprocess.py’\n",
            "\n",
            "data_preprocess.py  100%[===================>]   3.46K  --.-KB/s    in 0s      \n",
            "\n",
            "2023-03-08 15:51:58 (35.4 MB/s) - ‘data_preprocess.py’ saved [3548/3548]\n",
            "\n",
            "--2023-03-08 15:51:58--  https://raw.githubusercontent.com/stefanogiagu/corso_AML_2023/main/notebooks/es1/imager.py\n",
            "Resolving raw.githubusercontent.com (raw.githubusercontent.com)... 185.199.108.133, 185.199.109.133, 185.199.110.133, ...\n",
            "Connecting to raw.githubusercontent.com (raw.githubusercontent.com)|185.199.108.133|:443... connected.\n",
            "HTTP request sent, awaiting response... 200 OK\n",
            "Length: 6391 (6.2K) [text/plain]\n",
            "Saving to: ‘imager.py’\n",
            "\n",
            "imager.py           100%[===================>]   6.24K  --.-KB/s    in 0s      \n",
            "\n",
            "2023-03-08 15:51:58 (39.7 MB/s) - ‘imager.py’ saved [6391/6391]\n",
            "\n"
          ]
        }
      ]
    },
    {
      "cell_type": "code",
      "source": [
        "ls"
      ],
      "metadata": {
        "colab": {
          "base_uri": "https://localhost:8080/"
        },
        "id": "0SC53DivhiGA",
        "outputId": "6250e900-b3b2-4db1-e307-9f342df2ddb4"
      },
      "execution_count": null,
      "outputs": [
        {
          "output_type": "stream",
          "name": "stdout",
          "text": [
            "ape62.py  apesettings.py      \u001b[0m\u001b[01;34mgdrive\u001b[0m/    \u001b[01;34msample_data\u001b[0m/\n",
            "apeml.py  data_preprocess.py  imager.py\n"
          ]
        }
      ]
    },
    {
      "cell_type": "markdown",
      "source": [
        "# Lets create all the folders needed"
      ],
      "metadata": {
        "id": "3Z6ZhhX-2jBh"
      }
    },
    {
      "cell_type": "code",
      "source": [
        "import os\n",
        "def CreateDir(path):\n",
        "\t# Create a directory if it does not exist\n",
        "\tsuccess = os.path.exists(path)\n",
        "\tif not success:\n",
        "\t\tos.makedirs(path)\n",
        "CreateDir(\"results\")#\n",
        "CreateDir(\"results/display\")\n",
        "CreateDir(\"results/preprocess\")\n",
        "CreateDir(\"data\")"
      ],
      "metadata": {
        "id": "DJdxcqAC2hkl"
      },
      "execution_count": null,
      "outputs": []
    },
    {
      "cell_type": "code",
      "source": [
        "success = os.path.exists(\"data/event_08011.file\")\n",
        "if not success:\n",
        "  ! wget  https://raw.githubusercontent.com/stefanogiagu/corso_AML_2023/main/notebooks/es1/data/event_08011.file -P data/\n",
        "  ! wget -P data/ https://raw.githubusercontent.com/stefanogiagu/corso_AML_2023/main/notebooks/es1/data/RICH_map_corr_2017.data\n",
        "  ! wget -P data/ https://raw.githubusercontent.com/stefanogiagu/corso_AML_2023/main/notebooks/es1/data/data_08011.json"
      ],
      "metadata": {
        "colab": {
          "base_uri": "https://localhost:8080/"
        },
        "id": "58eY82emgMt6",
        "outputId": "cb076ed2-5004-4440-a5d1-107529ea1da0"
      },
      "execution_count": null,
      "outputs": [
        {
          "output_type": "stream",
          "name": "stdout",
          "text": [
            "--2023-03-08 15:51:58--  https://raw.githubusercontent.com/stefanogiagu/corso_AML_2023/main/notebooks/es1/data/event_08011.file\n",
            "Resolving raw.githubusercontent.com (raw.githubusercontent.com)... 185.199.108.133, 185.199.109.133, 185.199.110.133, ...\n",
            "Connecting to raw.githubusercontent.com (raw.githubusercontent.com)|185.199.108.133|:443... connected.\n",
            "HTTP request sent, awaiting response... 200 OK\n",
            "Length: 375770 (367K) [application/octet-stream]\n",
            "Saving to: ‘data/event_08011.file’\n",
            "\n",
            "\revent_08011.file      0%[                    ]       0  --.-KB/s               \revent_08011.file    100%[===================>] 366.96K  --.-KB/s    in 0.03s   \n",
            "\n",
            "2023-03-08 15:51:59 (11.7 MB/s) - ‘data/event_08011.file’ saved [375770/375770]\n",
            "\n",
            "--2023-03-08 15:51:59--  https://raw.githubusercontent.com/stefanogiagu/corso_AML_2023/main/notebooks/es1/data/RICH_map_corr_2017.data\n",
            "Resolving raw.githubusercontent.com (raw.githubusercontent.com)... 185.199.109.133, 185.199.111.133, 185.199.110.133, ...\n",
            "Connecting to raw.githubusercontent.com (raw.githubusercontent.com)|185.199.109.133|:443... connected.\n",
            "HTTP request sent, awaiting response... 200 OK\n",
            "Length: 38897 (38K) [text/plain]\n",
            "Saving to: ‘data/RICH_map_corr_2017.data’\n",
            "\n",
            "RICH_map_corr_2017. 100%[===================>]  37.99K  --.-KB/s    in 0.002s  \n",
            "\n",
            "2023-03-08 15:51:59 (15.6 MB/s) - ‘data/RICH_map_corr_2017.data’ saved [38897/38897]\n",
            "\n",
            "--2023-03-08 15:51:59--  https://raw.githubusercontent.com/stefanogiagu/corso_AML_2023/main/notebooks/es1/data/data_08011.json\n",
            "Resolving raw.githubusercontent.com (raw.githubusercontent.com)... 185.199.108.133, 185.199.109.133, 185.199.110.133, ...\n",
            "Connecting to raw.githubusercontent.com (raw.githubusercontent.com)|185.199.108.133|:443... connected.\n",
            "HTTP request sent, awaiting response... 200 OK\n",
            "Length: 2992001 (2.9M) [text/plain]\n",
            "Saving to: ‘data/data_08011.json’\n",
            "\n",
            "data_08011.json     100%[===================>]   2.85M  --.-KB/s    in 0.04s   \n",
            "\n",
            "2023-03-08 15:51:59 (66.3 MB/s) - ‘data/data_08011.json’ saved [2992001/2992001]\n",
            "\n"
          ]
        }
      ]
    },
    {
      "cell_type": "markdown",
      "source": [
        "# We need to build the dataset.\n",
        "How can we call a python code from a notebook script?\n",
        "\n",
        "Use the command\n",
        "\n",
        "\n",
        "```\n",
        "! python script.py ARG1,ARG2,...,ARGN\n",
        "```\n",
        "\n",
        "to call the \"data_preprocess.py\" that will find the run 0811 and form 16x16 images from it.\n",
        "\n",
        "arguments are \"08011 Conv 16 np_reco 0\"\n",
        "\n",
        "**Ignore all the warnings and the tensorflow calls. This function is doing a lot more than what we need**"
      ],
      "metadata": {
        "id": "giJtVnUQAOBJ"
      }
    },
    {
      "cell_type": "code",
      "source": [
        "! python data_preprocess.py 08011 Conv 16 np_reco 0"
      ],
      "metadata": {
        "id": "MCSz5yNYsrcP",
        "colab": {
          "base_uri": "https://localhost:8080/"
        },
        "outputId": "7a6e6489-f4f3-4e60-f238-cc0fe1331ba0"
      },
      "execution_count": null,
      "outputs": [
        {
          "output_type": "stream",
          "name": "stdout",
          "text": [
            "2023-03-08 15:51:59.677956: I tensorflow/core/platform/cpu_feature_guard.cc:193] This TensorFlow binary is optimized with oneAPI Deep Neural Network Library (oneDNN) to use the following CPU instructions in performance-critical operations:  AVX2 FMA\n",
            "To enable them in other operations, rebuild TensorFlow with the appropriate compiler flags.\n",
            "2023-03-08 15:52:01.020261: W tensorflow/compiler/xla/stream_executor/platform/default/dso_loader.cc:64] Could not load dynamic library 'libnvinfer.so.7'; dlerror: libnvinfer.so.7: cannot open shared object file: No such file or directory; LD_LIBRARY_PATH: /usr/local/nvidia/lib:/usr/local/nvidia/lib64\n",
            "2023-03-08 15:52:01.020362: W tensorflow/compiler/xla/stream_executor/platform/default/dso_loader.cc:64] Could not load dynamic library 'libnvinfer_plugin.so.7'; dlerror: libnvinfer_plugin.so.7: cannot open shared object file: No such file or directory; LD_LIBRARY_PATH: /usr/local/nvidia/lib:/usr/local/nvidia/lib64\n",
            "2023-03-08 15:52:01.020380: W tensorflow/compiler/tf2tensorrt/utils/py_utils.cc:38] TF-TRT Warning: Cannot dlopen some TensorRT libraries. If you would like to use Nvidia GPU with TensorRT, please make sure the missing libraries mentioned above are installed properly.\n",
            "---------------\n",
            "/root/rings/hls4ml_cocalc/Rinngs/rinngs/\n",
            "---------------\n",
            "*************************\n",
            "*  Data Pre-Processing  *\n",
            "*************************\n",
            "Dataset = 08011\n",
            "Model   = Conv\n",
            "Size    = 16\n",
            "Label   = np_reco\n",
            "Shuffle = 0\n",
            "Getting data for label np_reco\n",
            "Loading data/data_08011.json\n",
            " 20000 items in list hitlist\n",
            " 20000 items in list np_track\n",
            " 20000 items in list np_reco\n",
            " 20000 items in list np_gpu\n",
            " 20000 items in list ne_eop\n",
            " 20000 items in list ne_track\n",
            " 20000 items in list ne_reco\n",
            " 20000 items in list ne_gpu\n",
            "Processing selected label (np_reco)\n",
            "Example data\n",
            "*************\n",
            "Event      0\n",
            "*************\n",
            "   hitlist: ['1499', '1308', '1384', '1026', '1956', '1990', '1685', '1710', '310', '305', '177', '136', '244', '37', '79', '776', '718', '667', '670', '711', '713', '716', '747', '753', '748', '754', '751', '568', '569', '574', '636', '571', '594', '599', '631', '1458']\n",
            "  np_track: 1\n",
            "   np_reco: 2\n",
            "    np_gpu: -1\n",
            "    ne_eop: 0\n",
            "  ne_track: 2\n",
            "   ne_reco: 1\n",
            "    ne_gpu: -1\n",
            "Array\n",
            "[1499. 1308. 1384. 1026. 1956. 1990. 1685. 1710.  310.  305.  177.  136.\n",
            "  244.   37.   79.  776.  718.  667.  670.  711.  713.  716.  747.  753.\n",
            "  748.  754.  751.  568.  569.  574.  636.  571.  594.  599.  631. 1458.\n",
            "    0.    0.    0.    0.    0.    0.    0.    0.    0.    0.    0.    0.\n",
            "    0.    0.    0.    0.    0.    0.    0.    0.    0.    0.    0.    0.\n",
            "    0.    0.    0.    0.]\n",
            "Feature preprocessed\n",
            "[1499. 1308. 1384. 1026. 1956. 1990. 1685. 1710.  310.  305.  177.  136.\n",
            "  244.   37.   79.  776.  718.  667.  670.  711.  713.  716.  747.  753.\n",
            "  748.  754.  751.  568.  569.  574.  636.  571.  594.  599.  631. 1458.\n",
            "    0.    0.    0.    0.    0.    0.    0.    0.    0.    0.    0.    0.\n",
            "    0.    0.    0.    0.    0.    0.    0.    0.    0.    0.    0.    0.\n",
            "    0.    0.    0.    0.]\n",
            "<class 'numpy.ndarray'>\n",
            "(20000, 64)\n",
            "<class 'numpy.ndarray'>\n",
            "(20000, 4)\n",
            "EventPlot to be implemented\n",
            "EventPrint to be implemented\n",
            "X_SHAPE\n",
            "(20000, 64)\n",
            "X_SHAPE[0]\n",
            "20000\n",
            "Y_SHAPE\n",
            "(20000, 4)\n",
            "Preprocessing data from dataset 08011 for model Convof size  16\n",
            "Image 16 x 16  = 256 pixels\n",
            "X  max 150.050  min -493.980  range 644.030 bin 40.252 \n",
            "Y  max 286.740  min -316.140  range 602.880 bin 37.680 \n",
            "FILE MAP: data/RICH_map_corr_2017.data\n",
            "[ 114.05  105.05  114.05 ... -484.98 -493.98  -79.98]\n",
            "[ 135.92  120.34  104.75 ...  -87.38 -102.97 -102.97]\n",
            "[   0    1    2 ... 2022 2023 2031]\n",
            "[0.94410198 0.93012748 0.94410198 ... 0.0139745  0.         0.6428272 ]\n",
            "[0.74983413 0.72399151 0.6981323  ... 0.37944533 0.35358612 0.35358612]\n",
            "[14 14 14 ... -1 -1 -1]\n",
            "[11 11 10 ... -1 -1 -1]\n",
            "Imager map ready at results/display/imagerMap_human.txt (human format)\n",
            "Imager map ready at results/display/imagerMap.txt (computer format)\n",
            "processing image      0\n",
            "Images shape:\n",
            "(16, 16)\n",
            "Number of images:\n",
            "20000\n",
            "File results/preprocess/prova16.pdf ready\n",
            "Imager statistics ready at results/display/imagerCounts.txt\n",
            "Validation: X=(20000, 16, 16), y=(20000, 4)\n",
            "Data saved in results/preprocess/\n"
          ]
        }
      ]
    },
    {
      "cell_type": "markdown",
      "source": [
        "# Where are our files?\n",
        "\n",
        "The script will write two files in the results/preprocess folder that we created before.\n",
        "\n",
        "Check if you can find the files and that  *x_all_** is the rigth size (around 40 MB)\n",
        "\n",
        "Use the command\n",
        "\n",
        "\n",
        "```\n",
        "ls -lh \"path\"\n",
        "```\n",
        "\n"
      ],
      "metadata": {
        "id": "9f16XiFJB9bP"
      }
    },
    {
      "cell_type": "code",
      "source": [
        "! ls -lh  results/preprocess/"
      ],
      "metadata": {
        "id": "zmVx_yz3vnsJ",
        "colab": {
          "base_uri": "https://localhost:8080/"
        },
        "outputId": "5a004f13-8596-445c-aaee-f7e10e14c687"
      },
      "execution_count": null,
      "outputs": [
        {
          "output_type": "stream",
          "name": "stdout",
          "text": [
            "total 40M\n",
            "-rw-r--r-- 1 root root  82K Mar  8 15:52 prova16.pdf\n",
            "-rw-r--r-- 1 root root  40M Mar  8 15:52 x_all_08011.npy\n",
            "-rw-r--r-- 1 root root 313K Mar  8 15:52 y_all_08011.npy\n"
          ]
        }
      ]
    },
    {
      "cell_type": "markdown",
      "source": [
        "# Read the data, check the data format, print an element.\n",
        "\n",
        "\n",
        "*   Load the data with np.load\n",
        "*   Print the data shape\n",
        "*   Check the variable type\n",
        "*   Use plt.matshow() to print an element\n",
        "\n"
      ],
      "metadata": {
        "id": "lhRi7IqxExEp"
      }
    },
    {
      "cell_type": "code",
      "source": [
        "import numpy as np\n",
        "dataset = \"08011\"\n",
        "x_all =  np.load( 'results/preprocess/' + 'x_all_{}.npy'.format(dataset))\n",
        "y_all = np.load('results/preprocess/' + 'y_all_{}.npy'.format(dataset))\n"
      ],
      "metadata": {
        "id": "4U6zPqehCrSs"
      },
      "execution_count": null,
      "outputs": []
    },
    {
      "cell_type": "code",
      "source": [
        "#PRINT INFO ABOUT THE DATASET\n",
        "#REPLACEME\n",
        "print(x_all.shape)\n",
        "type(x_all[0,0,0])"
      ],
      "metadata": {
        "id": "iMu6kRcoFm6C",
        "colab": {
          "base_uri": "https://localhost:8080/"
        },
        "outputId": "b1d913b2-1de6-4467-9a88-5e83a1ad10c4"
      },
      "execution_count": null,
      "outputs": [
        {
          "output_type": "stream",
          "name": "stdout",
          "text": [
            "(20000, 16, 16)\n"
          ]
        },
        {
          "output_type": "execute_result",
          "data": {
            "text/plain": [
              "numpy.float64"
            ]
          },
          "metadata": {},
          "execution_count": 12
        }
      ]
    },
    {
      "cell_type": "code",
      "source": [
        "import matplotlib.pyplot as plt\n",
        "to_plot = 10\n",
        "f,ax = plt.subplots(1,1,figsize=(5,5))\n",
        "ax.matshow(x_all[to_plot,:,:])\n",
        "ax.set_title(\"An example of class {}\".format(np.argmax(y_all[to_plot])),fontsize=30)"
      ],
      "metadata": {
        "id": "iULWnY-eGL9k",
        "colab": {
          "base_uri": "https://localhost:8080/",
          "height": 369
        },
        "outputId": "1f36dab1-a87a-47e9-c8f3-f1e38bc671de"
      },
      "execution_count": null,
      "outputs": [
        {
          "output_type": "execute_result",
          "data": {
            "text/plain": [
              "Text(0.5, 1.0, 'An example of class 1')"
            ]
          },
          "metadata": {},
          "execution_count": 13
        },
        {
          "output_type": "display_data",
          "data": {
            "text/plain": [
              "<Figure size 360x360 with 1 Axes>"
            ],
            "image/png": "[encoded data removed]"
          },
          "metadata": {
            "needs_background": "light"
          }
        }
      ]
    },
    {
      "cell_type": "markdown",
      "source": [
        "# Plot an histogram of the average intensity per class\n",
        "# A  trick:\n",
        "When you do this kind of data visualization, you are creating a lot of variables. If you wrap your code in a function you will keep the workspace clean."
      ],
      "metadata": {
        "id": "DKFBFZuDIx6s"
      }
    },
    {
      "cell_type": "code",
      "source": [
        "def plot_histo(x_all, y_all):\n",
        "\n",
        "  classes = np.argmax(y_all,axis=1)\n",
        "\n",
        "  intensities = x_all.reshape(x_all.shape[0],-1).mean(axis=1) #[Nelement, 16*16] taking the average over the 2nd dim (axis=1)\n",
        "  print(\"this shoud be [N,1] : \",intensities.shape)\n",
        "\n",
        "\n",
        "  f,ax = plt.subplots(1,1,figsize=(8,8))\n",
        "  for c in [0,1,2,3]:\n",
        "    ax.hist(intensities[classes==c],20,alpha=0.3,label=\"class {}\".format(c),density=True)\n",
        "\n",
        "  ax.set_xlabel(\"intensity\")\n",
        "  ax.legend()\n",
        "\n",
        "plot_histo(x_all, y_all)"
      ],
      "metadata": {
        "id": "WpOI3ML1HG_A",
        "colab": {
          "base_uri": "https://localhost:8080/",
          "height": 514
        },
        "outputId": "8c1c29ae-76c1-49aa-dc6e-31ebfbca2c1b"
      },
      "execution_count": null,
      "outputs": [
        {
          "output_type": "stream",
          "name": "stdout",
          "text": [
            "this shoud be [N,1] :  (20000,)\n"
          ]
        },
        {
          "output_type": "display_data",
          "data": {
            "text/plain": [
              "<Figure size 576x576 with 1 Axes>"
            ],
            "image/png": "[encoded data removed]"
          },
          "metadata": {
            "needs_background": "light"
          }
        }
      ]
    },
    {
      "cell_type": "code",
      "source": [
        "# remove the empty images\n",
        "def remove_empty(x_all, y_all):\n",
        "  intensities = x_all.reshape(x_all.shape[0],-1).mean(axis=1)\n",
        "  y_all = y_all[intensities>0]\n",
        "  x_all = x_all[intensities>0]\n",
        "  return x_all, y_all\n",
        "\n",
        "x_all, y_all = remove_empty(x_all, y_all)\n",
        "plot_histo(x_all, y_all)"
      ],
      "metadata": {
        "id": "I4YYz5J3NFR3",
        "colab": {
          "base_uri": "https://localhost:8080/",
          "height": 514
        },
        "outputId": "8b7c8c15-4dcf-4c9b-d3cd-c382d66d2e62"
      },
      "execution_count": null,
      "outputs": [
        {
          "output_type": "stream",
          "name": "stdout",
          "text": [
            "this shoud be [N,1] :  (18402,)\n"
          ]
        },
        {
          "output_type": "display_data",
          "data": {
            "text/plain": [
              "<Figure size 576x576 with 1 Axes>"
            ],
            "image/png": "[encoded data removed]"
          },
          "metadata": {
            "needs_background": "light"
          }
        }
      ]
    },
    {
      "cell_type": "code",
      "source": [
        "\n",
        "def piechartclasses(y_all):\n",
        "  classes = np.argmax(y_all, axis=1)\n",
        "  c = np.unique(classes)\n",
        "  arr_c = [np.mean(classes==i) for i in c]\n",
        "\n",
        "\n",
        " \n",
        "  # Creating plot\n",
        "  fig = plt.figure(figsize =(10, 7))\n",
        "  plt.pie(arr_c, labels = [\"0 rings\", \"1 ring\", \"2 rings\", \"3+ rings\"])\n",
        " \n",
        "  # show plot\n",
        "  plt.title(\"Class distribution\",fontsize=20)\n",
        "  plt.show()\n",
        "piechartclasses(y_all) "
      ],
      "metadata": {
        "id": "k6FXheUUIwIn",
        "colab": {
          "base_uri": "https://localhost:8080/",
          "height": 432
        },
        "outputId": "15d83684-3152-4ced-d099-4e56d2c997bc"
      },
      "execution_count": null,
      "outputs": [
        {
          "output_type": "display_data",
          "data": {
            "text/plain": [
              "<Figure size 720x504 with 1 Axes>"
            ],
            "image/png": "[encoded data removed]"
          },
          "metadata": {}
        }
      ]
    },
    {
      "cell_type": "markdown",
      "source": [
        "# Load images and prepare batches"
      ],
      "metadata": {
        "id": "Kc2yguLUHlMY"
      }
    },
    {
      "cell_type": "code",
      "source": [
        "from torch.utils.data import Dataset, DataLoader\n",
        "import torch\n",
        "import torch.utils.data as data\n",
        "\n",
        "\n",
        "class HitImageGenerator(Dataset):\n",
        "  \n",
        "\n",
        "    def __init__(self, X,y):\n",
        "        self.X = X\n",
        "        self.y = y\n",
        "\n",
        "    def __len__(self):\n",
        "        return len(self.X)\n",
        "\n",
        "    def __getitem__(self, idx):\n",
        "        image = self.X[idx]\n",
        "        label = self.y[idx]\n",
        "        #image = (image-image.reshape(-1).mean())/image.reshape(-1).std()\n",
        "        image=image/image.sum()\n",
        "        tensor_image = torch.from_numpy(image).unsqueeze(0).float()\n",
        "        tensor_label = torch.from_numpy(label).float()\n",
        "        return tensor_image, tensor_label\n",
        "\n",
        "class BalancedDataLoader(data.DataLoader):\n",
        "    def __init__(self, dataset, batch_size=1, shuffle=True):\n",
        "        self.dataset = dataset\n",
        "        self.batch_size = batch_size\n",
        "        self.shuffle = shuffle\n",
        "\n",
        "        # If sampler is not provided, create a new one\n",
        "    \n",
        "        # Count the number of samples in each class\n",
        "        class_counts = torch.bincount(torch.tensor(np.argmax(dataset.y,axis=1)))\n",
        "\n",
        "        # Compute the weight of each sample\n",
        "        weights = 1.0 / class_counts[np.argmax(dataset.y,axis=1)]# has the same length on the data array\n",
        "\n",
        "        # Create a sampler that samples each class with equal probability\n",
        "        sampler = torch.utils.data.sampler.WeightedRandomSampler(weights, len(weights))\n",
        "\n",
        "        super().__init__(dataset, batch_size=batch_size, sampler=sampler)\n",
        "\n"
      ],
      "metadata": {
        "id": "wDxssXykpY9K"
      },
      "execution_count": null,
      "outputs": []
    },
    {
      "cell_type": "code",
      "source": [
        "from sklearn.model_selection import train_test_split\n",
        "# Split data into training and testing sets\n",
        "X_train, X_test, y_train, y_test = train_test_split(x_all, y_all, test_size=0.2, random_state=42)\n",
        "\n",
        "# Split training data into training and validation sets\n",
        "X_train, X_val, y_train, y_val = train_test_split(X_train, y_train, test_size=0.2, random_state=42)\n",
        "\n",
        "# Now you have X_train, y_train, X_val, y_val, X_test, and y_test as your splits\n",
        "\n",
        "\n",
        "# Lets split the dataset\n",
        "\n",
        "train_dataset = HitImageGenerator(X_train,y_train)\n",
        "train_loader = BalancedDataLoader(train_dataset, batch_size=64, shuffle=True)\n",
        "\n",
        "val_dataset = HitImageGenerator(X_val,y_val)\n",
        "val_loader = BalancedDataLoader(val_dataset, batch_size=64, shuffle=False)\n",
        "\n",
        "test_dataset = HitImageGenerator(X_test,y_test)\n",
        "test_loader = DataLoader(test_dataset, batch_size=64, shuffle=False)# no balanced generator for the test"
      ],
      "metadata": {
        "id": "s5VPoy4kHlZr"
      },
      "execution_count": null,
      "outputs": []
    },
    {
      "cell_type": "code",
      "source": [],
      "metadata": {
        "id": "uFY4bpnQNQ15"
      },
      "execution_count": null,
      "outputs": []
    },
    {
      "cell_type": "markdown",
      "source": [],
      "metadata": {
        "id": "EpfcM-tPMmwZ"
      }
    },
    {
      "cell_type": "code",
      "source": [
        "import torch.nn as nn\n",
        "import torch.nn.functional as F\n",
        "\n",
        "\n",
        "class Net(nn.Module):\n",
        "    def __init__(self):\n",
        "        super().__init__()\n",
        "        self.conv1 = nn.Conv2d(1,32, 4)# 4*4 * 32 + 32 N parameter of the first conv layer\n",
        "        self.pool = nn.MaxPool2d(2, 2)\n",
        "        self.conv2 = nn.Conv2d(32, 16, 2)\n",
        "        self.fc1 = nn.Linear(16 * 2 * 2, 64) # 64*64  64\n",
        "        self.fc2 = nn.Linear(64, 64)\n",
        "        self.dpo1 = nn.Dropout(p=0.3)\n",
        "        self.fc3 = nn.Linear(64,4)\n",
        "\n",
        "    def forward(self, x):\n",
        "       \n",
        "       x = self.conv1(x)\n",
        "       x = F.relu(x)\n",
        "       x = self.pool(x)\n",
        "       x = self.pool(F.relu(self.conv2(x)))\n",
        "       x = torch.flatten(x, 1) # flatten all dimensions except batch\n",
        "       x = F.relu(self.fc1(x))\n",
        "       x = F.relu(self.fc2(x))\n",
        "       x = self.dpo1(x)\n",
        "       x = self.fc3(x)# the crossentropy loss in pytorch to the softmax for you\n",
        "      \n",
        "\n",
        "       return x\n",
        "\n",
        "\n",
        "model = Net()"
      ],
      "metadata": {
        "id": "rf91t_SQMlnK"
      },
      "execution_count": null,
      "outputs": []
    },
    {
      "cell_type": "code",
      "source": [
        "import torch.optim as optim\n",
        "\n",
        "criterion = nn.CrossEntropyLoss()# I want to minimize it\n",
        "optimizer = optim.Adam(model.parameters(), lr=0.0001)"
      ],
      "metadata": {
        "id": "VKw2q7uCMr2g"
      },
      "execution_count": null,
      "outputs": []
    },
    {
      "cell_type": "code",
      "source": [
        "def accuracy(y_pred, y_true):\n",
        "    \"\"\"\n",
        "    Calculates the accuracy of the predicted labels.\n",
        "\n",
        "    Args:\n",
        "        y_pred (torch.Tensor): predicted labels\n",
        "        y_true (torch.Tensor): true labels\n",
        "\n",
        "    Returns:\n",
        "        float: accuracy score\n",
        "    \"\"\"\n",
        "    # Get the predicted class by finding the index of the maximum value along axis 1\n",
        "    y_pred = torch.argmax(y_pred, axis=1)\n",
        "    y_true = torch.argmax(y_true, axis=1)\n",
        "\n",
        "    # Calculate the number of correctly classified examples\n",
        "    correct = (y_pred == y_true).sum().item()\n",
        "\n",
        "    # Calculate the total number of examples\n",
        "    total = len(y_true)\n",
        "\n",
        "    # Calculate the accuracy\n",
        "    acc = correct / total\n",
        "\n",
        "    return acc"
      ],
      "metadata": {
        "id": "NM-vc79EjaAT"
      },
      "execution_count": null,
      "outputs": []
    },
    {
      "cell_type": "code",
      "source": [
        "# Define the number of epochs and the patience for early stopping\n",
        "num_epochs = 100\n",
        "patience = 15\n",
        "\n",
        "# Initialize the variables for tracking the best validation accuracy and the number of epochs since the best accuracy\n",
        "best_val_acc = 0.0\n",
        "epochs_since_best_val_acc = 0\n",
        "\n",
        "train_curve=[]\n",
        "val_curve=[]\n",
        "\n",
        "# Train loop\n",
        "for epoch in range(num_epochs):# the network train on all the elements\n",
        "    # Training\n",
        "    model.train()\n",
        "    tmp_loss = 0\n",
        "    for batch_idx, (data, target) in enumerate(train_loader): # divide the problem in batches\n",
        "        # Forward pass\n",
        "        \n",
        "        \n",
        "        output = model(data)# output will be something [batch,4]\n",
        "        loss = criterion(output, target)\n",
        "\n",
        "        # Backward pass and optimization\n",
        "        optimizer.zero_grad()# clear the previous gradients\n",
        "        loss.backward()# compute gradient of loss\n",
        "        optimizer.step()# update the weigths\n",
        "        \n",
        "       \n",
        "\n",
        "        tmp_loss += loss.detach().numpy()\n",
        "    train_curve.append(tmp_loss/len(train_loader))  \n",
        "    # Validation\n",
        "    model.eval() # the validation step do NOT change the parameters\n",
        "    with torch.no_grad():\n",
        "        val_acc = 0.0\n",
        "        val_total = 0\n",
        "        val_loss = 0\n",
        "        for data, target in val_loader:\n",
        "            output = model(data)\n",
        "            val_loss += criterion(output, target).item()\n",
        "            \n",
        "            \n",
        "            val_acc += accuracy(output, target)\n",
        "\n",
        "        val_acc /=  len(val_loader)\n",
        "        val_loss /= len(val_loader)\n",
        "        val_curve.append(val_loss)\n",
        "\n",
        "        print(f\"Epoch {epoch+1}, Validation Loss: {val_loss:.4f}, Validation Accuracy: {val_acc:.4f}\")\n",
        "\n",
        "        # Check if the validation accuracy has improved\n",
        "        if val_acc > best_val_acc:\n",
        "            best_val_acc = val_acc\n",
        "            epochs_since_best_val_acc = 0\n",
        "            best_weights = model.state_dict()\n",
        "            torch.save(best_weights, 'results/best_weights.pth')\n",
        "            print(\"Best!\")\n",
        "        else:\n",
        "            epochs_since_best_val_acc += 1\n",
        "\n",
        "        # Check if early stopping is necessary\n",
        "        if epochs_since_best_val_acc >= patience:\n",
        "            print(\"Early stopping!\")\n",
        "            break\n",
        "plt.figure()\n",
        "plt.plot(train_curve,label=\"train\")\n",
        "plt.plot(val_curve,label=\"validation\")\n",
        "plt.legend()\n",
        "plt.xlabel(\"Epochs\")\n",
        "plt.ylabel(\"Loss\")\n",
        "plt.yscale(\"log\")\n"
      ],
      "metadata": {
        "id": "CDdYeYaPeYWW",
        "colab": {
          "base_uri": "https://localhost:8080/",
          "height": 1000
        },
        "outputId": "8b8e9bb1-5ee2-484f-d6f8-ed3ce886eded"
      },
      "execution_count": null,
      "outputs": [
        {
          "output_type": "stream",
          "name": "stdout",
          "text": [
            "Epoch 1, Validation Loss: 1.3867, Validation Accuracy: 0.2430\n",
            "Best!\n",
            "Epoch 2, Validation Loss: 1.3794, Validation Accuracy: 0.3693\n",
            "Best!\n",
            "Epoch 3, Validation Loss: 1.2350, Validation Accuracy: 0.4375\n",
            "Best!\n",
            "Epoch 4, Validation Loss: 1.0577, Validation Accuracy: 0.5562\n",
            "Best!\n",
            "Epoch 5, Validation Loss: 1.0001, Validation Accuracy: 0.6197\n",
            "Best!\n",
            "Epoch 6, Validation Loss: 0.8851, Validation Accuracy: 0.6210\n",
            "Best!\n",
            "Epoch 7, Validation Loss: 0.8606, Validation Accuracy: 0.6536\n",
            "Best!\n",
            "Epoch 8, Validation Loss: 0.8179, Validation Accuracy: 0.6888\n",
            "Best!\n",
            "Epoch 9, Validation Loss: 0.8396, Validation Accuracy: 0.6679\n",
            "Epoch 10, Validation Loss: 0.8330, Validation Accuracy: 0.6705\n",
            "Epoch 11, Validation Loss: 0.8391, Validation Accuracy: 0.6682\n",
            "Epoch 12, Validation Loss: 0.7898, Validation Accuracy: 0.6868\n",
            "Epoch 13, Validation Loss: 0.7884, Validation Accuracy: 0.6795\n",
            "Epoch 14, Validation Loss: 0.7685, Validation Accuracy: 0.6895\n",
            "Best!\n",
            "Epoch 15, Validation Loss: 0.7542, Validation Accuracy: 0.6978\n",
            "Best!\n",
            "Epoch 16, Validation Loss: 0.7869, Validation Accuracy: 0.6705\n",
            "Epoch 17, Validation Loss: 0.7557, Validation Accuracy: 0.6882\n",
            "Epoch 18, Validation Loss: 0.7574, Validation Accuracy: 0.7038\n",
            "Best!\n",
            "Epoch 19, Validation Loss: 0.7253, Validation Accuracy: 0.6968\n",
            "Epoch 20, Validation Loss: 0.7358, Validation Accuracy: 0.7144\n",
            "Best!\n",
            "Epoch 21, Validation Loss: 0.6952, Validation Accuracy: 0.7214\n",
            "Best!\n",
            "Epoch 22, Validation Loss: 0.7100, Validation Accuracy: 0.7074\n",
            "Epoch 23, Validation Loss: 0.7212, Validation Accuracy: 0.6971\n",
            "Epoch 24, Validation Loss: 0.7145, Validation Accuracy: 0.6988\n",
            "Epoch 25, Validation Loss: 0.7190, Validation Accuracy: 0.7045\n",
            "Epoch 26, Validation Loss: 0.7342, Validation Accuracy: 0.6958\n",
            "Epoch 27, Validation Loss: 0.7215, Validation Accuracy: 0.6935\n",
            "Epoch 28, Validation Loss: 0.6732, Validation Accuracy: 0.7164\n",
            "Epoch 29, Validation Loss: 0.7093, Validation Accuracy: 0.6948\n",
            "Epoch 30, Validation Loss: 0.7025, Validation Accuracy: 0.6862\n",
            "Epoch 31, Validation Loss: 0.7007, Validation Accuracy: 0.7254\n",
            "Best!\n",
            "Epoch 32, Validation Loss: 0.6908, Validation Accuracy: 0.7161\n",
            "Epoch 33, Validation Loss: 0.6538, Validation Accuracy: 0.7158\n",
            "Epoch 34, Validation Loss: 0.6786, Validation Accuracy: 0.7211\n",
            "Epoch 35, Validation Loss: 0.6551, Validation Accuracy: 0.7221\n",
            "Epoch 36, Validation Loss: 0.6915, Validation Accuracy: 0.6878\n",
            "Epoch 37, Validation Loss: 0.6759, Validation Accuracy: 0.7011\n",
            "Epoch 38, Validation Loss: 0.6585, Validation Accuracy: 0.7217\n",
            "Epoch 39, Validation Loss: 0.6413, Validation Accuracy: 0.7277\n",
            "Best!\n",
            "Epoch 40, Validation Loss: 0.6561, Validation Accuracy: 0.7134\n",
            "Epoch 41, Validation Loss: 0.6692, Validation Accuracy: 0.7131\n",
            "Epoch 42, Validation Loss: 0.6502, Validation Accuracy: 0.7237\n",
            "Epoch 43, Validation Loss: 0.6462, Validation Accuracy: 0.7194\n",
            "Epoch 44, Validation Loss: 0.6692, Validation Accuracy: 0.7134\n",
            "Epoch 45, Validation Loss: 0.6340, Validation Accuracy: 0.7217\n",
            "Epoch 46, Validation Loss: 0.6858, Validation Accuracy: 0.6958\n",
            "Epoch 47, Validation Loss: 0.6351, Validation Accuracy: 0.7344\n",
            "Best!\n",
            "Epoch 48, Validation Loss: 0.6572, Validation Accuracy: 0.6945\n",
            "Epoch 49, Validation Loss: 0.6167, Validation Accuracy: 0.7387\n",
            "Best!\n",
            "Epoch 50, Validation Loss: 0.6274, Validation Accuracy: 0.7094\n",
            "Epoch 51, Validation Loss: 0.6630, Validation Accuracy: 0.6981\n",
            "Epoch 52, Validation Loss: 0.6078, Validation Accuracy: 0.7327\n",
            "Epoch 53, Validation Loss: 0.5896, Validation Accuracy: 0.7417\n",
            "Best!\n",
            "Epoch 54, Validation Loss: 0.5966, Validation Accuracy: 0.7330\n",
            "Epoch 55, Validation Loss: 0.5689, Validation Accuracy: 0.7394\n",
            "Epoch 56, Validation Loss: 0.6036, Validation Accuracy: 0.7161\n",
            "Epoch 57, Validation Loss: 0.5887, Validation Accuracy: 0.7184\n",
            "Epoch 58, Validation Loss: 0.5575, Validation Accuracy: 0.7417\n",
            "Epoch 59, Validation Loss: 0.5954, Validation Accuracy: 0.7547\n",
            "Best!\n",
            "Epoch 60, Validation Loss: 0.6136, Validation Accuracy: 0.7304\n",
            "Epoch 61, Validation Loss: 0.5637, Validation Accuracy: 0.7676\n",
            "Best!\n",
            "Epoch 62, Validation Loss: 0.5855, Validation Accuracy: 0.7553\n",
            "Epoch 63, Validation Loss: 0.5599, Validation Accuracy: 0.7703\n",
            "Best!\n",
            "Epoch 64, Validation Loss: 0.5618, Validation Accuracy: 0.7606\n",
            "Epoch 65, Validation Loss: 0.5532, Validation Accuracy: 0.7650\n",
            "Epoch 66, Validation Loss: 0.5779, Validation Accuracy: 0.7430\n",
            "Epoch 67, Validation Loss: 0.5738, Validation Accuracy: 0.7344\n",
            "Epoch 68, Validation Loss: 0.7669, Validation Accuracy: 0.7314\n",
            "Epoch 69, Validation Loss: 0.5486, Validation Accuracy: 0.7699\n",
            "Epoch 70, Validation Loss: 0.5481, Validation Accuracy: 0.7640\n",
            "Epoch 71, Validation Loss: 0.5367, Validation Accuracy: 0.7646\n",
            "Epoch 72, Validation Loss: 0.5379, Validation Accuracy: 0.7440\n",
            "Epoch 73, Validation Loss: 0.5564, Validation Accuracy: 0.7527\n",
            "Epoch 74, Validation Loss: 0.5376, Validation Accuracy: 0.7650\n",
            "Epoch 75, Validation Loss: 0.5442, Validation Accuracy: 0.7719\n",
            "Best!\n",
            "Epoch 76, Validation Loss: 0.5217, Validation Accuracy: 0.7663\n",
            "Epoch 77, Validation Loss: 0.5382, Validation Accuracy: 0.7676\n",
            "Epoch 78, Validation Loss: 0.5504, Validation Accuracy: 0.7520\n",
            "Epoch 79, Validation Loss: 0.5545, Validation Accuracy: 0.7370\n",
            "Epoch 80, Validation Loss: 0.5122, Validation Accuracy: 0.7859\n",
            "Best!\n",
            "Epoch 81, Validation Loss: 0.5224, Validation Accuracy: 0.7733\n",
            "Epoch 82, Validation Loss: 0.5258, Validation Accuracy: 0.7753\n",
            "Epoch 83, Validation Loss: 0.5595, Validation Accuracy: 0.7457\n",
            "Epoch 84, Validation Loss: 0.5148, Validation Accuracy: 0.7739\n",
            "Epoch 85, Validation Loss: 0.5404, Validation Accuracy: 0.7703\n",
            "Epoch 86, Validation Loss: 0.5499, Validation Accuracy: 0.7603\n",
            "Epoch 87, Validation Loss: 0.5420, Validation Accuracy: 0.7693\n",
            "Epoch 88, Validation Loss: 0.5222, Validation Accuracy: 0.7723\n",
            "Epoch 89, Validation Loss: 0.5370, Validation Accuracy: 0.7660\n",
            "Epoch 90, Validation Loss: 0.5520, Validation Accuracy: 0.7547\n",
            "Epoch 91, Validation Loss: 0.5442, Validation Accuracy: 0.7460\n",
            "Epoch 92, Validation Loss: 0.5379, Validation Accuracy: 0.7766\n",
            "Epoch 93, Validation Loss: 0.5332, Validation Accuracy: 0.7763\n",
            "Epoch 94, Validation Loss: 0.5187, Validation Accuracy: 0.7759\n",
            "Epoch 95, Validation Loss: 0.5347, Validation Accuracy: 0.7517\n",
            "Early stopping!\n"
          ]
        },
        {
          "output_type": "display_data",
          "data": {
            "text/plain": [
              "<Figure size 432x288 with 1 Axes>"
            ],
            "image/png": "[encoded data removed]"
          },
          "metadata": {
            "needs_background": "light"
          }
        }
      ]
    },
    {
      "cell_type": "code",
      "source": [
        "model=Net()\n",
        "model.load_state_dict(torch.load('results/best_weights.pth'))\n",
        "model.eval()"
      ],
      "metadata": {
        "id": "f2gJYemOlIYO",
        "colab": {
          "base_uri": "https://localhost:8080/"
        },
        "outputId": "34c84609-82ba-407b-887e-5f6baf5a7919"
      },
      "execution_count": null,
      "outputs": [
        {
          "output_type": "execute_result",
          "data": {
            "text/plain": [
              "Net(\n",
              "  (conv1): Conv2d(1, 32, kernel_size=(4, 4), stride=(1, 1))\n",
              "  (pool): MaxPool2d(kernel_size=2, stride=2, padding=0, dilation=1, ceil_mode=False)\n",
              "  (conv2): Conv2d(32, 16, kernel_size=(2, 2), stride=(1, 1))\n",
              "  (fc1): Linear(in_features=64, out_features=64, bias=True)\n",
              "  (fc2): Linear(in_features=64, out_features=64, bias=True)\n",
              "  (dpo1): Dropout(p=0.3, inplace=False)\n",
              "  (fc3): Linear(in_features=64, out_features=4, bias=True)\n",
              ")"
            ]
          },
          "metadata": {},
          "execution_count": 27
        }
      ]
    },
    {
      "cell_type": "code",
      "source": [
        "from sklearn.metrics import confusion_matrix,ConfusionMatrixDisplay\n",
        "\n",
        "def test_model(model, test_loader):\n",
        "    model.eval()\n",
        "\n",
        "    y_true = []\n",
        "    y_pred = []\n",
        "\n",
        "    with torch.no_grad():\n",
        "        for inputs, targets in test_loader:\n",
        "            \n",
        "            outputs = model(inputs)\n",
        "            targets = targets.numpy()\n",
        "            outputs = outputs.numpy()\n",
        "\n",
        "            predicted = np.argmax(outputs, 1)\n",
        "            targets = np.argmax(targets , 1)\n",
        "\n",
        "            y_true.extend(targets)\n",
        "            y_pred.extend(predicted)\n",
        "\n",
        "    cm = confusion_matrix(y_true, y_pred,normalize=\"true\")\n",
        "\n",
        "    return np.array(y_true), np.array(y_pred), cm"
      ],
      "metadata": {
        "id": "3o2hWEa2of-e"
      },
      "execution_count": null,
      "outputs": []
    },
    {
      "cell_type": "code",
      "source": [
        "_,_,cm=test_model(model, test_loader)"
      ],
      "metadata": {
        "id": "DvTuz_ujsT4n"
      },
      "execution_count": null,
      "outputs": []
    },
    {
      "cell_type": "code",
      "source": [
        "disp = ConfusionMatrixDisplay(confusion_matrix=cm,\n",
        "                              display_labels=[\"0 rings\", \"1 ring\", \"2 rings\", \"3+ rings\"])\n",
        "disp.plot()\n",
        "\n",
        "plt.show()"
      ],
      "metadata": {
        "id": "wwmKpzbesqRd",
        "colab": {
          "base_uri": "https://localhost:8080/",
          "height": 279
        },
        "outputId": "dc8c46ad-7f52-43e2-f0c2-1f24e0c9376f"
      },
      "execution_count": null,
      "outputs": [
        {
          "output_type": "display_data",
          "data": {
            "text/plain": [
              "<Figure size 432x288 with 2 Axes>"
            ],
            "image/png": "[encoded data removed]"
          },
          "metadata": {
            "needs_background": "light"
          }
        }
      ]
    },
    {
      "cell_type": "code",
      "source": [],
      "metadata": {
        "id": "aXgl6Q0KuUtY"
      },
      "execution_count": null,
      "outputs": []
    }
  ]
}