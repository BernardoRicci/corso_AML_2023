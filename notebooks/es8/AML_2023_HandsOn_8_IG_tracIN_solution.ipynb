{
  "nbformat": 4,
  "nbformat_minor": 0,
  "metadata": {
    "colab": {
      "provenance": [],
      "authorship_tag": "ABX9TyMUMBoXnpap+cjdWxuWx+aY",
      "include_colab_link": true
    },
    "kernelspec": {
      "name": "python3",
      "display_name": "Python 3"
    },
    "language_info": {
      "name": "python"
    }
  },
  "cells": [
    {
      "cell_type": "markdown",
      "metadata": {
        "id": "view-in-github",
        "colab_type": "text"
      },
      "source": [
        "<a href=\"https://colab.research.google.com/github/stefanogiagu/corso_AML_2023/blob/main/notebooks/es8/AML_2023_HandsOn_8_IG_tracIN_solution.ipynb\" target=\"_parent\"><img src=\"https://colab.research.google.com/assets/colab-badge.svg\" alt=\"Open In Colab\"/></a>"
      ]
    },
    {
      "cell_type": "markdown",
      "source": [
        "# xAI handOn based on the first one!\n",
        "\n",
        "Slide for the day with the Task Description ([SLIDE](https://docs.google.com/presentation/d/1DCZn-I8bXQ_awkmR6I6u9be4MCHB0ljWTxBL9koOsXo/edit?usp=sharing))\n",
        "\n",
        "Jamboard for first RiNNGs ([BOARD](https://jamboard.google.com/d/1n694UZc-sQK2AZnI4RX88d-hoPytOPo_-5wnt3Bwlbc/edit?usp=sharing))\n",
        "\n",
        "Jamborad for today ([BOARD](https://jamboard.google.com/d/1MAaDvaBTjy3RluS62r8mXKiOI6ZWDKc8Mn7BZap62eA/edit?usp=sharing))\n",
        "\n",
        "[PAPER INTEGRATED GRADIENTS](https://arxiv.org/pdf/1703.01365.pdf)\n",
        "\n",
        "[PAPER TRACIN](https://arxiv.org/pdf/2002.08484.pdf)"
      ],
      "metadata": {
        "id": "Vc27WTxo1IH0"
      }
    },
    {
      "cell_type": "markdown",
      "source": [
        "# Connect your drive!"
      ],
      "metadata": {
        "id": "D3MrmZxh1z9M"
      }
    },
    {
      "cell_type": "code",
      "execution_count": 1,
      "metadata": {
        "id": "G3_Mxb_zqvTp",
        "colab": {
          "base_uri": "https://localhost:8080/"
        },
        "outputId": "775ea405-960a-4636-a90b-cb86b445de4d"
      },
      "outputs": [
        {
          "output_type": "stream",
          "name": "stdout",
          "text": [
            "Mounted at /content/gdrive/\n"
          ]
        }
      ],
      "source": [
        "from google.colab import drive\n",
        "import numpy as np\n",
        "\n",
        "drive.mount('/content/gdrive/', force_remount=True)"
      ]
    },
    {
      "cell_type": "code",
      "source": [
        "!cd /content/gdrive/MyDrive/RiNNgs # this one may be different from mine"
      ],
      "metadata": {
        "id": "oBIaQZ0fsIEe"
      },
      "execution_count": 2,
      "outputs": []
    },
    {
      "cell_type": "code",
      "source": [
        "!ls"
      ],
      "metadata": {
        "id": "EazN_73MsYQ4",
        "colab": {
          "base_uri": "https://localhost:8080/"
        },
        "outputId": "a56f24e4-9b08-41b1-9750-d395a10adefe"
      },
      "execution_count": 3,
      "outputs": [
        {
          "output_type": "stream",
          "name": "stdout",
          "text": [
            "gdrive\tsample_data\n"
          ]
        }
      ]
    },
    {
      "cell_type": "code",
      "source": [
        "# we need to get some files from github\n",
        "import os\n",
        "success = os.path.exists(\"./data_preprocess.py\")\n",
        "if not success:\n",
        " \n",
        "  ! wget https://raw.githubusercontent.com/stefanogiagu/corso_AML_2023/main/notebooks/es1/data_preprocess.py"
      ],
      "metadata": {
        "id": "B0-1m5mIejsu",
        "colab": {
          "base_uri": "https://localhost:8080/"
        },
        "outputId": "a3e2ac46-376c-4b96-b4e0-4f7902538965"
      },
      "execution_count": 4,
      "outputs": [
        {
          "output_type": "stream",
          "name": "stdout",
          "text": [
            "--2023-05-17 13:01:30--  https://raw.githubusercontent.com/stefanogiagu/corso_AML_2023/main/notebooks/es1/data_preprocess.py\n",
            "Resolving raw.githubusercontent.com (raw.githubusercontent.com)... 185.199.108.133, 185.199.109.133, 185.199.110.133, ...\n",
            "Connecting to raw.githubusercontent.com (raw.githubusercontent.com)|185.199.108.133|:443... connected.\n",
            "HTTP request sent, awaiting response... 200 OK\n",
            "Length: 14603 (14K) [text/plain]\n",
            "Saving to: ‘data_preprocess.py’\n",
            "\n",
            "data_preprocess.py  100%[===================>]  14.26K  --.-KB/s    in 0s      \n",
            "\n",
            "2023-05-17 13:01:30 (47.2 MB/s) - ‘data_preprocess.py’ saved [14603/14603]\n",
            "\n"
          ]
        }
      ]
    },
    {
      "cell_type": "code",
      "source": [
        "!ls"
      ],
      "metadata": {
        "colab": {
          "base_uri": "https://localhost:8080/"
        },
        "id": "0SC53DivhiGA",
        "outputId": "a7aafd02-f9a2-43b5-e74e-6dc11e1e7268"
      },
      "execution_count": 5,
      "outputs": [
        {
          "output_type": "stream",
          "name": "stdout",
          "text": [
            "data_preprocess.py  gdrive  sample_data\n"
          ]
        }
      ]
    },
    {
      "cell_type": "markdown",
      "source": [
        "# Lets create all the folders needed"
      ],
      "metadata": {
        "id": "3Z6ZhhX-2jBh"
      }
    },
    {
      "cell_type": "code",
      "source": [
        "import os\n",
        "def CreateDir(path):\n",
        "\t# Create a directory if it does not exist\n",
        "\tsuccess = os.path.exists(path)\n",
        "\tif not success:\n",
        "\t\tos.makedirs(path)\n",
        "CreateDir(\"results\")#\n",
        "CreateDir(\"results/display\")\n",
        "CreateDir(\"results/preprocess\")\n",
        "CreateDir(\"data\")"
      ],
      "metadata": {
        "id": "DJdxcqAC2hkl"
      },
      "execution_count": 6,
      "outputs": []
    },
    {
      "cell_type": "code",
      "source": [
        "success = os.path.exists(\"data/event_08011.file\")\n",
        "if not success:\n",
        "  ! wget  https://raw.githubusercontent.com/stefanogiagu/corso_AML_2023/main/notebooks/es1/data/event_08011.file -P data/\n",
        "  ! wget -P data/ https://raw.githubusercontent.com/stefanogiagu/corso_AML_2023/main/notebooks/es1/data/RICH_map_corr_2017.data\n",
        "  ! wget -P data/ https://raw.githubusercontent.com/stefanogiagu/corso_AML_2023/main/notebooks/es1/data/data_08011.json"
      ],
      "metadata": {
        "id": "58eY82emgMt6",
        "colab": {
          "base_uri": "https://localhost:8080/"
        },
        "outputId": "a7d76e36-ad7a-417a-c006-21f48314611a"
      },
      "execution_count": 7,
      "outputs": [
        {
          "output_type": "stream",
          "name": "stdout",
          "text": [
            "--2023-05-17 13:01:30--  https://raw.githubusercontent.com/stefanogiagu/corso_AML_2023/main/notebooks/es1/data/event_08011.file\n",
            "Resolving raw.githubusercontent.com (raw.githubusercontent.com)... 185.199.108.133, 185.199.109.133, 185.199.110.133, ...\n",
            "Connecting to raw.githubusercontent.com (raw.githubusercontent.com)|185.199.108.133|:443... connected.\n",
            "HTTP request sent, awaiting response... 200 OK\n",
            "Length: 375770 (367K) [application/octet-stream]\n",
            "Saving to: ‘data/event_08011.file’\n",
            "\n",
            "event_08011.file    100%[===================>] 366.96K  --.-KB/s    in 0.006s  \n",
            "\n",
            "2023-05-17 13:01:30 (61.5 MB/s) - ‘data/event_08011.file’ saved [375770/375770]\n",
            "\n",
            "--2023-05-17 13:01:30--  https://raw.githubusercontent.com/stefanogiagu/corso_AML_2023/main/notebooks/es1/data/RICH_map_corr_2017.data\n",
            "Resolving raw.githubusercontent.com (raw.githubusercontent.com)... 185.199.110.133, 185.199.109.133, 185.199.108.133, ...\n",
            "Connecting to raw.githubusercontent.com (raw.githubusercontent.com)|185.199.110.133|:443... connected.\n",
            "HTTP request sent, awaiting response... 200 OK\n",
            "Length: 38897 (38K) [text/plain]\n",
            "Saving to: ‘data/RICH_map_corr_2017.data’\n",
            "\n",
            "RICH_map_corr_2017. 100%[===================>]  37.99K  --.-KB/s    in 0s      \n",
            "\n",
            "2023-05-17 13:01:30 (101 MB/s) - ‘data/RICH_map_corr_2017.data’ saved [38897/38897]\n",
            "\n",
            "--2023-05-17 13:01:30--  https://raw.githubusercontent.com/stefanogiagu/corso_AML_2023/main/notebooks/es1/data/data_08011.json\n",
            "Resolving raw.githubusercontent.com (raw.githubusercontent.com)... 185.199.108.133, 185.199.109.133, 185.199.110.133, ...\n",
            "Connecting to raw.githubusercontent.com (raw.githubusercontent.com)|185.199.108.133|:443... connected.\n",
            "HTTP request sent, awaiting response... 200 OK\n",
            "Length: 2992001 (2.9M) [text/plain]\n",
            "Saving to: ‘data/data_08011.json’\n",
            "\n",
            "data_08011.json     100%[===================>]   2.85M  --.-KB/s    in 0.01s   \n",
            "\n",
            "2023-05-17 13:01:30 (196 MB/s) - ‘data/data_08011.json’ saved [2992001/2992001]\n",
            "\n"
          ]
        }
      ]
    },
    {
      "cell_type": "markdown",
      "source": [
        "# We need to build the dataset.\n",
        "How can we call a python code from a notebook script?\n",
        "\n",
        "Use the command\n",
        "\n",
        "\n",
        "```\n",
        "! python script.py ARG1,ARG2,...,ARGN\n",
        "```\n",
        "\n",
        "to call the \"data_preprocess.py\" that will find the run 0811 and form 16x16 images from it.\n",
        "\n",
        "arguments are \"08011 Conv 16 np_reco 0\"\n",
        "\n",
        "**Ignore all the warnings and the tensorflow calls. This function is doing a lot more than what we need**"
      ],
      "metadata": {
        "id": "giJtVnUQAOBJ"
      }
    },
    {
      "cell_type": "code",
      "source": [
        "dataset = \"08011\"\n",
        "success = os.path.exists('results/preprocess/' + 'x_all_{}.npy'.format(dataset))\n",
        "if not success:\n",
        "  ! python data_preprocess.py 08011 Conv 16 np_reco 0\n",
        "\n",
        "\n",
        "x_all =  np.load('results/preprocess/' + 'x_all_{}.npy'.format(dataset))\n",
        "y_all = np.load('results/preprocess/' + 'y_all_{}.npy'.format(dataset))"
      ],
      "metadata": {
        "id": "MCSz5yNYsrcP",
        "colab": {
          "base_uri": "https://localhost:8080/"
        },
        "outputId": "7aa44de9-5fe9-4742-fd64-20cde2eeabdb"
      },
      "execution_count": 8,
      "outputs": [
        {
          "output_type": "stream",
          "name": "stdout",
          "text": [
            "2023-05-17 13:01:32.454339: I tensorflow/core/platform/cpu_feature_guard.cc:182] This TensorFlow binary is optimized to use available CPU instructions in performance-critical operations.\n",
            "To enable the following instructions: AVX2 FMA, in other operations, rebuild TensorFlow with the appropriate compiler flags.\n",
            "2023-05-17 13:01:33.652879: W tensorflow/compiler/tf2tensorrt/utils/py_utils.cc:38] TF-TRT Warning: Could not find TensorRT\n",
            "*************************\n",
            "*  Data Pre-Processing  *\n",
            "*************************\n",
            "Dataset = 08011\n",
            "Model   = Conv\n",
            "Size    = 16\n",
            "Label   = np_reco\n",
            "Shuffle = 0\n",
            "Getting data for label np_reco\n",
            "Loading data/data_08011.json\n",
            " 20000 items in list hitlist\n",
            " 20000 items in list np_track\n",
            " 20000 items in list np_reco\n",
            " 20000 items in list np_gpu\n",
            " 20000 items in list ne_eop\n",
            " 20000 items in list ne_track\n",
            " 20000 items in list ne_reco\n",
            " 20000 items in list ne_gpu\n",
            "Processing selected label (np_reco)\n",
            "Example data\n",
            "*************\n",
            "Event      0\n",
            "*************\n",
            "   hitlist: ['1499', '1308', '1384', '1026', '1956', '1990', '1685', '1710', '310', '305', '177', '136', '244', '37', '79', '776', '718', '667', '670', '711', '713', '716', '747', '753', '748', '754', '751', '568', '569', '574', '636', '571', '594', '599', '631', '1458']\n",
            "  np_track: 1\n",
            "   np_reco: 2\n",
            "    np_gpu: -1\n",
            "    ne_eop: 0\n",
            "  ne_track: 2\n",
            "   ne_reco: 1\n",
            "    ne_gpu: -1\n",
            "Array\n",
            "[1499. 1308. 1384. 1026. 1956. 1990. 1685. 1710.  310.  305.  177.  136.\n",
            "  244.   37.   79.  776.  718.  667.  670.  711.  713.  716.  747.  753.\n",
            "  748.  754.  751.  568.  569.  574.  636.  571.  594.  599.  631. 1458.\n",
            "    0.    0.    0.    0.    0.    0.    0.    0.    0.    0.    0.    0.\n",
            "    0.    0.    0.    0.    0.    0.    0.    0.    0.    0.    0.    0.\n",
            "    0.    0.    0.    0.]\n",
            "Feature preprocessed\n",
            "[1499. 1308. 1384. 1026. 1956. 1990. 1685. 1710.  310.  305.  177.  136.\n",
            "  244.   37.   79.  776.  718.  667.  670.  711.  713.  716.  747.  753.\n",
            "  748.  754.  751.  568.  569.  574.  636.  571.  594.  599.  631. 1458.\n",
            "    0.    0.    0.    0.    0.    0.    0.    0.    0.    0.    0.    0.\n",
            "    0.    0.    0.    0.    0.    0.    0.    0.    0.    0.    0.    0.\n",
            "    0.    0.    0.    0.]\n",
            "<class 'numpy.ndarray'>\n",
            "(20000, 64)\n",
            "<class 'numpy.ndarray'>\n",
            "(20000, 4)\n",
            "X_SHAPE\n",
            "(20000, 64)\n",
            "X_SHAPE[0]\n",
            "20000\n",
            "Y_SHAPE\n",
            "(20000, 4)\n",
            "Preprocessing data from dataset 08011 for model Convof size  16\n",
            "Image 16 x 16  = 256 pixels\n",
            "X  max 150.050  min -493.980  range 644.030 bin 40.252 \n",
            "Y  max 286.740  min -316.140  range 602.880 bin 37.680 \n",
            "FILE MAP: data/RICH_map_corr_2017.data\n",
            "[ 114.05  105.05  114.05 ... -484.98 -493.98  -79.98]\n",
            "[ 135.92  120.34  104.75 ...  -87.38 -102.97 -102.97]\n",
            "[   0    1    2 ... 2022 2023 2031]\n",
            "[0.94410198 0.93012748 0.94410198 ... 0.0139745  0.         0.6428272 ]\n",
            "[0.74983413 0.72399151 0.6981323  ... 0.37944533 0.35358612 0.35358612]\n",
            "[14 14 14 ... -1 -1 -1]\n",
            "[11 11 10 ... -1 -1 -1]\n",
            "Imager map ready at results/display/imagerMap_human.txt (human format)\n",
            "Imager map ready at results/display/imagerMap.txt (computer format)\n",
            "processing image      0\n",
            "Images shape:\n",
            "(16, 16)\n",
            "Number of images:\n",
            "20000\n",
            "File results/preprocess/prova16.pdf ready\n",
            "Imager statistics ready at results/display/imagerCounts.txt\n",
            "Validation: X=(20000, 16, 16), y=(20000, 4)\n",
            "Data saved in results/preprocess/\n"
          ]
        }
      ]
    },
    {
      "cell_type": "markdown",
      "source": [
        "# Where are our files?\n",
        "\n",
        "The script will write two files in the results/preprocess folder that we created before.\n",
        "\n",
        "Check if you can find the files and that  *x_all_** is the rigth size (around 40 MB)\n",
        "\n",
        "Use the command\n",
        "\n",
        "\n",
        "```\n",
        "ls -lh \"path\"\n",
        "```\n",
        "\n"
      ],
      "metadata": {
        "id": "9f16XiFJB9bP"
      }
    },
    {
      "cell_type": "code",
      "source": [
        "! ls -lh  results/preprocess/"
      ],
      "metadata": {
        "id": "zmVx_yz3vnsJ",
        "colab": {
          "base_uri": "https://localhost:8080/"
        },
        "outputId": "7f9c42c5-9ebc-4aac-df9e-139a0efbddea"
      },
      "execution_count": 9,
      "outputs": [
        {
          "output_type": "stream",
          "name": "stdout",
          "text": [
            "total 40M\n",
            "-rw-r--r-- 1 root root  82K May 17 13:01 prova16.pdf\n",
            "-rw-r--r-- 1 root root  40M May 17 13:01 x_all_08011.npy\n",
            "-rw-r--r-- 1 root root 313K May 17 13:01 y_all_08011.npy\n"
          ]
        }
      ]
    },
    {
      "cell_type": "markdown",
      "source": [
        "# Read the data, check the data format, print an element.\n",
        "\n",
        "\n",
        "*   Load the data with np.load\n",
        "*   Print the data shape\n",
        "*   Check the variable type\n",
        "*   Use plt.matshow() to print an element\n",
        "\n"
      ],
      "metadata": {
        "id": "lhRi7IqxExEp"
      }
    },
    {
      "cell_type": "code",
      "source": [
        "\n",
        "# remove the empty images\n",
        "def remove_empty(x_all, y_all):\n",
        "  intensities = x_all.reshape(x_all.shape[0],-1).sum(axis=1)\n",
        "  y_all = y_all[intensities>5]\n",
        "  x_all = x_all[intensities>5]\n",
        "  return x_all, y_all\n",
        "\n",
        "x_all, y_all = remove_empty(x_all, y_all)\n"
      ],
      "metadata": {
        "id": "4U6zPqehCrSs"
      },
      "execution_count": 10,
      "outputs": []
    },
    {
      "cell_type": "code",
      "source": [
        "import matplotlib.pyplot as plt\n",
        "to_plot = 10\n",
        "def plot_example(image,lab):\n",
        "  f,ax = plt.subplots(1,1,figsize=(5,5))\n",
        "  ax.matshow(image)\n",
        "  ax.set_title(\"An example of class {}\".format(np.argmax(lab)),fontsize=30)\n",
        "  print(np.unique(image))\n",
        "plot_example(x_all[to_plot,:,:],y_all[to_plot])"
      ],
      "metadata": {
        "id": "iULWnY-eGL9k",
        "colab": {
          "base_uri": "https://localhost:8080/",
          "height": 510
        },
        "outputId": "daee23d7-7b94-40a4-ff5a-db67bb04267f"
      },
      "execution_count": 11,
      "outputs": [
        {
          "output_type": "stream",
          "name": "stdout",
          "text": [
            "[0. 1.]\n"
          ]
        },
        {
          "output_type": "display_data",
          "data": {
            "text/plain": [
              "<Figure size 500x500 with 1 Axes>"
            ],
            "image/png": "[encoded data removed]"
          },
          "metadata": {}
        }
      ]
    },
    {
      "cell_type": "markdown",
      "source": [
        "# Load images and prepare batches"
      ],
      "metadata": {
        "id": "Kc2yguLUHlMY"
      }
    },
    {
      "cell_type": "code",
      "source": [
        "from torch.utils.data import Dataset, DataLoader\n",
        "import torch\n",
        "import torch.utils.data as data\n",
        "\n",
        "#data augmentation\n",
        "def remove_a_hit(image):\n",
        "  if image.sum()<3:\n",
        "    return image\n",
        "  a,b = np.nonzero(image)\n",
        "  i = np.random.randint(0,len(a))\n",
        "  image[a[i],b[i]] -=1\n",
        "  return image\n",
        "\n",
        "def add_a_hit(image):\n",
        "  image[np.random.randint(0,16),np.random.randint(0,16)] +=1 \n",
        "  return image\n",
        "\n",
        "def flip_hit(image):\n",
        "  if np.random.rand()>0.5:\n",
        "    image= np. fliplr(image)\n",
        "  else:\n",
        "    image= np. flipud(image)\n",
        "  return image\n",
        "\n",
        "def sum_images(image,lab,image2,lab2):\n",
        "  lab=np.argmax(lab)\n",
        "  lab2=np.argmax(lab2)\n",
        "  image = image + image2\n",
        "  lab = lab + lab2\n",
        "  if lab>3:\n",
        "    lab=3\n",
        "  lab_tmp = np.zeros(4)\n",
        "  lab_tmp[lab]=1\n",
        "  \n",
        "  return image,lab_tmp\n",
        "\n",
        "\n",
        "class HitImageGenerator(Dataset):\n",
        "  \n",
        "\n",
        "    def __init__(self, X,y,AUGMENT=False):\n",
        "        self.X = X\n",
        "        self.y = y\n",
        "        self.AUGMENT = AUGMENT\n",
        "\n",
        "    def __len__(self):\n",
        "        return len(self.X)\n",
        "\n",
        "    def __getitem__(self, idx):\n",
        "        image = self.X[idx]\n",
        "        label = self.y[idx]\n",
        "        iclass = np.argmax(label)\n",
        "        #image = (image-image.reshape(-1).mean())/image.reshape(-1).std()\n",
        "\n",
        "        if self.AUGMENT:# a simple data augmentation (only for training)\n",
        "          if iclass >1:\n",
        "            if np.random.rand()>1:# validation shows it may be not helpful so turned off\n",
        "              image = remove_a_hit(image)\n",
        "          if np.random.rand()>1:# validation shows it may be not helpful so turned off\n",
        "            image = add_a_hit(image)\n",
        "          if np.random.rand()>0.5:# this seems helpful\n",
        "            image = flip_hit(image)\n",
        "          if np.random.rand()>0.95:\n",
        "            id2=np.random.randint(len(self.X))\n",
        "            image2 = self.X[id2]\n",
        "            lab2 = self.y[id2]\n",
        "            image, label = sum_images(image,label,image2,lab2)\n",
        "\n",
        "        \n",
        "        image=image/image.sum()# normalization\n",
        "        tensor_image = torch.from_numpy(image).unsqueeze(0).float()\n",
        "        tensor_label = torch.from_numpy(label).float()\n",
        "        return tensor_image, tensor_label\n",
        "\n",
        "class BalancedDataLoader(data.DataLoader):\n",
        "    def __init__(self, dataset, batch_size=1, shuffle=True):\n",
        "        self.dataset = dataset\n",
        "        self.batch_size = batch_size\n",
        "        self.shuffle = shuffle\n",
        "\n",
        "        # If sampler is not provided, create a new one\n",
        "    \n",
        "        # Count the number of samples in each class\n",
        "        class_counts = torch.bincount(torch.tensor(np.argmax(dataset.y,axis=1)))\n",
        "\n",
        "        # Compute the weight of each sample\n",
        "        weights = 1.0 / class_counts[np.argmax(dataset.y,axis=1)]# has the same length on the data array\n",
        "\n",
        "        # Create a sampler that samples each class with equal probability\n",
        "        sampler = torch.utils.data.sampler.WeightedRandomSampler(weights, len(weights))\n",
        "\n",
        "        super().__init__(dataset, batch_size=batch_size, sampler=sampler)\n",
        "\n"
      ],
      "metadata": {
        "id": "wDxssXykpY9K"
      },
      "execution_count": 12,
      "outputs": []
    },
    {
      "cell_type": "code",
      "source": [
        "from sklearn.model_selection import train_test_split\n",
        "# Split data into training and testing sets\n",
        "X_train, X_test, y_train, y_test = train_test_split(x_all, y_all, test_size=0.2, random_state=42)\n",
        "\n",
        "# Split training data into training and validation sets\n",
        "X_train, X_val, y_train, y_val = train_test_split(X_train, y_train, test_size=0.2, random_state=42)\n",
        "\n",
        "# Now you have X_train, y_train, X_val, y_val, X_test, and y_test as your splits\n",
        "\n",
        "\n",
        "# Lets split the dataset\n",
        "\n",
        "train_dataset = HitImageGenerator(X_train,y_train,AUGMENT=True)\n",
        "train_loader = BalancedDataLoader(train_dataset, batch_size=256, shuffle=True)\n",
        "\n",
        "val_dataset = HitImageGenerator(X_val,y_val)\n",
        "val_loader = BalancedDataLoader(val_dataset, batch_size=256, shuffle=False)\n",
        "\n",
        "test_dataset = HitImageGenerator(X_test,y_test)\n",
        "test_loader = DataLoader(test_dataset, batch_size=64, shuffle=False)# no balanced generator for the test"
      ],
      "metadata": {
        "id": "s5VPoy4kHlZr"
      },
      "execution_count": 13,
      "outputs": []
    },
    {
      "cell_type": "markdown",
      "source": [],
      "metadata": {
        "id": "EpfcM-tPMmwZ"
      }
    },
    {
      "cell_type": "code",
      "source": [
        "import torch.nn as nn\n",
        "import torch.nn.functional as F\n",
        "\n",
        "\n",
        "class Net(nn.Module):\n",
        "    def __init__(self):\n",
        "        super().__init__()\n",
        "        self.conv1 = nn.Conv2d(1,32, 2)# 4*4 * 32 + 32 N parameter of the first conv layer\n",
        "        self.conv1_1 = nn.Conv2d(32,16, 2)\n",
        "        self.conv1_2 = nn.Conv2d(16,32, 2)\n",
        "        self.pool = nn.MaxPool2d(2, 2)\n",
        "        self.conv2 = nn.Conv2d(32, 32, 2)\n",
        "        self.conv2_1 = nn.Conv2d(32, 64, 2)\n",
        "        self.conv2_2 = nn.Conv2d(64, 64, 2)\n",
        "        self.fc1 = nn.Linear(64 , 64) # 64*64  64\n",
        "        self.fc2 = nn.Linear(64, 64)\n",
        "        self.dpo1 = nn.Dropout(p=0.3)\n",
        "        self.fc3 = nn.Linear(64,4)\n",
        "\n",
        "    def forward(self, x):\n",
        "       \n",
        "       x = self.conv1(x)\n",
        "       x = F.relu(x)\n",
        "       x = self.conv1_1(x)\n",
        "       x = F.relu(x)\n",
        "       x = self.conv1_2(x)\n",
        "       x = F.relu(x)\n",
        "       x = self.pool(x)\n",
        "       x =F.relu(self.conv2(x))\n",
        "       x =F.relu(self.conv2_1(x))\n",
        "       x = self.pool(F.relu(self.conv2_2(x)))\n",
        "       x = torch.flatten(x, 1) # flatten all dimensions except batch\n",
        "       \n",
        "       x = F.relu(self.fc1(x))\n",
        "       x = self.dpo1(x)\n",
        "       x = F.relu(self.fc2(x))\n",
        "       x = self.dpo1(x)\n",
        "       x = self.fc3(x)# the crossentropy loss in pytorch to the softmax for you\n",
        "      \n",
        "\n",
        "       return x\n",
        "\n",
        "\n",
        "model = Net()"
      ],
      "metadata": {
        "id": "rf91t_SQMlnK"
      },
      "execution_count": 14,
      "outputs": []
    },
    {
      "cell_type": "code",
      "source": [
        "import torch.optim as optim\n",
        "\n",
        "criterion = nn.CrossEntropyLoss()# I want to minimize it\n",
        "optimizer = optim.Adam(model.parameters(), lr=0.001)\n",
        "scheduler = optim.lr_scheduler.ExponentialLR(optimizer, gamma=0.95)"
      ],
      "metadata": {
        "id": "VKw2q7uCMr2g"
      },
      "execution_count": 15,
      "outputs": []
    },
    {
      "cell_type": "code",
      "source": [
        "def accuracy(y_pred, y_true):\n",
        "    \"\"\"\n",
        "    Calculates the accuracy of the predicted labels.\n",
        "\n",
        "    Args:\n",
        "        y_pred (torch.Tensor): predicted labels\n",
        "        y_true (torch.Tensor): true labels\n",
        "\n",
        "    Returns:\n",
        "        float: accuracy score\n",
        "    \"\"\"\n",
        "    # Get the predicted class by finding the index of the maximum value along axis 1\n",
        "    y_pred = torch.argmax(y_pred, axis=1)\n",
        "    y_true = torch.argmax(y_true, axis=1)\n",
        "\n",
        "    # Calculate the number of correctly classified examples\n",
        "    correct = (y_pred == y_true).sum().item()\n",
        "\n",
        "    # Calculate the total number of examples\n",
        "    total = len(y_true)\n",
        "\n",
        "    # Calculate the accuracy\n",
        "    acc = correct / total\n",
        "\n",
        "    return acc"
      ],
      "metadata": {
        "id": "NM-vc79EjaAT"
      },
      "execution_count": 16,
      "outputs": []
    },
    {
      "cell_type": "code",
      "source": [
        "# Define the number of epochs and the patience for early stopping\n",
        "num_epochs = 100\n",
        "patience = 12\n",
        "TRAIN = 1\n",
        "\n",
        "# Initialize the variables for tracking the best validation accuracy and the number of epochs since the best accuracy\n",
        "best_val_acc = 0.0\n",
        "epochs_since_best_val_acc = 0\n",
        "\n",
        "train_curve=[]\n",
        "val_curve=[]\n",
        "lr_curve=[]\n",
        "\n",
        "lr_ckp=[]\n",
        "\n",
        "if TRAIN:\n",
        "  # Train loop\n",
        "  for epoch in range(num_epochs):# the network train on all the elements\n",
        "      # Training\n",
        "      model.train()\n",
        "      tmp_loss = 0\n",
        "      for batch_idx, (data, target) in enumerate(train_loader): # divide the problem in batches\n",
        "          # Forward pass\n",
        "          \n",
        "          \n",
        "          output = model(data)# output will be something [batch,4]\n",
        "          loss = criterion(output, target)\n",
        "\n",
        "          # Backward pass and optimization\n",
        "          optimizer.zero_grad()# clear the previous gradients\n",
        "          loss.backward()# compute gradient of loss\n",
        "          optimizer.step()# update the weigths\n",
        "\n",
        "          tmp_loss += loss.detach().numpy()\n",
        "          \n",
        "      if epoch > 20:\n",
        "        scheduler.step()    \n",
        "\n",
        "      lr_curve.append(optimizer.param_groups[0]['lr'])    \n",
        "      train_curve.append(tmp_loss/len(train_loader))  \n",
        "      # Validation\n",
        "      model.eval() # the validation step do NOT change the parameters\n",
        "      with torch.no_grad():\n",
        "          val_acc = 0.0\n",
        "          val_total = 0\n",
        "          val_loss = 0\n",
        "          for data, target in val_loader:\n",
        "              output = model(data)\n",
        "              val_loss += criterion(output, target).item()\n",
        "              \n",
        "              \n",
        "              val_acc += accuracy(output, target)\n",
        "\n",
        "          val_acc /=  len(val_loader)\n",
        "          val_loss /= len(val_loader)\n",
        "          val_curve.append(val_loss)\n",
        "\n",
        "          print(f\"Epoch {epoch+1}, Validation Loss: {val_loss:.4f}, Validation Accuracy: {val_acc:.4f}, lr: {optimizer.param_groups[0]['lr']:.3e}\")\n",
        "\n",
        "          # Check if the validation accuracy has improved\n",
        "          if val_acc > best_val_acc:\n",
        "              best_val_acc = val_acc\n",
        "              epochs_since_best_val_acc = 0\n",
        "              best_weights = model.state_dict()\n",
        "              torch.save(best_weights, 'results/best_weights.pth')\n",
        "              print(\"Best!\")\n",
        "              best_epoch = epoch\n",
        "          else:\n",
        "              epochs_since_best_val_acc += 1\n",
        "\n",
        "          if ((epoch+1) % 10)==0 & (epoch<60) :\n",
        "            \n",
        "            weights = model.state_dict()\n",
        "            torch.save(weights, 'results/ckp_{}.pth'.format(epoch+1))\n",
        "            print(\"ckp saved!\")\n",
        "            lr_ckp.append(optimizer.param_groups[0]['lr'])\n",
        "\n",
        "          # Check if early stopping is necessary\n",
        "          if epochs_since_best_val_acc >= patience:\n",
        "              print(\"Early stopping!\")\n",
        "              break\n",
        "\n",
        "\n",
        "  np.save(\"lr_ckp.npy\",lr_ckp)\n",
        "lr_ckp = np.load(\"lr_ckp.npy\")"
      ],
      "metadata": {
        "id": "CDdYeYaPeYWW",
        "colab": {
          "base_uri": "https://localhost:8080/",
          "height": 1000
        },
        "outputId": "4c89f116-b894-4ec3-8ee4-c1410f9200a1"
      },
      "execution_count": 17,
      "outputs": [
        {
          "output_type": "stream",
          "name": "stdout",
          "text": [
            "Epoch 1, Validation Loss: 1.3866, Validation Accuracy: 0.2556, lr: 1.000e-03\n",
            "Best!\n",
            "Epoch 2, Validation Loss: 1.3873, Validation Accuracy: 0.2514, lr: 1.000e-03\n",
            "Epoch 3, Validation Loss: 1.3881, Validation Accuracy: 0.2449, lr: 1.000e-03\n",
            "Epoch 4, Validation Loss: 1.3879, Validation Accuracy: 0.2401, lr: 1.000e-03\n",
            "Epoch 5, Validation Loss: 1.1274, Validation Accuracy: 0.4322, lr: 1.000e-03\n",
            "Best!\n",
            "Epoch 6, Validation Loss: 1.0882, Validation Accuracy: 0.4615, lr: 1.000e-03\n",
            "Best!\n",
            "Epoch 7, Validation Loss: 0.9783, Validation Accuracy: 0.5312, lr: 1.000e-03\n",
            "Best!\n",
            "Epoch 8, Validation Loss: 0.9281, Validation Accuracy: 0.5451, lr: 1.000e-03\n",
            "Best!\n",
            "Epoch 9, Validation Loss: 0.9269, Validation Accuracy: 0.5606, lr: 1.000e-03\n",
            "Best!\n",
            "Epoch 10, Validation Loss: 0.9500, Validation Accuracy: 0.5375, lr: 1.000e-03\n",
            "ckp saved!\n",
            "Epoch 11, Validation Loss: 0.8173, Validation Accuracy: 0.6440, lr: 1.000e-03\n",
            "Best!\n",
            "Epoch 12, Validation Loss: 0.7794, Validation Accuracy: 0.6512, lr: 1.000e-03\n",
            "Best!\n",
            "Epoch 13, Validation Loss: 0.8193, Validation Accuracy: 0.6356, lr: 1.000e-03\n",
            "Epoch 14, Validation Loss: 0.7733, Validation Accuracy: 0.6566, lr: 1.000e-03\n",
            "Best!\n",
            "Epoch 15, Validation Loss: 0.7996, Validation Accuracy: 0.6352, lr: 1.000e-03\n",
            "Epoch 16, Validation Loss: 0.8802, Validation Accuracy: 0.5929, lr: 1.000e-03\n",
            "Epoch 17, Validation Loss: 0.7593, Validation Accuracy: 0.6704, lr: 1.000e-03\n",
            "Best!\n",
            "Epoch 18, Validation Loss: 0.7404, Validation Accuracy: 0.6735, lr: 1.000e-03\n",
            "Best!\n",
            "Epoch 19, Validation Loss: 0.7204, Validation Accuracy: 0.6909, lr: 1.000e-03\n",
            "Best!\n",
            "Epoch 20, Validation Loss: 0.7451, Validation Accuracy: 0.6625, lr: 1.000e-03\n",
            "ckp saved!\n",
            "Epoch 21, Validation Loss: 0.7513, Validation Accuracy: 0.6714, lr: 1.000e-03\n",
            "Epoch 22, Validation Loss: 0.7411, Validation Accuracy: 0.6664, lr: 9.500e-04\n",
            "Epoch 23, Validation Loss: 0.7392, Validation Accuracy: 0.6848, lr: 9.025e-04\n",
            "Epoch 24, Validation Loss: 0.7388, Validation Accuracy: 0.6736, lr: 8.574e-04\n",
            "Epoch 25, Validation Loss: 0.7087, Validation Accuracy: 0.6828, lr: 8.145e-04\n",
            "Epoch 26, Validation Loss: 0.6832, Validation Accuracy: 0.7155, lr: 7.738e-04\n",
            "Best!\n",
            "Epoch 27, Validation Loss: 0.7150, Validation Accuracy: 0.6903, lr: 7.351e-04\n",
            "Epoch 28, Validation Loss: 0.6854, Validation Accuracy: 0.7043, lr: 6.983e-04\n",
            "Epoch 29, Validation Loss: 0.7086, Validation Accuracy: 0.7003, lr: 6.634e-04\n",
            "Epoch 30, Validation Loss: 0.7008, Validation Accuracy: 0.7041, lr: 6.302e-04\n",
            "ckp saved!\n",
            "Epoch 31, Validation Loss: 0.6911, Validation Accuracy: 0.6905, lr: 5.987e-04\n",
            "Epoch 32, Validation Loss: 0.6957, Validation Accuracy: 0.6993, lr: 5.688e-04\n",
            "Epoch 33, Validation Loss: 0.6912, Validation Accuracy: 0.6922, lr: 5.404e-04\n",
            "Epoch 34, Validation Loss: 0.7097, Validation Accuracy: 0.6920, lr: 5.133e-04\n",
            "Epoch 35, Validation Loss: 0.6780, Validation Accuracy: 0.7175, lr: 4.877e-04\n",
            "Best!\n",
            "Epoch 36, Validation Loss: 0.6789, Validation Accuracy: 0.7177, lr: 4.633e-04\n",
            "Best!\n",
            "Epoch 37, Validation Loss: 0.7028, Validation Accuracy: 0.6972, lr: 4.401e-04\n",
            "Epoch 38, Validation Loss: 0.6633, Validation Accuracy: 0.7105, lr: 4.181e-04\n",
            "Epoch 39, Validation Loss: 0.6884, Validation Accuracy: 0.7062, lr: 3.972e-04\n",
            "Epoch 40, Validation Loss: 0.7128, Validation Accuracy: 0.6921, lr: 3.774e-04\n",
            "ckp saved!\n",
            "Epoch 41, Validation Loss: 0.7358, Validation Accuracy: 0.6798, lr: 3.585e-04\n",
            "Epoch 42, Validation Loss: 0.7112, Validation Accuracy: 0.6837, lr: 3.406e-04\n",
            "Epoch 43, Validation Loss: 0.6971, Validation Accuracy: 0.7093, lr: 3.235e-04\n",
            "Epoch 44, Validation Loss: 0.7180, Validation Accuracy: 0.7014, lr: 3.074e-04\n",
            "Epoch 45, Validation Loss: 0.6956, Validation Accuracy: 0.7144, lr: 2.920e-04\n",
            "Epoch 46, Validation Loss: 0.6635, Validation Accuracy: 0.7122, lr: 2.774e-04\n",
            "Epoch 47, Validation Loss: 0.6568, Validation Accuracy: 0.7155, lr: 2.635e-04\n",
            "Epoch 48, Validation Loss: 0.7189, Validation Accuracy: 0.6816, lr: 2.503e-04\n",
            "Epoch 49, Validation Loss: 0.6814, Validation Accuracy: 0.7120, lr: 2.378e-04\n",
            "Epoch 50, Validation Loss: 0.7808, Validation Accuracy: 0.6701, lr: 2.259e-04\n",
            "ckp saved!\n",
            "Epoch 51, Validation Loss: 0.6672, Validation Accuracy: 0.7237, lr: 2.146e-04\n",
            "Best!\n",
            "Epoch 52, Validation Loss: 0.7412, Validation Accuracy: 0.6709, lr: 2.039e-04\n",
            "Epoch 53, Validation Loss: 0.6676, Validation Accuracy: 0.7124, lr: 1.937e-04\n",
            "Epoch 54, Validation Loss: 0.6904, Validation Accuracy: 0.7120, lr: 1.840e-04\n",
            "Epoch 55, Validation Loss: 0.6819, Validation Accuracy: 0.6982, lr: 1.748e-04\n",
            "Epoch 56, Validation Loss: 0.7152, Validation Accuracy: 0.6792, lr: 1.661e-04\n",
            "Epoch 57, Validation Loss: 0.7560, Validation Accuracy: 0.6662, lr: 1.578e-04\n",
            "Epoch 58, Validation Loss: 0.7135, Validation Accuracy: 0.6834, lr: 1.499e-04\n",
            "Epoch 59, Validation Loss: 0.6871, Validation Accuracy: 0.6802, lr: 1.424e-04\n",
            "Epoch 60, Validation Loss: 0.6830, Validation Accuracy: 0.7103, lr: 1.353e-04\n",
            "ckp saved!\n",
            "Epoch 61, Validation Loss: 0.7157, Validation Accuracy: 0.6860, lr: 1.285e-04\n",
            "Epoch 62, Validation Loss: 0.7025, Validation Accuracy: 0.6688, lr: 1.221e-04\n",
            "Epoch 63, Validation Loss: 0.7429, Validation Accuracy: 0.6729, lr: 1.160e-04\n",
            "Epoch 64, Validation Loss: 0.6940, Validation Accuracy: 0.6880, lr: 1.102e-04\n",
            "Epoch 65, Validation Loss: 0.7538, Validation Accuracy: 0.6731, lr: 1.047e-04\n"
          ]
        },
        {
          "output_type": "error",
          "ename": "KeyboardInterrupt",
          "evalue": "ignored",
          "traceback": [
            "\u001b[0;31m---------------------------------------------------------------------------\u001b[0m",
            "\u001b[0;31mKeyboardInterrupt\u001b[0m                         Traceback (most recent call last)",
            "\u001b[0;32m<ipython-input-17-cb3318b51c1e>\u001b[0m in \u001b[0;36m<cell line: 16>\u001b[0;34m()\u001b[0m\n\u001b[1;32m     29\u001b[0m           \u001b[0;31m# Backward pass and optimization\u001b[0m\u001b[0;34m\u001b[0m\u001b[0;34m\u001b[0m\u001b[0m\n\u001b[1;32m     30\u001b[0m           \u001b[0moptimizer\u001b[0m\u001b[0;34m.\u001b[0m\u001b[0mzero_grad\u001b[0m\u001b[0;34m(\u001b[0m\u001b[0;34m)\u001b[0m\u001b[0;31m# clear the previous gradients\u001b[0m\u001b[0;34m\u001b[0m\u001b[0;34m\u001b[0m\u001b[0m\n\u001b[0;32m---> 31\u001b[0;31m           \u001b[0mloss\u001b[0m\u001b[0;34m.\u001b[0m\u001b[0mbackward\u001b[0m\u001b[0;34m(\u001b[0m\u001b[0;34m)\u001b[0m\u001b[0;31m# compute gradient of loss\u001b[0m\u001b[0;34m\u001b[0m\u001b[0;34m\u001b[0m\u001b[0m\n\u001b[0m\u001b[1;32m     32\u001b[0m           \u001b[0moptimizer\u001b[0m\u001b[0;34m.\u001b[0m\u001b[0mstep\u001b[0m\u001b[0;34m(\u001b[0m\u001b[0;34m)\u001b[0m\u001b[0;31m# update the weigths\u001b[0m\u001b[0;34m\u001b[0m\u001b[0;34m\u001b[0m\u001b[0m\n\u001b[1;32m     33\u001b[0m \u001b[0;34m\u001b[0m\u001b[0m\n",
            "\u001b[0;32m/usr/local/lib/python3.10/dist-packages/torch/_tensor.py\u001b[0m in \u001b[0;36mbackward\u001b[0;34m(self, gradient, retain_graph, create_graph, inputs)\u001b[0m\n\u001b[1;32m    485\u001b[0m                 \u001b[0minputs\u001b[0m\u001b[0;34m=\u001b[0m\u001b[0minputs\u001b[0m\u001b[0;34m,\u001b[0m\u001b[0;34m\u001b[0m\u001b[0;34m\u001b[0m\u001b[0m\n\u001b[1;32m    486\u001b[0m             )\n\u001b[0;32m--> 487\u001b[0;31m         torch.autograd.backward(\n\u001b[0m\u001b[1;32m    488\u001b[0m             \u001b[0mself\u001b[0m\u001b[0;34m,\u001b[0m \u001b[0mgradient\u001b[0m\u001b[0;34m,\u001b[0m \u001b[0mretain_graph\u001b[0m\u001b[0;34m,\u001b[0m \u001b[0mcreate_graph\u001b[0m\u001b[0;34m,\u001b[0m \u001b[0minputs\u001b[0m\u001b[0;34m=\u001b[0m\u001b[0minputs\u001b[0m\u001b[0;34m\u001b[0m\u001b[0;34m\u001b[0m\u001b[0m\n\u001b[1;32m    489\u001b[0m         )\n",
            "\u001b[0;32m/usr/local/lib/python3.10/dist-packages/torch/autograd/__init__.py\u001b[0m in \u001b[0;36mbackward\u001b[0;34m(tensors, grad_tensors, retain_graph, create_graph, grad_variables, inputs)\u001b[0m\n\u001b[1;32m    198\u001b[0m     \u001b[0;31m# some Python versions print out the first line of a multi-line function\u001b[0m\u001b[0;34m\u001b[0m\u001b[0;34m\u001b[0m\u001b[0m\n\u001b[1;32m    199\u001b[0m     \u001b[0;31m# calls in the traceback and some print out the last line\u001b[0m\u001b[0;34m\u001b[0m\u001b[0;34m\u001b[0m\u001b[0m\n\u001b[0;32m--> 200\u001b[0;31m     Variable._execution_engine.run_backward(  # Calls into the C++ engine to run the backward pass\n\u001b[0m\u001b[1;32m    201\u001b[0m         \u001b[0mtensors\u001b[0m\u001b[0;34m,\u001b[0m \u001b[0mgrad_tensors_\u001b[0m\u001b[0;34m,\u001b[0m \u001b[0mretain_graph\u001b[0m\u001b[0;34m,\u001b[0m \u001b[0mcreate_graph\u001b[0m\u001b[0;34m,\u001b[0m \u001b[0minputs\u001b[0m\u001b[0;34m,\u001b[0m\u001b[0;34m\u001b[0m\u001b[0;34m\u001b[0m\u001b[0m\n\u001b[1;32m    202\u001b[0m         allow_unreachable=True, accumulate_grad=True)  # Calls into the C++ engine to run the backward pass\n",
            "\u001b[0;31mKeyboardInterrupt\u001b[0m: "
          ]
        }
      ]
    },
    {
      "cell_type": "code",
      "source": [
        "if TRAIN:\n",
        "  f,ax = plt.subplots(1,1)\n",
        "  ax2 = ax.twinx()\n",
        "  ax.plot(train_curve,label=\"train\",color=\"blue\")\n",
        "  ax.plot(val_curve,label=\"validation\",color=\"orange\")\n",
        "  ax2.axvline(best_epoch,color=\"r\",linestyle=\"--\",label=\"best epoch\")\n",
        "  ax.legend(loc=1)\n",
        "  ax.set_ylabel(\"Loss\")\n",
        "\n",
        "\n",
        "  ax2.plot(lr_curve,\"k--\",label=\"LR\",)\n",
        "  ax2.legend(loc=2)\n",
        "  plt.xlabel(\"Epochs\")\n",
        "  ax2.set_ylabel(\"LR\")\n",
        "  ax.set_yscale(\"log\")"
      ],
      "metadata": {
        "id": "7Y6cCPzSUmxy",
        "colab": {
          "base_uri": "https://localhost:8080/",
          "height": 430
        },
        "outputId": "34239f51-d96c-4ca0-f3bb-1bc7a6ff3e3f"
      },
      "execution_count": 18,
      "outputs": [
        {
          "output_type": "display_data",
          "data": {
            "text/plain": [
              "<Figure size 640x480 with 2 Axes>"
            ],
            "image/png": "[encoded data removed]"
          },
          "metadata": {}
        }
      ]
    },
    {
      "cell_type": "code",
      "source": [
        "model=Net()\n",
        "model.load_state_dict(torch.load('results/best_weights.pth'))\n",
        "model.eval()"
      ],
      "metadata": {
        "id": "f2gJYemOlIYO",
        "colab": {
          "base_uri": "https://localhost:8080/"
        },
        "outputId": "ba40a98f-4471-4bf7-91a7-32c30fbb4d5f"
      },
      "execution_count": 19,
      "outputs": [
        {
          "output_type": "execute_result",
          "data": {
            "text/plain": [
              "Net(\n",
              "  (conv1): Conv2d(1, 32, kernel_size=(2, 2), stride=(1, 1))\n",
              "  (conv1_1): Conv2d(32, 16, kernel_size=(2, 2), stride=(1, 1))\n",
              "  (conv1_2): Conv2d(16, 32, kernel_size=(2, 2), stride=(1, 1))\n",
              "  (pool): MaxPool2d(kernel_size=2, stride=2, padding=0, dilation=1, ceil_mode=False)\n",
              "  (conv2): Conv2d(32, 32, kernel_size=(2, 2), stride=(1, 1))\n",
              "  (conv2_1): Conv2d(32, 64, kernel_size=(2, 2), stride=(1, 1))\n",
              "  (conv2_2): Conv2d(64, 64, kernel_size=(2, 2), stride=(1, 1))\n",
              "  (fc1): Linear(in_features=64, out_features=64, bias=True)\n",
              "  (fc2): Linear(in_features=64, out_features=64, bias=True)\n",
              "  (dpo1): Dropout(p=0.3, inplace=False)\n",
              "  (fc3): Linear(in_features=64, out_features=4, bias=True)\n",
              ")"
            ]
          },
          "metadata": {},
          "execution_count": 19
        }
      ]
    },
    {
      "cell_type": "code",
      "source": [
        "from sklearn.metrics import confusion_matrix,ConfusionMatrixDisplay\n",
        "\n",
        "def test_model(model, test_loader):\n",
        "    model.eval()\n",
        "\n",
        "    y_true = []\n",
        "    y_pred = []\n",
        "\n",
        "    with torch.no_grad():\n",
        "        for inputs, targets in test_loader:\n",
        "            \n",
        "            outputs = model(inputs)\n",
        "            targets = targets.numpy()\n",
        "            outputs = outputs.numpy()\n",
        "\n",
        "            predicted = np.argmax(outputs, 1)\n",
        "            targets = np.argmax(targets , 1)\n",
        "\n",
        "            y_true.extend(targets)\n",
        "            y_pred.extend(predicted)\n",
        "\n",
        "    cm = confusion_matrix(y_true, y_pred,normalize=\"true\")\n",
        "\n",
        "    return np.array(y_true), np.array(y_pred), cm"
      ],
      "metadata": {
        "id": "3o2hWEa2of-e"
      },
      "execution_count": 20,
      "outputs": []
    },
    {
      "cell_type": "code",
      "source": [
        "_,_,cm=test_model(model, test_loader)"
      ],
      "metadata": {
        "id": "DvTuz_ujsT4n"
      },
      "execution_count": 21,
      "outputs": []
    },
    {
      "cell_type": "code",
      "source": [
        "disp = ConfusionMatrixDisplay(confusion_matrix=cm,\n",
        "                              display_labels=[\"0 rings\", \"1 ring\", \"2 rings\", \"3+ rings\"])\n",
        "disp.plot()\n",
        "\n",
        "plt.show()"
      ],
      "metadata": {
        "id": "wwmKpzbesqRd",
        "colab": {
          "base_uri": "https://localhost:8080/",
          "height": 453
        },
        "outputId": "e27becc2-8510-47d9-f477-363e695df226"
      },
      "execution_count": 22,
      "outputs": [
        {
          "output_type": "display_data",
          "data": {
            "text/plain": [
              "<Figure size 640x480 with 2 Axes>"
            ],
            "image/png": "[encoded data removed]"
          },
          "metadata": {}
        }
      ]
    },
    {
      "cell_type": "code",
      "source": [
        "def compute_integrated_gradient(batch_x, batch_blank, c, model,MODE = \"max\"):\n",
        "    mean_grad = 0\n",
        "    n = 64\n",
        "    if MODE == \"label\":\n",
        "          c = torch.argmax(c)\n",
        "    for i in range(1, n + 1):\n",
        "        x = batch_blank + i / n * (batch_x - batch_blank)\n",
        "        x.requires_grad = True\n",
        "        y = model(x).squeeze()\n",
        "        if MODE == \"label\":\n",
        "          \n",
        "          y = y[c]\n",
        "        if MODE == \"pred\":\n",
        "          c = torch.argmax(y)\n",
        "          y = y[c]\n",
        "        if MODE == \"sum\": \n",
        "          c = torch.argmax(y)  \n",
        "          y = y.sum()\n",
        "      \n",
        "        #print(y.shape)\n",
        "        (grad,) = torch.autograd.grad(y, x,is_grads_batched=False)\n",
        "        mean_grad += grad / n\n",
        "\n",
        "    integrated_gradients = (batch_x - batch_blank) * mean_grad\n",
        "    integrated_gradients=integrated_gradients.detach().numpy()\n",
        "    integrated_gradients = integrated_gradients / np.absolute(integrated_gradients).max()\n",
        "\n",
        "    return integrated_gradients,c.detach().numpy().squeeze()"
      ],
      "metadata": {
        "id": "aXgl6Q0KuUtY"
      },
      "execution_count": 23,
      "outputs": []
    },
    {
      "cell_type": "code",
      "source": [
        "def get_IGs(test_dataset):\n",
        "  IGs = []\n",
        "  preds = []\n",
        "\n",
        "  for i, (r,c) in enumerate(test_dataset):\n",
        "    batch_x = r.unsqueeze(0)\n",
        "    batch_blank = torch.zeros_like(batch_x)\n",
        "\n",
        "    IG,pred = compute_integrated_gradient(batch_x, batch_blank, c, model,MODE=\"pred\")\n",
        "    \n",
        "    IGs.append(IG.squeeze())\n",
        "    preds.append(pred)\n",
        "\n",
        "    if i > 127:\n",
        "      break\n",
        "  return(IGs,preds)\n",
        "def plot_IG(dat,IG,pred):\n",
        "  image,lab = dat \n",
        "  image,lab = image.numpy().squeeze(),lab.numpy()\n",
        "  f,ax = plt.subplots(1,2,figsize=(8,5))\n",
        "  ax[0].matshow(image)\n",
        "  ax[0].set_title(\" class {}\".format(np.argmax(lab)),fontsize=30)\n",
        "  ax[1].matshow(IG,cmap=\"seismic\",vmin=-1,vmax=1)\n",
        "  ax[1].set_title(\"IG {}\".format(pred),fontsize=30)\n",
        "  print(np.unique(image))"
      ],
      "metadata": {
        "id": "c0rjDjCSy3le"
      },
      "execution_count": 24,
      "outputs": []
    },
    {
      "cell_type": "code",
      "source": [
        " "
      ],
      "metadata": {
        "id": "EOkwhHge4Qnc"
      },
      "execution_count": 24,
      "outputs": []
    },
    {
      "cell_type": "code",
      "source": [
        "def plot_IG(dat,IG,pred):\n",
        "  image,lab = dat \n",
        "  image,lab = image.numpy().squeeze(),lab.numpy()\n",
        "  f,ax = plt.subplots(1,2,figsize=(8,5))\n",
        "  ax[0].matshow(image)\n",
        "  ax[0].set_title(\" class {}\".format(np.argmax(lab)),fontsize=30)\n",
        "  ax[1].matshow(IG,cmap=\"seismic\",vmin=-1,vmax=1)\n",
        "  ax[1].set_title(\"IG {}\".format(pred),fontsize=30)\n",
        "  print(np.unique(image))"
      ],
      "metadata": {
        "id": "C0yeKVJB0G8w"
      },
      "execution_count": 25,
      "outputs": []
    },
    {
      "cell_type": "code",
      "source": [
        "if 0:\n",
        "  IGs,preds = get_IGs(test_dataset)\n",
        "  for i in range(10):\n",
        "    to_plot = i\n",
        "    plot_IG(test_dataset[to_plot],IGs[to_plot],preds[to_plot])"
      ],
      "metadata": {
        "id": "jBmv1Ywn19Qj"
      },
      "execution_count": 26,
      "outputs": []
    },
    {
      "cell_type": "code",
      "source": [
        "im,lab = test_dataset[2]\n",
        "print(im.shape)\n",
        "print(lab.shape)"
      ],
      "metadata": {
        "id": "3shswkpqGEUb",
        "colab": {
          "base_uri": "https://localhost:8080/"
        },
        "outputId": "c79b22e5-1dff-42d6-9bde-0148ba219189"
      },
      "execution_count": 27,
      "outputs": [
        {
          "output_type": "stream",
          "name": "stdout",
          "text": [
            "torch.Size([1, 16, 16])\n",
            "torch.Size([4])\n"
          ]
        }
      ]
    },
    {
      "cell_type": "code",
      "source": [
        "def get_gradients(x,lab, model,device=\"cpu\"):\n",
        "  #  function that takes a model and a element and returns gradient for that point\n",
        "  model.eval()\n",
        "  loss=0.0\n",
        "  y = model(x)\n",
        "  L = criterion(y, lab)\n",
        "  params = [p for p in model.parameters() if p.requires_grad]\n",
        "  grads = torch.autograd.grad(L, params )\n",
        "  return list(grads)\n",
        "\n",
        "def grad_dot_prod(grad_z0,grad_z1):\n",
        "  #scalar product for all the gradients (iterated over the list)\n",
        "    return sum([torch.sum(k*j).data for k,j in zip(grad_z0,grad_z1)]).cpu().numpy()\n"
      ],
      "metadata": {
        "id": "5zGlxECaDpPb"
      },
      "execution_count": 28,
      "outputs": []
    },
    {
      "cell_type": "code",
      "source": [
        "grads = get_gradients(im.unsqueeze(0),lab.unsqueeze(0),model)\n",
        "print(grads[0].shape) # this is the fist conv layer 16 kernels with 2x2 kernel size"
      ],
      "metadata": {
        "id": "tTxWV7UHF6qr",
        "colab": {
          "base_uri": "https://localhost:8080/"
        },
        "outputId": "eb3ecb96-588f-4fe5-bfd1-933ac009bee6"
      },
      "execution_count": 29,
      "outputs": [
        {
          "output_type": "stream",
          "name": "stdout",
          "text": [
            "torch.Size([32, 1, 2, 2])\n"
          ]
        }
      ]
    },
    {
      "cell_type": "code",
      "source": [
        "dotp = grad_dot_prod(grads,grads)# test the function\n",
        "print(\"this is the gradients module : \", dotp)"
      ],
      "metadata": {
        "id": "W-tjq2gVQCbc",
        "colab": {
          "base_uri": "https://localhost:8080/"
        },
        "outputId": "b8c19924-e1a6-46fb-f51d-05981b06323f"
      },
      "execution_count": 30,
      "outputs": [
        {
          "output_type": "stream",
          "name": "stdout",
          "text": [
            "this is the gradients module :  10389.137\n"
          ]
        }
      ]
    },
    {
      "cell_type": "code",
      "source": [
        "#list of chekpoints that we saved\n",
        "ckp_list = []\n",
        "for file in os.listdir(\"results/\"):\n",
        "    if file.startswith(\"ckp\"):\n",
        "        print(\"results/\"+file)\n",
        "        ckp_list.append(\"results/\"+file)\n",
        "ckp_list.sort()    \n",
        "assert len(lr_ckp  )==len(ckp_list)"
      ],
      "metadata": {
        "id": "RgGxVIlpNFlD",
        "colab": {
          "base_uri": "https://localhost:8080/"
        },
        "outputId": "f92c7b1b-f91b-421f-c3f7-c16bc17fd437"
      },
      "execution_count": 31,
      "outputs": [
        {
          "output_type": "stream",
          "name": "stdout",
          "text": [
            "results/ckp_40.pth\n",
            "results/ckp_10.pth\n",
            "results/ckp_20.pth\n",
            "results/ckp_30.pth\n",
            "results/ckp_50.pth\n",
            "results/ckp_60.pth\n"
          ]
        }
      ]
    },
    {
      "cell_type": "code",
      "source": [
        "def load_model(ckp):\n",
        "  # a function that load a model given a checkpoint path\n",
        "  model=Net()\n",
        "  model.load_state_dict(torch.load(ckp))\n",
        "  model.eval()\n",
        "  return model"
      ],
      "metadata": {
        "id": "jpb86cnqOBWu"
      },
      "execution_count": 32,
      "outputs": []
    },
    {
      "cell_type": "code",
      "source": [
        "def tracIn(dataset,z_test,ckp_list,lr_ckp):\n",
        "  train_dataset_size = len(dataset)\n",
        "  ckp_iter=0\n",
        "  influences = [0.0 for _ in range(train_dataset_size)]\n",
        "\n",
        "  for c, ckp in enumerate(ckp_list):\n",
        "    model = load_model(ckp)# carico il checkpoint\n",
        "    lr=lr_ckp[c]\n",
        "\n",
        "    im,lab = z_test#test_dataset[2]\n",
        "    #print(im.shape)\n",
        "    #print(lab.shape)\n",
        "    grads_test = get_gradients(im.unsqueeze(0),lab.unsqueeze(0),model)\n",
        "    \n",
        "    for i in range(train_dataset_size):\n",
        "\n",
        "        im,lab = dataset[i]#test_dataset[2]\n",
        "        grads_train = get_gradients(im.unsqueeze(0),lab.unsqueeze(0),model)\n",
        "        dotp = grad_dot_prod(grads_test,grads_train)\n",
        "        influences[i]+=dotp*lr\n",
        "    \n",
        "  influences = np.array(influences)\n",
        "  opponents = np.argsort(influences)\n",
        "  proponents = opponents[::-1]\n",
        "\n",
        "  return influences, proponents, opponents\n",
        "\n",
        "    "
      ],
      "metadata": {
        "id": "3O_cTjXvBh6E"
      },
      "execution_count": 33,
      "outputs": []
    },
    {
      "cell_type": "code",
      "source": [
        "#cut the dataset so we are faster\n",
        "import torch.utils.data as data_utils\n",
        "train_dataset = HitImageGenerator(X_train,y_train)\n",
        "indices = torch.arange(256)\n",
        "tr_small = data_utils.Subset(train_dataset, indices)"
      ],
      "metadata": {
        "id": "5ZGy8VWKSwPk"
      },
      "execution_count": 34,
      "outputs": []
    },
    {
      "cell_type": "code",
      "source": [
        "influences, proponents, opponents = tracIn(tr_small,test_dataset[2],ckp_list,lr_ckp)"
      ],
      "metadata": {
        "id": "z1WTXhhKUOxW"
      },
      "execution_count": 35,
      "outputs": []
    },
    {
      "cell_type": "code",
      "source": [
        "influences[opponents[-1]]"
      ],
      "metadata": {
        "id": "my90bjh_p4_9",
        "colab": {
          "base_uri": "https://localhost:8080/"
        },
        "outputId": "545204bf-fc5c-40bc-dbfb-bbfc66df87e2"
      },
      "execution_count": 36,
      "outputs": [
        {
          "output_type": "execute_result",
          "data": {
            "text/plain": [
              "134.9092607740862"
            ]
          },
          "metadata": {},
          "execution_count": 36
        }
      ]
    },
    {
      "cell_type": "code",
      "source": [
        "plt.figure()\n",
        "_,_,_ = plt.hist(influences,25)\n",
        "plt.xlabel(\"influence score\")"
      ],
      "metadata": {
        "id": "dDSCtuQDUdLP",
        "colab": {
          "base_uri": "https://localhost:8080/",
          "height": 467
        },
        "outputId": "fcb50e29-2b4a-42ef-e2fe-ddf05200517b"
      },
      "execution_count": 37,
      "outputs": [
        {
          "output_type": "execute_result",
          "data": {
            "text/plain": [
              "Text(0.5, 0, 'influence score')"
            ]
          },
          "metadata": {},
          "execution_count": 37
        },
        {
          "output_type": "display_data",
          "data": {
            "text/plain": [
              "<Figure size 640x480 with 1 Axes>"
            ],
            "image/png": "[encoded data removed]"
          },
          "metadata": {}
        }
      ]
    },
    {
      "cell_type": "code",
      "source": [
        "proponents"
      ],
      "metadata": {
        "id": "0saGrdWnWRZ1",
        "colab": {
          "base_uri": "https://localhost:8080/"
        },
        "outputId": "8839071b-f867-474d-9e57-2f4d59716153"
      },
      "execution_count": 38,
      "outputs": [
        {
          "output_type": "execute_result",
          "data": {
            "text/plain": [
              "array([ 15, 188, 250, 107, 176, 170,  70,  85, 143,  75, 227,  23,   5,\n",
              "        29, 253, 148,  64,   3, 110, 149,  91,  18, 112, 139,  98,  72,\n",
              "        25, 246, 114, 152, 140, 195, 132, 111,  54,  56, 206,  88, 199,\n",
              "       222, 211,  16,  96, 209, 194, 216, 147,  65, 236,  38,  28,  69,\n",
              "       145,  32, 201, 134, 162, 248, 245, 108,  95, 251,  36,  47,  35,\n",
              "       172,  41,  86, 144, 183, 249,   1,  97,  61, 204,  99, 185, 124,\n",
              "        73,  33, 191, 186, 157, 210, 103,  77,  78,  26, 146, 215, 197,\n",
              "       122, 154, 252, 223, 200,  92, 119, 214, 228, 174, 217, 129, 247,\n",
              "       131, 203,  83,  87, 180, 120,  89, 177, 196, 169,  12, 184, 160,\n",
              "       118,  30, 153, 202,  79, 123,  62,  71,  17,  76,  20, 100,  43,\n",
              "       230, 233, 254,   7, 178, 198,   6, 138,   0, 165, 105, 127, 137,\n",
              "       158,  44, 189,  82,   9, 179,  63, 133,  49,  22, 226,  67, 175,\n",
              "       182, 208,   4, 235, 213,   8, 116, 231, 212, 121, 161,  94, 135,\n",
              "        80, 187, 234, 115, 255,   2, 167, 207, 109,  34, 221,  37,  57,\n",
              "       104,  51, 125,  21, 159, 106,  53, 242, 190,  13, 117, 168,  84,\n",
              "       219, 155, 237, 142,  45, 244,  90, 220,  50, 173, 239, 136, 166,\n",
              "       163,  59,  27,  66,  60, 238, 193,  58, 232, 181,  46,  14,  10,\n",
              "        42, 241, 171, 243, 156, 205,  39,  48, 224, 101,  55,  40,  74,\n",
              "       240, 164, 113,  11,  19,  24,  31,  68, 151, 150, 128, 130, 229,\n",
              "        93,  81, 102, 192, 141, 126,  52, 225, 218])"
            ]
          },
          "metadata": {},
          "execution_count": 38
        }
      ]
    },
    {
      "cell_type": "code",
      "source": [
        "def plot_proponents(dat,train_datatset):\n",
        "  influences, proponents, opponents = tracIn(train_datatset,dat,ckp_list,lr_ckp)\n",
        "  image,lab = dat \n",
        "  image_p, lab_p = train_datatset[proponents[3]]\n",
        "  image_o, lab_o = train_datatset[opponents[3]]\n",
        "  image,lab = image.numpy().squeeze(),lab.numpy()\n",
        "  image_p,lab_p = image_p.numpy().squeeze(),lab_p.numpy()\n",
        "  image_o,lab_o = image_o.numpy().squeeze(),lab_o.numpy()\n",
        "  f,ax = plt.subplots(1,3,figsize=(12,5))\n",
        "  ax[0].matshow(image)\n",
        "  ax[0].set_title(\" class {}\".format(np.argmax(lab)),fontsize=20)\n",
        "  ax[1].matshow(image_p)\n",
        "  ax[1].set_title(\" Proponent class {}\".format(np.argmax(lab_p)),fontsize=20)\n",
        "  ax[2].matshow(image_o)\n",
        "  ax[2].set_title(\" Opponent class {}\".format(np.argmax(lab_o)),fontsize=20)\n",
        "  "
      ],
      "metadata": {
        "id": "TZJZyaa4VZYB"
      },
      "execution_count": 39,
      "outputs": []
    },
    {
      "cell_type": "code",
      "source": [
        "plot_proponents(test_dataset[4], tr_small)"
      ],
      "metadata": {
        "id": "HlVOIlwMWFvF",
        "colab": {
          "base_uri": "https://localhost:8080/",
          "height": 369
        },
        "outputId": "31d528ea-3628-4e46-cb6f-36d38cee97eb"
      },
      "execution_count": 40,
      "outputs": [
        {
          "output_type": "display_data",
          "data": {
            "text/plain": [
              "<Figure size 1200x500 with 3 Axes>"
            ],
            "image/png": "[encoded data removed]"
          },
          "metadata": {}
        }
      ]
    },
    {
      "cell_type": "code",
      "source": [],
      "metadata": {
        "id": "7ayV0CmOoZvL"
      },
      "execution_count": null,
      "outputs": []
    }
  ]
}