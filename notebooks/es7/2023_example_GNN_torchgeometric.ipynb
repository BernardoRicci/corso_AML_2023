{
  "cells": [
    {
      "cell_type": "markdown",
      "metadata": {
        "id": "view-in-github",
        "colab_type": "text"
      },
      "source": [
        "<a href=\"https://colab.research.google.com/github/stefanogiagu/corso_AML_2023/blob/main/notebooks/es7/2023_example_GNN_torchgeometric.ipynb\" target=\"_parent\"><img src=\"https://colab.research.google.com/assets/colab-badge.svg\" alt=\"Open In Colab\"/></a>"
      ]
    },
    {
      "cell_type": "markdown",
      "metadata": {
        "tags": [],
        "id": "zqsKj2BShaIU"
      },
      "source": [
        "# Advanced Machine Learning for Physics 2022-2023\n",
        "\n",
        "### example implementation of a simple GNN with pytorch geometric\n",
        "\n",
        "code and figures from S.Raschka et al ML with pytorch course (2022).\n",
        "\n",
        "[SLIDE](https://jamboard.google.com/d/1vHu2bKmZsYEBAygKhTYFo-CcOhVGQIAw8zSk55Ju9i8/edit?usp=sharing)"
      ]
    },
    {
      "cell_type": "code",
      "source": [
        "# install needed libraries\n",
        "#!pip install torch-scatter torch-sparse torch-cluster torch-spline-conv torch-geometric #-f https://data.pyg.org/whl/torch-1.11.0+cu113.html"
      ],
      "metadata": {
        "id": "dsOYaX1OiWfX"
      },
      "execution_count": 1,
      "outputs": []
    },
    {
      "cell_type": "code",
      "source": [
        "# for compatibility https://stackoverflow.com/questions/67285115/building-wheels-for-torch-sparse-in-colab-takes-forever\n",
        "import torch\n",
        "print(torch.__version__)\n",
        "\n",
        "!pip uninstall torch-scatter torch-sparse torch-geometric torch-cluster torch-spline-conv --y\n",
        "!pip install torch-scatter -f https://data.pyg.org/whl/torch-{torch.__version__}.html\n",
        "!pip install torch-spline-conv -f https://data.pyg.org/whl/torch-{torch.__version__}.html\n",
        "!pip install torch-sparse -f https://data.pyg.org/whl/torch-{torch.__version__}.html\n",
        "!pip install torch-cluster -f https://data.pyg.org/whl/torch-{torch.__version__}.html\n",
        "!pip install git+https://github.com/pyg-team/pytorch_geometric.git"
      ],
      "metadata": {
        "colab": {
          "base_uri": "https://localhost:8080/"
        },
        "id": "BABquTeim-r6",
        "outputId": "71f71a68-dbf2-4964-e1a7-89c1f4f95a86"
      },
      "execution_count": 2,
      "outputs": [
        {
          "output_type": "stream",
          "name": "stdout",
          "text": [
            "2.0.0+cu118\n",
            "\u001b[33mWARNING: Skipping torch-scatter as it is not installed.\u001b[0m\u001b[33m\n",
            "\u001b[0m\u001b[33mWARNING: Skipping torch-sparse as it is not installed.\u001b[0m\u001b[33m\n",
            "\u001b[0m\u001b[33mWARNING: Skipping torch-geometric as it is not installed.\u001b[0m\u001b[33m\n",
            "\u001b[0m\u001b[33mWARNING: Skipping torch-cluster as it is not installed.\u001b[0m\u001b[33m\n",
            "\u001b[0m\u001b[33mWARNING: Skipping torch-spline-conv as it is not installed.\u001b[0m\u001b[33m\n",
            "\u001b[0mLooking in indexes: https://pypi.org/simple, https://us-python.pkg.dev/colab-wheels/public/simple/\n",
            "Looking in links: https://data.pyg.org/whl/torch-2.0.0+cu118.html\n",
            "Collecting torch-scatter\n",
            "  Downloading https://data.pyg.org/whl/torch-2.0.0%2Bcu118/torch_scatter-2.1.1%2Bpt20cu118-cp310-cp310-linux_x86_64.whl (10.2 MB)\n",
            "\u001b[2K     \u001b[90m━━━━━━━━━━━━━━━━━━━━━━━━━━━━━━━━━━━━━━━━\u001b[0m \u001b[32m10.2/10.2 MB\u001b[0m \u001b[31m26.8 MB/s\u001b[0m eta \u001b[36m0:00:00\u001b[0m\n",
            "\u001b[?25hInstalling collected packages: torch-scatter\n",
            "Successfully installed torch-scatter-2.1.1+pt20cu118\n",
            "Looking in indexes: https://pypi.org/simple, https://us-python.pkg.dev/colab-wheels/public/simple/\n",
            "Looking in links: https://data.pyg.org/whl/torch-2.0.0+cu118.html\n",
            "Collecting torch-spline-conv\n",
            "  Downloading https://data.pyg.org/whl/torch-2.0.0%2Bcu118/torch_spline_conv-1.2.2%2Bpt20cu118-cp310-cp310-linux_x86_64.whl (884 kB)\n",
            "\u001b[2K     \u001b[90m━━━━━━━━━━━━━━━━━━━━━━━━━━━━━━━━━━━━━━\u001b[0m \u001b[32m884.9/884.9 kB\u001b[0m \u001b[31m18.8 MB/s\u001b[0m eta \u001b[36m0:00:00\u001b[0m\n",
            "\u001b[?25hInstalling collected packages: torch-spline-conv\n",
            "Successfully installed torch-spline-conv-1.2.2+pt20cu118\n",
            "Looking in indexes: https://pypi.org/simple, https://us-python.pkg.dev/colab-wheels/public/simple/\n",
            "Looking in links: https://data.pyg.org/whl/torch-2.0.0+cu118.html\n",
            "Collecting torch-sparse\n",
            "  Downloading https://data.pyg.org/whl/torch-2.0.0%2Bcu118/torch_sparse-0.6.17%2Bpt20cu118-cp310-cp310-linux_x86_64.whl (4.8 MB)\n",
            "\u001b[2K     \u001b[90m━━━━━━━━━━━━━━━━━━━━━━━━━━━━━━━━━━━━━━━━\u001b[0m \u001b[32m4.8/4.8 MB\u001b[0m \u001b[31m51.0 MB/s\u001b[0m eta \u001b[36m0:00:00\u001b[0m\n",
            "\u001b[?25hRequirement already satisfied: scipy in /usr/local/lib/python3.10/dist-packages (from torch-sparse) (1.10.1)\n",
            "Requirement already satisfied: numpy<1.27.0,>=1.19.5 in /usr/local/lib/python3.10/dist-packages (from scipy->torch-sparse) (1.22.4)\n",
            "Installing collected packages: torch-sparse\n",
            "Successfully installed torch-sparse-0.6.17+pt20cu118\n",
            "Looking in indexes: https://pypi.org/simple, https://us-python.pkg.dev/colab-wheels/public/simple/\n",
            "Looking in links: https://data.pyg.org/whl/torch-2.0.0+cu118.html\n",
            "Collecting torch-cluster\n",
            "  Downloading https://data.pyg.org/whl/torch-2.0.0%2Bcu118/torch_cluster-1.6.1%2Bpt20cu118-cp310-cp310-linux_x86_64.whl (3.3 MB)\n",
            "\u001b[2K     \u001b[90m━━━━━━━━━━━━━━━━━━━━━━━━━━━━━━━━━━━━━━━━\u001b[0m \u001b[32m3.3/3.3 MB\u001b[0m \u001b[31m41.5 MB/s\u001b[0m eta \u001b[36m0:00:00\u001b[0m\n",
            "\u001b[?25hRequirement already satisfied: scipy in /usr/local/lib/python3.10/dist-packages (from torch-cluster) (1.10.1)\n",
            "Requirement already satisfied: numpy<1.27.0,>=1.19.5 in /usr/local/lib/python3.10/dist-packages (from scipy->torch-cluster) (1.22.4)\n",
            "Installing collected packages: torch-cluster\n",
            "Successfully installed torch-cluster-1.6.1+pt20cu118\n",
            "Looking in indexes: https://pypi.org/simple, https://us-python.pkg.dev/colab-wheels/public/simple/\n",
            "Collecting git+https://github.com/pyg-team/pytorch_geometric.git\n",
            "  Cloning https://github.com/pyg-team/pytorch_geometric.git to /tmp/pip-req-build-zs_ex4x6\n",
            "  Running command git clone --filter=blob:none --quiet https://github.com/pyg-team/pytorch_geometric.git /tmp/pip-req-build-zs_ex4x6\n",
            "  Resolved https://github.com/pyg-team/pytorch_geometric.git to commit 6ddb3e26c165185831f72001b3d10a1e8b9bed29\n",
            "  Installing build dependencies ... \u001b[?25l\u001b[?25hdone\n",
            "  Getting requirements to build wheel ... \u001b[?25l\u001b[?25hdone\n",
            "  Preparing metadata (pyproject.toml) ... \u001b[?25l\u001b[?25hdone\n",
            "Requirement already satisfied: requests in /usr/local/lib/python3.10/dist-packages (from torch_geometric==2.4.0) (2.27.1)\n",
            "Requirement already satisfied: jinja2 in /usr/local/lib/python3.10/dist-packages (from torch_geometric==2.4.0) (3.1.2)\n",
            "Requirement already satisfied: scikit-learn in /usr/local/lib/python3.10/dist-packages (from torch_geometric==2.4.0) (1.2.2)\n",
            "Requirement already satisfied: numpy in /usr/local/lib/python3.10/dist-packages (from torch_geometric==2.4.0) (1.22.4)\n",
            "Requirement already satisfied: scipy in /usr/local/lib/python3.10/dist-packages (from torch_geometric==2.4.0) (1.10.1)\n",
            "Requirement already satisfied: tqdm in /usr/local/lib/python3.10/dist-packages (from torch_geometric==2.4.0) (4.65.0)\n",
            "Requirement already satisfied: pyparsing in /usr/local/lib/python3.10/dist-packages (from torch_geometric==2.4.0) (3.0.9)\n",
            "Requirement already satisfied: psutil>=5.8.0 in /usr/local/lib/python3.10/dist-packages (from torch_geometric==2.4.0) (5.9.5)\n",
            "Requirement already satisfied: MarkupSafe>=2.0 in /usr/local/lib/python3.10/dist-packages (from jinja2->torch_geometric==2.4.0) (2.1.2)\n",
            "Requirement already satisfied: certifi>=2017.4.17 in /usr/local/lib/python3.10/dist-packages (from requests->torch_geometric==2.4.0) (2022.12.7)\n",
            "Requirement already satisfied: urllib3<1.27,>=1.21.1 in /usr/local/lib/python3.10/dist-packages (from requests->torch_geometric==2.4.0) (1.26.15)\n",
            "Requirement already satisfied: charset-normalizer~=2.0.0 in /usr/local/lib/python3.10/dist-packages (from requests->torch_geometric==2.4.0) (2.0.12)\n",
            "Requirement already satisfied: idna<4,>=2.5 in /usr/local/lib/python3.10/dist-packages (from requests->torch_geometric==2.4.0) (3.4)\n",
            "Requirement already satisfied: threadpoolctl>=2.0.0 in /usr/local/lib/python3.10/dist-packages (from scikit-learn->torch_geometric==2.4.0) (3.1.0)\n",
            "Requirement already satisfied: joblib>=1.1.1 in /usr/local/lib/python3.10/dist-packages (from scikit-learn->torch_geometric==2.4.0) (1.2.0)\n",
            "Building wheels for collected packages: torch_geometric\n",
            "  Building wheel for torch_geometric (pyproject.toml) ... \u001b[?25l\u001b[?25hdone\n",
            "  Created wheel for torch_geometric: filename=torch_geometric-2.4.0-py3-none-any.whl size=926755 sha256=e12d113c2a1d065b75392ea9473ed566faf84f455f6b88c0436f2a4d91ef5960\n",
            "  Stored in directory: /tmp/pip-ephem-wheel-cache-y_hu4bz6/wheels/d3/78/eb/9e26525b948d19533f1688fb6c209cec8a0ba793d39b49ae8f\n",
            "Successfully built torch_geometric\n",
            "Installing collected packages: torch_geometric\n",
            "Successfully installed torch_geometric-2.4.0\n"
          ]
        }
      ]
    },
    {
      "cell_type": "code",
      "execution_count": 3,
      "metadata": {
        "id": "sScqo8U_haIc"
      },
      "outputs": [],
      "source": [
        "from IPython.display import Image\n",
        "%matplotlib inline\n",
        "\n",
        "\n",
        "import torch.nn.functional as F\n",
        "import torch.nn as nn\n",
        "\n",
        "from torch_geometric.datasets import QM9\n",
        "from torch_geometric.loader import DataLoader# this is the torch geometric loader\n",
        "from torch_geometric.nn import NNConv, global_add_pool\n",
        "\n",
        "import numpy as np\n"
      ]
    },
    {
      "cell_type": "code",
      "execution_count": 4,
      "metadata": {
        "colab": {
          "base_uri": "https://localhost:8080/"
        },
        "id": "rpoHNNZ2haIe",
        "outputId": "5973427d-cd81-4049-c53d-f9e30706e612"
      },
      "outputs": [
        {
          "output_type": "stream",
          "name": "stderr",
          "text": [
            "Downloading https://data.pyg.org/datasets/qm9_v3.zip\n",
            "Extracting ./raw/qm9_v3.zip\n",
            "Processing...\n",
            "Using a pre-processed version of the dataset. Please install 'rdkit' to alternatively process the raw data.\n",
            "Done!\n"
          ]
        },
        {
          "output_type": "execute_result",
          "data": {
            "text/plain": [
              "130831"
            ]
          },
          "metadata": {},
          "execution_count": 4
        }
      ],
      "source": [
        "# benchmark dataset QM9 (http://quantum-machine.org/datasets/.) made by small molecules with up to  23 atoms \n",
        "# (including 7 heavy atoms C, N, O, and S), 133,885 small organic molecules labeled with several geometric, \n",
        "# energetic, electronic, and thermodynamic properties\n",
        "# \n",
        "# availabel in torch geometric as benchmark datasaset\n",
        "dset = QM9('.') #download the dataset in currect directory\n",
        "len(dset)"
      ]
    },
    {
      "cell_type": "code",
      "execution_count": 5,
      "metadata": {
        "colab": {
          "base_uri": "https://localhost:8080/"
        },
        "id": "3FnKL34phaIe",
        "outputId": "395a17eb-00b4-4a7e-e589-2fe9f788c450"
      },
      "outputs": [
        {
          "output_type": "stream",
          "name": "stdout",
          "text": [
            "Data(x=[4, 11], edge_index=[2, 6], edge_attr=[6, 4], y=[1, 19], pos=[4, 3], idx=[1], name='gdb_2', z=[4])\n",
            "nodes in graph:  4\n",
            "x:  tensor([[0., 0., 1., 0., 0., 7., 0., 0., 0., 0., 3.],\n",
            "        [1., 0., 0., 0., 0., 1., 0., 0., 0., 0., 0.],\n",
            "        [1., 0., 0., 0., 0., 1., 0., 0., 0., 0., 0.],\n",
            "        [1., 0., 0., 0., 0., 1., 0., 0., 0., 0., 0.]])\n",
            "y:  torch.Size([1, 19])\n",
            "z:  tensor([7, 1, 1, 1])\n",
            "edge:  tensor([[0, 1],\n",
            "        [0, 2],\n",
            "        [0, 3],\n",
            "        [1, 0],\n",
            "        [2, 0],\n",
            "        [3, 0]])\n",
            "edge attr.:  tensor([[1., 0., 0., 0.],\n",
            "        [1., 0., 0., 0.],\n",
            "        [1., 0., 0., 0.],\n",
            "        [1., 0., 0., 0.],\n",
            "        [1., 0., 0., 0.],\n",
            "        [1., 0., 0., 0.]])\n"
          ]
        }
      ],
      "source": [
        "# example of how data are wrapped in torch geometric\n",
        "# the data object is a flexible wrapper for graph data\n",
        "#\n",
        "# standard keyword used by geometric: \n",
        "# x: contains node features\n",
        "# edge_attr: contains edge features\n",
        "# edge_index: includes the edge list\n",
        "# y: contains labels\n",
        "#\n",
        "# the QM9 data contains some additional specific attributes: \n",
        "# pos: the position of each of the molecules’ atoms in a 3D grid \n",
        "# z: the atomic number of each atom in the molecul.\n",
        "\n",
        "# the labels in the QM9 are physical properties of the molecules (dipole moment, free energy, enthalpy, isotropic polarization,...)\n",
        "# the task is to implement a GNN to predict isotropic polarization\n",
        "data = dset[1]\n",
        "print(data)\n",
        "\n",
        "print(\"nodes in graph: \",data.num_nodes)\n",
        "\n",
        "print('x: ', data.x)\n",
        "print('y: ', data.y.shape)\n",
        "print('z: ', data.z)\n",
        "print('edge: ', data.edge_index.t())\n",
        "print('edge attr.: ', data.edge_attr)"
      ]
    },
    {
      "cell_type": "code",
      "source": [
        "# it is possibile to add new attributes to the torch data wrapper\n",
        "\n",
        "data.my_attribute = torch.tensor([1, 2, 3])\n",
        "data"
      ],
      "metadata": {
        "colab": {
          "base_uri": "https://localhost:8080/"
        },
        "id": "zAABUHdWmiQ4",
        "outputId": "2792c748-1d63-4550-a205-d479b627ff62"
      },
      "execution_count": 6,
      "outputs": [
        {
          "output_type": "execute_result",
          "data": {
            "text/plain": [
              "Data(x=[4, 11], edge_index=[2, 6], edge_attr=[6, 4], y=[1, 19], pos=[4, 3], idx=[1], name='gdb_2', z=[4], my_attribute=[3])"
            ]
          },
          "metadata": {},
          "execution_count": 6
        }
      ]
    },
    {
      "cell_type": "code",
      "source": [
        "# the attributes can be moved to specific devices (cpu, gpu, ...)\n",
        "device = torch.device(\"cuda:0\" if torch.cuda.is_available() else \"cpu\")\n",
        "data.to(device)\n",
        "data.my_attribute.is_cuda #check if the attribute is in the GPU"
      ],
      "metadata": {
        "colab": {
          "base_uri": "https://localhost:8080/"
        },
        "id": "XvO9cGoLmwpN",
        "outputId": "4c5d330e-1102-46b6-ce0b-17e4ffbc97d6"
      },
      "execution_count": 7,
      "outputs": [
        {
          "output_type": "execute_result",
          "data": {
            "text/plain": [
              "True"
            ]
          },
          "metadata": {},
          "execution_count": 7
        }
      ]
    },
    {
      "cell_type": "markdown",
      "source": [
        "Implementation of the GNN\n",
        "\n",
        "as bonding between atomes are an important feature of the properties of the molecule, the GNN shoudl use both node and edge features\n",
        "\n",
        "for this scope torch geometric makes available the **torch_geometric.nn.NNConv** layer:\n",
        "\n",
        "$X^t_i = WX^{t-1}_u + \\sum_{j \\in N(i)} X_j^{t-1} h_w(e_{i,j})$\n",
        "\n",
        "in which $W$ is the weigth matrix of the node, and $h_w$ is a neural network parametrized with teh parameters $w$.\n",
        "\n",
        "NOTE: it is very similar to the basic one we have implemented last time:\n",
        "\n",
        "$X^t_i = W_1X^{t-1}_u + \\sum_{j \\in N(i)} X_j^{t-1}W_2$\n",
        "\n",
        "with the difference that now the $W_2$ equivalent, the neural network $h$, is parametrized based on the edge labels, which allows the weights to vary for different edge labels."
      ],
      "metadata": {
        "id": "WSKo_jcroLfZ"
      }
    },
    {
      "cell_type": "code",
      "execution_count": 9,
      "metadata": {
        "id": "3rnKciNChaIf"
      },
      "outputs": [],
      "source": [
        "# Implementation\n",
        "\n",
        "class ExampleNet(torch.nn.Module):\n",
        "    def __init__(self,num_node_features,num_edge_features):\n",
        "        super().__init__()\n",
        "        conv1_net =#W for the first conv\n",
        "        conv2_net = #W for the second conv\n",
        "        # NNConv arguments:\n",
        "        # in_channels: size of each input sample\n",
        "        # out_channels: size of each output sample\n",
        "        # a torch.nn.Module neural network representing h_w\n",
        "        # aggr: aggergation scheme (def: 'add', 'mean', 'max') \n",
        "        self.conv1 = NNConv(num_node_features, 32, conv1_net)\n",
        "        self.conv2 = NNConv(32, 16, conv2_net)\n",
        "\n",
        "        self.fc_1 = # this is the classifier that read the feature space of the nodes after the pooling\n",
        "        self.out = nn.Linear(32, 1)# regression\n",
        "        \n",
        "    def forward(self, data):\n",
        "        batch, x, edge_index, edge_attr=data.batch, data.x, data.edge_index, data.edge_attr\n",
        "        x = F.relu(self.conv1(x, edge_index, edge_attr))\n",
        "        x = F.relu(self.conv2(x, edge_index, edge_attr))\n",
        "        # torch_geometric.nn.global_add_pool: returns batch-wise graph-level-outputs by adding node features across \n",
        "        # the node dimension, so that for each single graph its output is computed by\n",
        "        # https://pytorch-geometric.readthedocs.io/en/latest/modules/nn.html#global-pooling-layers\n",
        "        x = global_add_pool(x,batch)\n",
        "        x = F.relu(self.fc_1(x))\n",
        "        output = self.out(x)\n",
        "        return output"
      ]
    },
    {
      "cell_type": "code",
      "execution_count": 10,
      "metadata": {
        "id": "m9-nx9zehaIg"
      },
      "outputs": [],
      "source": [
        "# split the dataset in train, validation, test\n",
        "from torch.utils.data import random_split\n",
        "\n",
        "\n",
        "train_set, valid_set, test_set = random_split(dset,[110000, 10831, 10000])\n",
        "\n",
        "trainloader = DataLoader(train_set, batch_size=32, shuffle=True) #from torch_geometric.loader import DataLoader\n",
        "validloader = DataLoader(valid_set, batch_size=32, shuffle=True)\n",
        "testloader = DataLoader(test_set, batch_size=32, shuffle=True)"
      ]
    },
    {
      "cell_type": "code",
      "source": [
        "ex_data = next(iter(trainloader))"
      ],
      "metadata": {
        "id": "xK71UwrrL-ix"
      },
      "execution_count": 16,
      "outputs": []
    },
    {
      "cell_type": "code",
      "source": [
        "print(\"N nodes : \",ex_data.num_nodes)\n",
        "print(\"N edges : \",ex_data.num_edges)"
      ],
      "metadata": {
        "colab": {
          "base_uri": "https://localhost:8080/"
        },
        "id": "dhxdu9NMMFrK",
        "outputId": "eb0fa7ed-5995-43b7-aab0-65caea8bcd18"
      },
      "execution_count": 21,
      "outputs": [
        {
          "output_type": "stream",
          "name": "stdout",
          "text": [
            "N nodes :  561\n",
            "N edges :  1160\n"
          ]
        }
      ]
    },
    {
      "cell_type": "code",
      "execution_count": 11,
      "metadata": {
        "id": "QLogmQfrhaIg"
      },
      "outputs": [],
      "source": [
        "# initialize the GNN\n",
        "qm9_node_feats, qm9_edge_feats = 11, 4\n",
        "epochs = 4\n",
        "net = ExampleNet(qm9_node_feats, qm9_edge_feats)\n",
        "\n",
        "optimizer = torch.optim.Adam(net.parameters(), lr=0.01)\n",
        "epochs = 4\n",
        "target_idx = 1 # index position of the polarizability label"
      ]
    },
    {
      "cell_type": "code",
      "execution_count": 12,
      "metadata": {
        "id": "1n-Tyu2XhaIg",
        "colab": {
          "base_uri": "https://localhost:8080/"
        },
        "outputId": "234faf06-84d1-4d99-99b8-9a8d437a6e1b"
      },
      "outputs": [
        {
          "output_type": "execute_result",
          "data": {
            "text/plain": [
              "ExampleNet(\n",
              "  (conv1): NNConv(11, 32, aggr=add, nn=Sequential(\n",
              "    (0): Linear(in_features=4, out_features=32, bias=True)\n",
              "    (1): ReLU()\n",
              "    (2): Linear(in_features=32, out_features=352, bias=True)\n",
              "  ))\n",
              "  (conv2): NNConv(32, 16, aggr=add, nn=Sequential(\n",
              "    (0): Linear(in_features=4, out_features=32, bias=True)\n",
              "    (1): ReLU()\n",
              "    (2): Linear(in_features=32, out_features=512, bias=True)\n",
              "  ))\n",
              "  (fc_1): Linear(in_features=16, out_features=32, bias=True)\n",
              "  (out): Linear(in_features=32, out_features=1, bias=True)\n",
              ")"
            ]
          },
          "metadata": {},
          "execution_count": 12
        }
      ],
      "source": [
        "# move model to device\n",
        "device = torch.device(\"cuda:0\" if torch.cuda.is_available() else \"cpu\")\n",
        "net.to(device)"
      ]
    },
    {
      "cell_type": "code",
      "execution_count": 13,
      "metadata": {
        "scrolled": true,
        "id": "xt_eXLhIhaIg",
        "colab": {
          "base_uri": "https://localhost:8080/"
        },
        "outputId": "f061d7f1-62eb-466b-f0d9-aab31f2f9926"
      },
      "outputs": [
        {
          "output_type": "stream",
          "name": "stdout",
          "text": [
            "Epochs: 0 | epoch avg. loss: 0.49 | validation avg. loss: 0.49\n",
            "Epochs: 1 | epoch avg. loss: 0.14 | validation avg. loss: 0.12\n",
            "Epochs: 2 | epoch avg. loss: 0.12 | validation avg. loss: 0.21\n",
            "Epochs: 3 | epoch avg. loss: 0.10 | validation avg. loss: 0.11\n"
          ]
        }
      ],
      "source": [
        "# training loop\n",
        "for total_epochs in range(epochs):\n",
        "    \n",
        "    epoch_loss = 0\n",
        "    total_graphs = 0\n",
        "    net.train()\n",
        "    for batch in trainloader:\n",
        "        batch.to(device)\n",
        "        optimizer.zero_grad()\n",
        "        output = net(batch)\n",
        "\n",
        "        # as this is a regression task (predict the polarizability) we use MSE as loss\n",
        "        loss = F.mse_loss(output, batch.y[:, target_idx].unsqueeze(1))\n",
        "        loss.backward()\n",
        "        epoch_loss += loss.item()\n",
        "        total_graphs += batch.num_graphs\n",
        "        optimizer.step()\n",
        "    \n",
        "    train_avg_loss = epoch_loss / total_graphs\n",
        "    val_loss = 0\n",
        "    total_graphs = 0\n",
        "    net.eval()\n",
        "    for batch in validloader:\n",
        "        batch.to(device)\n",
        "        output = net(batch)\n",
        "        loss = F.mse_loss(output,batch.y[:, target_idx].unsqueeze(1))\n",
        "        val_loss += loss.item()\n",
        "        total_graphs += batch.num_graphs\n",
        "    val_avg_loss = val_loss / total_graphs\n",
        "    \n",
        "    \n",
        "    print(f\"Epochs: {total_epochs} | epoch avg. loss: {train_avg_loss:.2f} | validation avg. loss: {val_avg_loss:.2f}\")"
      ]
    },
    {
      "cell_type": "code",
      "execution_count": 14,
      "metadata": {
        "scrolled": true,
        "id": "BG7kqG9yhaIh"
      },
      "outputs": [],
      "source": [
        "# performances on test set\n",
        "net.eval()\n",
        "predictions = []\n",
        "real = []\n",
        "\n",
        "for batch in testloader:\n",
        "    \n",
        "    output = net(batch.to(device))\n",
        "    predictions.append(output.detach().cpu().numpy())\n",
        "    real.append(batch.y[:, target_idx].detach().cpu().numpy())\n",
        "\n",
        "predictions = np.concatenate(predictions)\n",
        "real = np.concatenate(real)"
      ]
    },
    {
      "cell_type": "code",
      "execution_count": 15,
      "metadata": {
        "id": "HzBNDckShaIh",
        "colab": {
          "base_uri": "https://localhost:8080/",
          "height": 466
        },
        "outputId": "eff7a7d5-3df8-4fbf-9523-2134333932a8"
      },
      "outputs": [
        {
          "output_type": "execute_result",
          "data": {
            "text/plain": [
              "Text(0.5, 0, 'Isotropic polarizability')"
            ]
          },
          "metadata": {},
          "execution_count": 15
        },
        {
          "output_type": "display_data",
          "data": {
            "text/plain": [
              "<Figure size 640x480 with 1 Axes>"
            ],
            "image/png": "[encoded data removed]"
          },
          "metadata": {}
        }
      ],
      "source": [
        "import matplotlib.pyplot as plt\n",
        "\n",
        "\n",
        "plt.scatter(real[:500],predictions[:500])\n",
        "plt.ylabel('Predicted isotropic polarizability')\n",
        "plt.xlabel('Isotropic polarizability')"
      ]
    },
    {
      "cell_type": "code",
      "source": [
        " '''\n",
        " A possible solution\n",
        " conv1_net = nn.Sequential(nn.Linear(num_edge_features, 32),\n",
        "                                  nn.ReLU(),\n",
        "                                  nn.Linear(32, num_node_features*32))\n",
        "conv2_net = nn.Sequential(nn.Linear(num_edge_features,32),\n",
        "                          nn.ReLU(),\n",
        "                          nn.Linear(32, 32*16))\n",
        "'''"
      ],
      "metadata": {
        "id": "MTmDiEp4Kn1X"
      },
      "execution_count": null,
      "outputs": []
    }
  ],
  "metadata": {
    "kernelspec": {
      "display_name": "Python 3 (ipykernel)",
      "language": "python",
      "name": "python3"
    },
    "language_info": {
      "codemirror_mode": {
        "name": "ipython",
        "version": 3
      },
      "file_extension": ".py",
      "mimetype": "text/x-python",
      "name": "python",
      "nbconvert_exporter": "python",
      "pygments_lexer": "ipython3",
      "version": "3.9.6"
    },
    "colab": {
      "provenance": [],
      "include_colab_link": true
    },
    "accelerator": "GPU"
  },
  "nbformat": 4,
  "nbformat_minor": 0
}